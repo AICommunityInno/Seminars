{
 "cells": [
  {
   "cell_type": "markdown",
   "metadata": {},
   "source": [
    "# AI Community @ Семинар № 10, весна 2018\n",
    "## Deepfakes"
   ]
  },
  {
   "cell_type": "markdown",
   "metadata": {},
   "source": [
    "Основная идея: обучить для каждого из двух лиц свой декодер поверх одного и того же энкодера. Затем при предсказании прогоняем изображение оригинального лица через энкодер и раскодируем декодером для заменяемого лица"
   ]
  },
  {
   "cell_type": "markdown",
   "metadata": {},
   "source": [
    "#### Обучение\n",
    "<img src='images/training.png'>\n",
    "#### Генерация\n",
    "<img src='images/generation.png'>"
   ]
  },
  {
   "cell_type": "markdown",
   "metadata": {},
   "source": [
    "### Архитектуры сетей:\n",
    "#### Кодировщик:\n",
    "<img src='images/encoder.png'>\n",
    "#### Декодировщик:\n",
    "<img src='images/decoder_A.png'>\n",
    "PixelShuffler нужен только для изменения размерностей, и связка (Свёртка->PixelShuffler) работает как транспонированная свёртка: каждый их фильтров учится предсказывать соответствующий пиксель внутреннего представления"
   ]
  },
  {
   "cell_type": "markdown",
   "metadata": {},
   "source": [
    "### Улучшение\n",
    "Вообще, внутреннее представление автокодировщика в прошлой модели мы получаем на выходе после блока FC. Следующий за ним свёрточный слой принадлежит уже декодировщику, но, чтобы весов было поменьше, мы объединяем его для разных декодировщиков. \n",
    "Однако для улучшения качества этот слой перемещают в декодировщики. \n",
    "\n",
    "Ещё один момент: поскольку автокодировщик один, внутреннее представление для разных лиц определено в одном и том же пространстве. Чтобы этого избежать и научить сеть кодировать признаки, принадлежащие только одному из лиц, блок FC дублируются для оригинального лица и для замещающего:\n",
    "<img src='images/enhanced.png'>"
   ]
  }
 ],
 "metadata": {
  "kernelspec": {
   "display_name": "Python 3",
   "language": "python",
   "name": "python3"
  },
  "language_info": {
   "codemirror_mode": {
    "name": "ipython",
    "version": 3
   },
   "file_extension": ".py",
   "mimetype": "text/x-python",
   "name": "python",
   "nbconvert_exporter": "python",
   "pygments_lexer": "ipython3",
   "version": "3.6.1"
  },
  "latex_envs": {
   "LaTeX_envs_menu_present": true,
   "autocomplete": true,
   "bibliofile": "biblio.bib",
   "cite_by": "apalike",
   "current_citInitial": 1,
   "eqLabelWithNumbers": true,
   "eqNumInitial": 1,
   "hotkeys": {
    "equation": "Ctrl-E",
    "itemize": "Ctrl-I"
   },
   "labels_anchors": false,
   "latex_user_defs": false,
   "report_style_numbering": false,
   "user_envs_cfg": false
  }
 },
 "nbformat": 4,
 "nbformat_minor": 2
}
