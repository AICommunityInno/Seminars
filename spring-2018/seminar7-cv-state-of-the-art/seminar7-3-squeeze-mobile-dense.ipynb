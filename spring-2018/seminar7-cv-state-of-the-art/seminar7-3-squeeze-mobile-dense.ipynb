{
 "cells": [
  {
   "cell_type": "markdown",
   "metadata": {},
   "source": [
    "# AI Community @ Семинар № 7, весна 2018\n",
    "## State-of-the-art в компьютерном зрении. SqueezeNet, MobileNet, DenseNet"
   ]
  },
  {
   "cell_type": "markdown",
   "metadata": {},
   "source": [
    "## SqueezeNet [2017, ICLR]"
   ]
  },
  {
   "cell_type": "markdown",
   "metadata": {},
   "source": [
    "[SQUEEZENET: ALEXNET-LEVEL ACCURACY WITH 50X FEWER PARAMETERS AND <0.5MB MODEL SIZE](https://arxiv.org/abs/1602.07360)"
   ]
  },
  {
   "cell_type": "markdown",
   "metadata": {},
   "source": [
    "### Ключевые особенности"
   ]
  },
  {
   "cell_type": "markdown",
   "metadata": {},
   "source": [
    "SqueezeNet предлагает очень сжатую сеть с сохранением высокой точности классификации. Это дает:  \n",
    "1. Быстрее обучение\n",
    "1. Модели занимаеют меньше памяти -> легче передавать клиенту\n",
    "1. Возможность запускать на устройствах с малым объемом памяти (Raspberry Pi, FPGA, etc.)"
   ]
  },
  {
   "cell_type": "markdown",
   "metadata": {},
   "source": [
    "### Дизайн"
   ]
  },
  {
   "cell_type": "markdown",
   "metadata": {},
   "source": [
    "Для сжатия сети использованы следующие стратегии:\n",
    "1. Заменить свертки `3x3` на `1x1`\n",
    "1. Уменьшить кол-во входных каналов для оставшихся сверток `3x3`\n",
    "1. Уменьшать пространство в поздних слоях (для сохранения высокой точности)"
   ]
  },
  {
   "cell_type": "markdown",
   "metadata": {},
   "source": [
    "#### Fire module"
   ]
  },
  {
   "cell_type": "markdown",
   "metadata": {},
   "source": [
    "![SqueezeNet fire module](images/squeeze_fire_module.png)"
   ]
  },
  {
   "cell_type": "markdown",
   "metadata": {},
   "source": [
    "Состоит из одного `1x1` squeeze слоя (для уменьшения пространства карт), и двух expand слоев - один является сверткой `1x1`, а другой сверткой `3x3`. Squeeze слой ответственен за стратегию 2, уменьшая размерность входных карт для expand слоя.\n",
    "Для осуществления этого кол-во карт в слое squeeze $s_{1x1}$ должно быть меньше суммарного кол-ва карт в expand слоях ($e_{1x1}+e_{3x3}$)"
   ]
  },
  {
   "cell_type": "markdown",
   "metadata": {},
   "source": [
    "#### Финальная архитектура"
   ]
  },
  {
   "cell_type": "markdown",
   "metadata": {},
   "source": [
    "![Архитектура SqueezeNet](images/squeeze_architecture.png)"
   ]
  },
  {
   "cell_type": "markdown",
   "metadata": {},
   "source": [
    "### Результаты"
   ]
  },
  {
   "cell_type": "markdown",
   "metadata": {},
   "source": [
    "При определенных параметрах $s_{1x1}, e_{1x1}, e_{3x3}$ сеть достигает сжатия в 50x по сравнению с базовой архитектурой AlexNet. При этом точность top-1 и top-5 остаются прежними или даже лучше в некоторых случаях, чем у AlexNet."
   ]
  },
  {
   "cell_type": "markdown",
   "metadata": {},
   "source": [
    "Помимо этого, после применения техники [Deep Compression](https://arxiv.org/abs/1510.00149) сеть можно сжать еще в 10 раз, сохранив при этом точность классификации.  \n",
    "Финальная модель авторов содержит **510x** меньше весов, чем базовый AlexNet. Модель при этом имеет размер **0.47MB**, что очень удобно для поставки клиентам (например, в мобильное приложение)."
   ]
  },
  {
   "cell_type": "markdown",
   "metadata": {},
   "source": [
    "Также в сети становится намного меньше параметров. **~0.4 млн** против ~60 млн (в 50x меньше после применения дизайна SqueezeNet и еще 3x меньше после Deep Compression)."
   ]
  },
  {
   "cell_type": "markdown",
   "metadata": {},
   "source": [
    "Top-1 accuracy on ImageNet: **60.4%**  \n",
    "Top-5 accuracy on ImageNet: **82.5%**"
   ]
  },
  {
   "cell_type": "markdown",
   "metadata": {},
   "source": [
    "## MobileNet"
   ]
  },
  {
   "cell_type": "markdown",
   "metadata": {},
   "source": [
    "[MobileNets: Efficient Convolutional Neural Networks for Mobile Vision Applications](https://arxiv.org/abs/1704.04861)"
   ]
  },
  {
   "cell_type": "markdown",
   "metadata": {},
   "source": [
    "### Ключевые особенности"
   ]
  },
  {
   "cell_type": "markdown",
   "metadata": {},
   "source": [
    "1. Эффективная архитектура нейронной сети\n",
    "1. Набор из двух гиперпараметров, которые позволяют построить сеть под конкретные условия (задача, порог точности, железо)"
   ]
  },
  {
   "cell_type": "markdown",
   "metadata": {},
   "source": [
    "### Дизайн"
   ]
  },
  {
   "cell_type": "markdown",
   "metadata": {},
   "source": [
    "#### Depthwise separable convolution"
   ]
  },
  {
   "cell_type": "markdown",
   "metadata": {},
   "source": [
    "![Depthwise separable convolution](images/mobile_depthwise_conv.png)"
   ]
  },
  {
   "cell_type": "markdown",
   "metadata": {},
   "source": [
    "Стоимость обычной свертки: $D_K \\cdot D_K \\cdot M \\cdot N \\cdot D_F \\cdot D_F$  \n",
    "Стоимость depthwise separable convolution: $D_K \\cdot D_K \\cdot M \\cdot D_F \\cdot D_F + M \\cdot N \\cdot D_F \\cdot D_F$  \n",
    "Уменьшение стоимости: $\\frac{1}{N} + \\frac{1}{D^2_K}$"
   ]
  },
  {
   "cell_type": "markdown",
   "metadata": {},
   "source": [
    "#### Архитектура"
   ]
  },
  {
   "cell_type": "markdown",
   "metadata": {},
   "source": [
    "![Архитектура MobileNet](images/mobile_architecture.png)"
   ]
  },
  {
   "cell_type": "markdown",
   "metadata": {},
   "source": [
    "#### Width Multiplier"
   ]
  },
  {
   "cell_type": "markdown",
   "metadata": {},
   "source": [
    "Мы можем уменьшать стоимость вычислений, добавив параметр сжатия сверток $\\alpha \\in (0, 1]$. Тогда сложность вычислений depthwise separable convolution будет $D_K \\cdot D_K \\cdot \\alpha M \\cdot D_F \\cdot D_F + \\alpha M \\cdot \\alpha N \\cdot D_F \\cdot D_F$  \n",
    "При этом сложность уменьшается примерно в $\\alpha^2$"
   ]
  },
  {
   "cell_type": "markdown",
   "metadata": {},
   "source": [
    "#### Resolution Multiplier"
   ]
  },
  {
   "cell_type": "markdown",
   "metadata": {},
   "source": [
    "Также мы можем уменьшать размерность входных карт. Для этого используется параметр $\\rho$. Результирующая сложность представлена $D_K \\cdot D_K \\cdot \\alpha M \\cdot \\rho D_F \\cdot \\rho D_F + \\alpha M \\cdot \\alpha N \\cdot \\rho D_F \\cdot \\rho D_F$  \n",
    "Таким образом вычислительная сложность еще падает в $\\rho^2$ раз"
   ]
  },
  {
   "cell_type": "markdown",
   "metadata": {},
   "source": [
    "Top-1 accuracy on ImageNet: **70.6%**"
   ]
  }
 ],
 "metadata": {
  "kernelspec": {
   "display_name": "Python 3",
   "language": "python",
   "name": "python3"
  },
  "language_info": {
   "codemirror_mode": {
    "name": "ipython",
    "version": 3
   },
   "file_extension": ".py",
   "mimetype": "text/x-python",
   "name": "python",
   "nbconvert_exporter": "python",
   "pygments_lexer": "ipython3",
   "version": "3.6.4"
  }
 },
 "nbformat": 4,
 "nbformat_minor": 2
}
