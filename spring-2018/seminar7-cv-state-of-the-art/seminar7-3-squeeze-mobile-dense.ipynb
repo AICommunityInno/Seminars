{
 "cells": [
  {
   "cell_type": "markdown",
   "metadata": {},
   "source": [
    "# AI Community @ Семинар № 7, весна 2018\n",
    "## State-of-the-art в компьютерном зрении. SqueezeNet, MobileNet, DenseNet"
   ]
  },
  {
   "cell_type": "markdown",
   "metadata": {},
   "source": [
    "## SqueezeNet [2017, ICLR]"
   ]
  },
  {
   "cell_type": "markdown",
   "metadata": {},
   "source": [
    "[SQUEEZENET: ALEXNET-LEVEL ACCURACY WITH 50X FEWER PARAMETERS AND <0.5MB MODEL SIZE](https://arxiv.org/abs/1602.07360)"
   ]
  },
  {
   "cell_type": "markdown",
   "metadata": {},
   "source": [
    "### Ключевые плюсы"
   ]
  },
  {
   "cell_type": "markdown",
   "metadata": {},
   "source": [
    "SqueezeNet предлагает очень сжатую сеть с сохранением высокой точности классификации. Это дает:  \n",
    "1. Быстрее обучение\n",
    "1. Модели занимаеют меньше памяти -> легче передавать клиенту\n",
    "1. Возможность запускать на устройствах с малым объемом памяти (Raspberry Pi, FPGA, etc.)"
   ]
  },
  {
   "cell_type": "markdown",
   "metadata": {},
   "source": [
    "### Дизайн"
   ]
  },
  {
   "cell_type": "markdown",
   "metadata": {},
   "source": [
    "Для сжатия сети использованы следующие стратегии:\n",
    "1. Заменить свертки `3x3` на `1x1`\n",
    "1. Уменьшить кол-во входных каналов для оставшихся сверток `3x3`\n",
    "1. Уменьшать пространство в поздних слоях (для сохранения высокой точности)"
   ]
  },
  {
   "cell_type": "markdown",
   "metadata": {},
   "source": [
    "#### Fire module"
   ]
  },
  {
   "cell_type": "markdown",
   "metadata": {},
   "source": [
    "![SqueezeNet fire module](images/squeeze_fire_module.png)"
   ]
  },
  {
   "cell_type": "markdown",
   "metadata": {},
   "source": [
    "Состоит из одного `1x1` squeeze слоя (для уменьшения пространства карт), и двух expand слоев - один является сверткой `1x1`, а другой сверткой `3x3`. Squeeze слой ответственен за стратегию 2, уменьшая размерность входных карт для expand слоя.\n",
    "Для осуществления этого кол-во карт в слое squeeze $s_{1x1}$ должно быть меньше суммарного кол-ва карт в expand слоях ($e_{1x1}+e_{3x3}$)"
   ]
  },
  {
   "cell_type": "markdown",
   "metadata": {},
   "source": [
    "#### Финальная архитектура"
   ]
  },
  {
   "cell_type": "markdown",
   "metadata": {},
   "source": [
    "![Архитектура SqueezeNet](images/squeeze_architecture.png)"
   ]
  },
  {
   "cell_type": "markdown",
   "metadata": {},
   "source": [
    "### Результаты"
   ]
  },
  {
   "cell_type": "markdown",
   "metadata": {},
   "source": [
    "При определенных параметрах $s_{1x1}, e_{1x1}, e_{3x3}$ сеть достигает сжатия в 50x по сравнению с базовой архитектурой AlexNet. При этом точность top-1 и top-5 остаются прежними или даже лучше в некоторых случаях, чем у AlexNet."
   ]
  },
  {
   "cell_type": "markdown",
   "metadata": {},
   "source": [
    "Помимо этого, после применения техники [Deep Compression](https://arxiv.org/abs/1510.00149) сеть можно сжать еще в 10 раз, сохранив при этом точность классификации.  \n",
    "Финальная модель авторов содержит **510x** меньше весов, чем базовый AlexNet. Модель при этом имеет размер **0.47MB**, что очень удобно для поставки клиентам (например, в мобильное приложение)."
   ]
  },
  {
   "cell_type": "markdown",
   "metadata": {},
   "source": [
    "Также в сети становится намного меньше параметров. **~0.4 млн** против ~60 млн (в 50x меньше после применения дизайна SqueezeNet и еще 3x меньше после Deep Compression)."
   ]
  },
  {
   "cell_type": "markdown",
   "metadata": {},
   "source": [
    "Top-1 accuracy: **60.4%**  \n",
    "Top-5 accuracy: **82.5%**"
   ]
  }
 ],
 "metadata": {
  "kernelspec": {
   "display_name": "Python 3",
   "language": "python",
   "name": "python3"
  },
  "language_info": {
   "codemirror_mode": {
    "name": "ipython",
    "version": 3
   },
   "file_extension": ".py",
   "mimetype": "text/x-python",
   "name": "python",
   "nbconvert_exporter": "python",
   "pygments_lexer": "ipython3",
   "version": "3.6.4"
  }
 },
 "nbformat": 4,
 "nbformat_minor": 2
}
