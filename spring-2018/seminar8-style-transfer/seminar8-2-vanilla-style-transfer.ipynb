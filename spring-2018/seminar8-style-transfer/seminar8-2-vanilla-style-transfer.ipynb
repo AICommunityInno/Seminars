{
 "cells": [
  {
   "cell_type": "markdown",
   "metadata": {},
   "source": [
    "# AI Community @ Семинар № 8, весна 2018\n",
    "## Style transfer."
   ]
  },
  {
   "cell_type": "markdown",
   "metadata": {},
   "source": [
    "Обратимся к предыдущей тетрадке. В ней мы пытались восстановить текстуру из данного распредления. При этом мы пользовались $L = \\sum_l w_{style,l} E_{style, l}$. Изменим задачу. Нам так же дают текстуру, но еще добавляют другое изображение $O$. Наша цель перенести стиль изображения-текстуры на изображение О."
   ]
  },
  {
   "cell_type": "markdown",
   "metadata": {},
   "source": [
    "Пример:\n",
    "<img src='images/starry_night_transfer.png'>"
   ]
  },
  {
   "cell_type": "markdown",
   "metadata": {},
   "source": [
    "Так же изменим функцию ошибки, а именно добавим часть, которая будут отвечать за оригинал изображения:\n",
    "$$E_{content,l} = w_{content} \\sum_l (F_{content}^l - F_{gen}^l)^2$$, где $F_{content}^l$ - сохраненная карта признаков оригинального изображения $O$ на слое $l$, $F_{gen}^l$ - карта признаков генерируемого изображения на слое $l$, $w_{content}$ - вес изображения $O$ в финальном лоссе. Тогда:\n",
    "$$L = \\sum_l w_{style,l} E_{style, l} + E_{content,l}$$\n",
    "Это значение мы и будем оптимизировать."
   ]
  },
  {
   "cell_type": "code",
   "execution_count": null,
   "metadata": {
    "collapsed": true
   },
   "outputs": [],
   "source": []
  }
 ],
 "metadata": {
  "kernelspec": {
   "display_name": "Python 3",
   "language": "python",
   "name": "python3"
  },
  "language_info": {
   "codemirror_mode": {
    "name": "ipython",
    "version": 3
   },
   "file_extension": ".py",
   "mimetype": "text/x-python",
   "name": "python",
   "nbconvert_exporter": "python",
   "pygments_lexer": "ipython3",
   "version": "3.6.1"
  }
 },
 "nbformat": 4,
 "nbformat_minor": 2
}
