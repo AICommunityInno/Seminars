{
 "cells": [
  {
   "cell_type": "code",
   "execution_count": 7,
   "metadata": {},
   "outputs": [],
   "source": [
    "import pandas as pd\n",
    "import numpy as np"
   ]
  },
  {
   "cell_type": "markdown",
   "metadata": {},
   "source": [
    "### Семинар 1. Введение в NLP\n",
    "Задача: классификация текстов.  \n",
    "Идея: Посмотрим, какие слова встречаются наиболее часто, и будем определять по ним"
   ]
  },
  {
   "cell_type": "code",
   "execution_count": 35,
   "metadata": {
    "scrolled": true
   },
   "outputs": [
    {
     "data": {
      "text/html": [
       "<div>\n",
       "<style>\n",
       "    .dataframe thead tr:only-child th {\n",
       "        text-align: right;\n",
       "    }\n",
       "\n",
       "    .dataframe thead th {\n",
       "        text-align: left;\n",
       "    }\n",
       "\n",
       "    .dataframe tbody tr th {\n",
       "        vertical-align: top;\n",
       "    }\n",
       "</style>\n",
       "<table border=\"1\" class=\"dataframe\">\n",
       "  <thead>\n",
       "    <tr style=\"text-align: right;\">\n",
       "      <th></th>\n",
       "      <th>Unnamed: 0</th>\n",
       "      <th>text</th>\n",
       "      <th>is_female</th>\n",
       "    </tr>\n",
       "  </thead>\n",
       "  <tbody>\n",
       "    <tr>\n",
       "      <th>0</th>\n",
       "      <td>0</td>\n",
       "      <td></td>\n",
       "      <td>True</td>\n",
       "    </tr>\n",
       "    <tr>\n",
       "      <th>1</th>\n",
       "      <td>1</td>\n",
       "      <td>Отлично!</td>\n",
       "      <td>False</td>\n",
       "    </tr>\n",
       "    <tr>\n",
       "      <th>2</th>\n",
       "      <td>2</td>\n",
       "      <td>https://telegram.me/joinchat/AjKh-0GHAsjVpK5Nw...</td>\n",
       "      <td>False</td>\n",
       "    </tr>\n",
       "    <tr>\n",
       "      <th>3</th>\n",
       "      <td>3</td>\n",
       "      <td>Драконы!</td>\n",
       "      <td>False</td>\n",
       "    </tr>\n",
       "    <tr>\n",
       "      <th>4</th>\n",
       "      <td>4</td>\n",
       "      <td></td>\n",
       "      <td>False</td>\n",
       "    </tr>\n",
       "  </tbody>\n",
       "</table>\n",
       "</div>"
      ],
      "text/plain": [
       "   Unnamed: 0                                               text  is_female\n",
       "0           0                                                          True\n",
       "1           1                                           Отлично!      False\n",
       "2           2  https://telegram.me/joinchat/AjKh-0GHAsjVpK5Nw...      False\n",
       "3           3                                           Драконы!      False\n",
       "4           4                                                         False"
      ]
     },
     "execution_count": 35,
     "metadata": {},
     "output_type": "execute_result"
    }
   ],
   "source": [
    "df = pd.read_csv('./important_conversations.csv').fillna(\"\")\n",
    "df.head()"
   ]
  },
  {
   "cell_type": "markdown",
   "metadata": {},
   "source": [
    "#### Необходимые вещи из тервера\n",
    "$P(A)$ - вероятность события A  \n",
    "$P(A \\cap B)$ - вероятность, что A и B   \n",
    "$P(A|B)$ - вероятность события А при условии, что произошло B\n",
    "\n",
    "$$P(A|B) = \\frac{P(A \\cap B)}{P(B)}$$\n",
    "\n",
    "Формула Байеса\n",
    "\n",
    "$$P(B|A) = \\frac{P(A | B)P(B)}{P(A)}$$\n",
    "\n",
    "Пример задачи:\n",
    "По статистике, у 80% нормосных девушек есть молодой человек. При этом, среди всех девушек 60% нормосные и у 50% есть молодой человек. Ваш друг сказал, что познакомит вас с одинокой девушкой. Какова вероятность, что она будет нормосной?\n",
    "\n",
    "#### Naive Bayes\n",
    "$$P(Class = c|Message = d) = \\frac{P(Message = d | Class = c)P(Class = c)}{P(Message = d)}$$\n",
    "Соответственно, чтобы определить класс сообщения $d$, выбираем класс $c$ такой, чтобы $P(Class = c|Message = d)$ была максимальной. \n",
    "$$P(c|d) = \\frac{P(d|c)P(c)}{P(d)} \\propto P(d|c)P(c) \\propto \\prod P(w_i|c)P(c)$$\n",
    "$P(w_i|c)$ - вероятность того, что в сообщении из класса $c$ встретится встретится слово $w_i$ "
   ]
  },
  {
   "cell_type": "code",
   "execution_count": 9,
   "metadata": {
    "collapsed": true
   },
   "outputs": [],
   "source": [
    "import nltk"
   ]
  },
  {
   "cell_type": "code",
   "execution_count": 10,
   "metadata": {
    "collapsed": true
   },
   "outputs": [],
   "source": [
    "messages = [item.split() for item in df.text]\n",
    "words_flatten = [w for message in messages for w in message]"
   ]
  },
  {
   "cell_type": "code",
   "execution_count": 11,
   "metadata": {
    "collapsed": true
   },
   "outputs": [],
   "source": [
    "all_words = nltk.FreqDist(w.lower() for w in words_flatten)"
   ]
  },
  {
   "cell_type": "code",
   "execution_count": 45,
   "metadata": {
    "collapsed": true
   },
   "outputs": [
    {
     "data": {
      "text/plain": [
       "[('в', 6205),\n",
       " ('не', 5495),\n",
       " ('и', 5182),\n",
       " ('на', 3259),\n",
       " ('что', 2970),\n",
       " ('я', 2888),\n",
       " ('а', 2712),\n",
       " ('это', 2384),\n",
       " ('у', 2162),\n",
       " ('с', 2024),\n",
       " ('как', 1697),\n",
       " ('там', 1390),\n",
       " ('по', 1325),\n",
       " ('ты', 1305),\n",
       " ('ну', 1283),\n",
       " ('так', 1224),\n",
       " ('-', 1144),\n",
       " ('но', 1139),\n",
       " ('он', 1019),\n",
       " ('все', 1012),\n",
       " ('то', 962),\n",
       " ('есть', 943),\n",
       " ('за', 871),\n",
       " ('же', 862),\n",
       " ('если', 859),\n",
       " ('из', 798),\n",
       " ('меня', 738),\n",
       " ('вот', 720),\n",
       " ('да', 710),\n",
       " ('просто', 694),\n",
       " ('уже', 690),\n",
       " ('для', 682),\n",
       " ('они', 676),\n",
       " ('только', 669),\n",
       " ('к', 653),\n",
       " ('мне', 642),\n",
       " ('нет', 641),\n",
       " ('или', 621),\n",
       " ('можно', 612),\n",
       " ('бы', 611),\n",
       " ('тут', 573),\n",
       " ('еще', 556),\n",
       " ('про', 555),\n",
       " ('от', 546),\n",
       " ('будет', 530),\n",
       " ('тоже', 530),\n",
       " ('нас', 508),\n",
       " ('надо', 490),\n",
       " ('его', 485),\n",
       " ('было', 484)]"
      ]
     },
     "execution_count": 45,
     "metadata": {},
     "output_type": "execute_result"
    }
   ],
   "source": [
    "all_words.most_common(50)"
   ]
  },
  {
   "cell_type": "code",
   "execution_count": 40,
   "metadata": {
    "collapsed": true
   },
   "outputs": [],
   "source": [
    "word_features = [item[0] for item in all_words.most_common(500)]\n",
    "def document_features(document):\n",
    "    document_words = set(document)\n",
    "    features = {}\n",
    "    for word in word_features:\n",
    "        features['contains({})'.format(word)] = (word in document_words)\n",
    "    return features"
   ]
  },
  {
   "cell_type": "code",
   "execution_count": 42,
   "metadata": {},
   "outputs": [],
   "source": [
    "featuresets = [(document_features(d), c) for (d,c) in zip(messages,df.is_female)]"
   ]
  },
  {
   "cell_type": "code",
   "execution_count": 43,
   "metadata": {
    "collapsed": true
   },
   "outputs": [],
   "source": [
    "train_set, test_set = featuresets[5000:], featuresets[:5000]\n",
    "classifier = nltk.NaiveBayesClassifier.train(train_set)"
   ]
  },
  {
   "cell_type": "code",
   "execution_count": 44,
   "metadata": {},
   "outputs": [
    {
     "name": "stdout",
     "output_type": "stream",
     "text": [
      "0.9396\n"
     ]
    }
   ],
   "source": [
    "print(nltk.classify.accuracy(classifier, test_set))"
   ]
  },
  {
   "cell_type": "code",
   "execution_count": 65,
   "metadata": {},
   "outputs": [
    {
     "name": "stdout",
     "output_type": "stream",
     "text": [
      "Most Informative Features\n",
      "            contains(:)) = True            False : True   =      6.7 : 1.0\n",
      "         contains(чтобы) = True            False : True   =      6.1 : 1.0\n",
      "        contains(ребят,) = True             True : False  =      5.9 : 1.0\n",
      "             contains(7) = True             True : False  =      5.0 : 1.0\n",
      "             contains(>) = True            False : True   =      4.8 : 1.0\n",
      "          contains(чтоб) = True            False : True   =      4.7 : 1.0\n",
      "            contains(её) = True            False : True   =      4.7 : 1.0\n",
      "        contains(питере) = True             True : False  =      4.6 : 1.0\n",
      "         contains(итоге) = True             True : False  =      4.6 : 1.0\n",
      "       contains(климчик) = True             True : False  =      4.6 : 1.0\n",
      "        contains(россии) = True             True : False  =      4.4 : 1.0\n",
      "          contains(олег) = True             True : False  =      4.4 : 1.0\n",
      "          contains(ага,) = True             True : False  =      4.3 : 1.0\n",
      "             contains(😂) = True             True : False  =      4.3 : 1.0\n",
      "           contains(же,) = True            False : True   =      4.2 : 1.0\n",
      "      contains(роботикс) = True             True : False  =      4.2 : 1.0\n",
      "           contains(ещё) = True            False : True   =      4.1 : 1.0\n",
      "         contains(давай) = True             True : False  =      4.0 : 1.0\n",
      "           contains(всё) = True            False : True   =      3.8 : 1.0\n",
      "         contains(давно) = True            False : True   =      3.6 : 1.0\n",
      "           contains(топ) = True             True : False  =      3.6 : 1.0\n",
      "      contains(особенно) = True             True : False  =      3.5 : 1.0\n",
      "          contains(кого) = True             True : False  =      3.4 : 1.0\n",
      "        contains(другой) = True            False : True   =      3.4 : 1.0\n",
      "            contains(:() = True            False : True   =      3.4 : 1.0\n",
      "         contains(могут) = True            False : True   =      3.4 : 1.0\n",
      "             contains(?) = True             True : False  =      3.4 : 1.0\n",
      "          contains(прям) = True             True : False  =      3.4 : 1.0\n",
      "        contains(сказал) = True             True : False  =      3.3 : 1.0\n",
      "         contains(костя) = True             True : False  =      3.3 : 1.0\n",
      "            contains(in) = True            False : True   =      3.2 : 1.0\n",
      "         contains(понял) = True            False : True   =      3.2 : 1.0\n",
      "        contains(одного) = True            False : True   =      3.2 : 1.0\n",
      "          contains(это?) = True             True : False  =      3.1 : 1.0\n",
      "      contains(какой-то) = True            False : True   =      3.1 : 1.0\n",
      "         contains(есть,) = True            False : True   =      3.0 : 1.0\n",
      "            contains(ой) = True             True : False  =      3.0 : 1.0\n",
      "        contains(понял,) = True            False : True   =      3.0 : 1.0\n",
      "         contains(того,) = True            False : True   =      3.0 : 1.0\n",
      "           contains(ага) = True             True : False  =      2.9 : 1.0\n",
      "        contains(второй) = True            False : True   =      2.9 : 1.0\n",
      "           contains(the) = True            False : True   =      2.9 : 1.0\n",
      "        contains(казани) = True             True : False  =      2.9 : 1.0\n",
      "        contains(писать) = True             True : False  =      2.9 : 1.0\n",
      "             contains(4) = True             True : False  =      2.9 : 1.0\n",
      "           contains(мог) = True            False : True   =      2.8 : 1.0\n",
      "           contains(you) = True            False : True   =      2.8 : 1.0\n",
      "         contains(из-за) = True            False : True   =      2.8 : 1.0\n",
      "         contains(часть) = True            False : True   =      2.8 : 1.0\n",
      "       contains(говорит) = True            False : True   =      2.8 : 1.0\n"
     ]
    }
   ],
   "source": [
    "classifier.show_most_informative_features(50) "
   ]
  },
  {
   "cell_type": "markdown",
   "metadata": {},
   "source": [
    "#### Стемминг и лемматизация\n",
    "Лемматизация - разделение предложения на термы (слова, знаки препинания и т.д)\n",
    "Стемминг - приведение слов в начальную форму"
   ]
  },
  {
   "cell_type": "code",
   "execution_count": 110,
   "metadata": {
    "collapsed": true
   },
   "outputs": [],
   "source": [
    "from nltk import SnowballStemmer\n",
    "stemmer = SnowballStemmer('english')"
   ]
  },
  {
   "cell_type": "code",
   "execution_count": 119,
   "metadata": {},
   "outputs": [
    {
     "data": {
      "text/plain": [
       "'chip'"
      ]
     },
     "execution_count": 119,
     "metadata": {},
     "output_type": "execute_result"
    }
   ],
   "source": [
    "stemmer.stem('chips')"
   ]
  },
  {
   "cell_type": "code",
   "execution_count": 104,
   "metadata": {
    "collapsed": true
   },
   "outputs": [],
   "source": [
    "from pymystem3 import Mystem\n",
    "mystem = Mystem()"
   ]
  },
  {
   "cell_type": "code",
   "execution_count": 105,
   "metadata": {
    "scrolled": true
   },
   "outputs": [
    {
     "data": {
      "text/plain": [
       "[{'analysis': [{'gr': 'PR=', 'lex': 'через'}], 'text': 'через'},\n",
       " {'text': ' '},\n",
       " {'analysis': [{'gr': 'S,муж,неод=род,ед', 'lex': 'бот'}], 'text': 'бота'},\n",
       " {'text': ' '},\n",
       " {'analysis': [{'gr': 'SPRO,ед,1-л=(пр|дат)', 'lex': 'я'}], 'text': 'мне'},\n",
       " {'text': ' '},\n",
       " {'analysis': [{'gr': 'SPRO,ед,сред,неод=(вин|им)', 'lex': 'что-то'}],\n",
       "  'text': 'что-то'},\n",
       " {'text': ' '},\n",
       " {'analysis': [{'gr': 'PR=', 'lex': 'про'}], 'text': 'про'},\n",
       " {'text': ' '},\n",
       " {'analysis': [{'gr': 'S,сред,неод=(пр,мн|пр,ед|вин,мн|вин,ед|дат,мн|дат,ед|род,мн|род,ед|твор,мн|твор,ед|им,мн|им,ед)',\n",
       "    'lex': 'зимбабве'}],\n",
       "  'text': 'Зимбабве'},\n",
       " {'text': ' '},\n",
       " {'analysis': [{'gr': 'V,пе=непрош,ед,изъяв,3-л,несов', 'lex': 'выдавать'}],\n",
       "  'text': 'выдает'},\n",
       " {'text': ', '},\n",
       " {'analysis': [{'gr': 'CONJ=', 'lex': 'а'}], 'text': 'а'},\n",
       " {'text': ' '},\n",
       " {'analysis': [{'gr': 'PR=', 'lex': 'на'}], 'text': 'на'},\n",
       " {'text': ' '},\n",
       " {'analysis': [{'gr': 'S,муж,неод=пр,ед', 'lex': 'сайт'}], 'text': 'сайте'},\n",
       " {'text': ' '},\n",
       " {'analysis': [{'gr': 'PR=', 'lex': 'про'}], 'text': 'про'},\n",
       " {'text': ' '},\n",
       " {'analysis': [{'gr': 'S,муж,неод=(вин,ед|им,ед)', 'lex': 'синдром'}],\n",
       "  'text': 'синдром'},\n",
       " {'text': ' '},\n",
       " {'analysis': [{'gr': 'S,имя,муж,од=(вин,ед|род,ед)',\n",
       "    'lex': 'кунис',\n",
       "    'qual': 'bastard'}],\n",
       "  'text': 'Куниса'},\n",
       " {'text': '\\n'}]"
      ]
     },
     "execution_count": 105,
     "metadata": {},
     "output_type": "execute_result"
    }
   ],
   "source": [
    "mystem.analyze('через бота мне что-то про Зимбабве выдает, а на сайте про синдром Куниса')\n",
    "#Расшифровки: https://tech.yandex.ru/mystem/doc/grammemes-values-docpage/"
   ]
  },
  {
   "cell_type": "markdown",
   "metadata": {},
   "source": [
    "Стоп-слова - незначащие слова, которые могут вносить помехи в классификатор, обычно их лучше вырезать"
   ]
  },
  {
   "cell_type": "code",
   "execution_count": 1,
   "metadata": {
    "collapsed": true
   },
   "outputs": [],
   "source": [
    "from nltk.corpus import stopwords"
   ]
  },
  {
   "cell_type": "code",
   "execution_count": 14,
   "metadata": {
    "collapsed": true
   },
   "outputs": [],
   "source": [
    "sw = stopwords.words('russian')"
   ]
  },
  {
   "cell_type": "code",
   "execution_count": 50,
   "metadata": {},
   "outputs": [],
   "source": [
    "messages = [item.lower.split() for item in df.text]\n",
    "words_flatten = [w for message in messages for w in message if w not in sw]"
   ]
  },
  {
   "cell_type": "code",
   "execution_count": 51,
   "metadata": {
    "collapsed": true
   },
   "outputs": [],
   "source": [
    "all_words = nltk.FreqDist(w.lower() for w in words_flatten)"
   ]
  },
  {
   "cell_type": "code",
   "execution_count": 52,
   "metadata": {},
   "outputs": [
    {
     "name": "stdout",
     "output_type": "stream",
     "text": [
      "0.9398\n"
     ]
    }
   ],
   "source": [
    "word_features = [item[0] for item in all_words.most_common(500)]\n",
    "featuresets = [(document_features(d), c) for (d,c) in zip(messages,df.is_female)]\n",
    "train_set, test_set = featuresets[5000:], featuresets[:5000]\n",
    "classifier = nltk.NaiveBayesClassifier.train(train_set)\n",
    "print(nltk.classify.accuracy(classifier, test_set))"
   ]
  },
  {
   "cell_type": "code",
   "execution_count": null,
   "metadata": {
    "collapsed": true
   },
   "outputs": [],
   "source": []
  }
 ],
 "metadata": {
  "kernelspec": {
   "display_name": "Python 3",
   "language": "python",
   "name": "python3"
  },
  "language_info": {
   "codemirror_mode": {
    "name": "ipython",
    "version": 3
   },
   "file_extension": ".py",
   "mimetype": "text/x-python",
   "name": "python",
   "nbconvert_exporter": "python",
   "pygments_lexer": "ipython3",
   "version": "3.6.1"
  },
  "latex_envs": {
   "LaTeX_envs_menu_present": true,
   "autocomplete": true,
   "bibliofile": "biblio.bib",
   "cite_by": "apalike",
   "current_citInitial": 1,
   "eqLabelWithNumbers": true,
   "eqNumInitial": 1,
   "hotkeys": {
    "equation": "Ctrl-E",
    "itemize": "Ctrl-I"
   },
   "labels_anchors": false,
   "latex_user_defs": false,
   "report_style_numbering": false,
   "user_envs_cfg": false
  }
 },
 "nbformat": 4,
 "nbformat_minor": 2
}
