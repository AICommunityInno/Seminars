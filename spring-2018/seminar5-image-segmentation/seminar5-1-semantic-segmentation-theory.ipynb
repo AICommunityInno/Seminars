{
 "cells": [
  {
   "cell_type": "markdown",
   "metadata": {},
   "source": [
    "# AI Community @ Семинар № 5, весна 2018\n",
    "## Семантическая сегментация. Концепция, примеры: U-Net, SegNet."
   ]
  },
  {
   "cell_type": "markdown",
   "metadata": {},
   "source": [
    "![](data/road_segmentation.png)\n",
    "[Источник](https://towardsdatascience.com/training-road-scene-segmentation-on-cityscapes-with-supervisely-tensorflow-and-unet-1232314781a8)"
   ]
  },
  {
   "cell_type": "markdown",
   "metadata": {},
   "source": [
    "# Концепция"
   ]
  },
  {
   "cell_type": "markdown",
   "metadata": {},
   "source": [
    "## Определения"
   ]
  },
  {
   "cell_type": "markdown",
   "metadata": {},
   "source": [
    "**Сегментация** - задача компьютерного зрения, при которой необходимо не только определить класс объекта, но и локализовать его с точностью до пикселя на изображении.  \n",
    "**Семантическая сегментация** - вид сегментации, при котором необходимо локализовать объекты определенных классов (по смыслу), при это не разделяя объекты между собой."
   ]
  },
  {
   "cell_type": "markdown",
   "metadata": {},
   "source": [
    "## Методы"
   ]
  },
  {
   "cell_type": "markdown",
   "metadata": {},
   "source": [
    "Задача сегментации существует с момента зарождения компьютерного зрения. Классическое компьютерное зрение предлагает следующие варианты решения задачи:\n",
    "1. Метод k-средних при кластеризации по цветам\n",
    "1. Методы, основанные на гистограммах\n",
    "1. [Graph Cuts методы](http://www.csd.uwo.ca/courses/CS4487a/HW3/hw3.html)\n",
    "1. [Watershed метод](https://en.wikipedia.org/wiki/Watershed_(image_processing)\n",
    "1. И др.\n",
    "\n",
    "Классические метода эффективны в плане времени исполнения, но имеют низкое качество на сложных задачах сегментации, таких как сегментация дорожной обстановки. На этом занятии мы будем рассматривать только современные подходы, основанные на глубоком обучении. Классические алгоритмы остаются материалом для самостоятельного изучения. Но никто не говорит, что их не нужно изучать - они могут быть эффективно применены в более простых задачах."
   ]
  },
  {
   "cell_type": "markdown",
   "metadata": {},
   "source": [
    "## Что предсказываем"
   ]
  },
  {
   "cell_type": "markdown",
   "metadata": {},
   "source": [
    "*Вход*: как правило в модель подаются изображения (RGB/одноканальные/другое)  \n",
    "*Выход*: обычно ожидается одноканальное изображение того же размера, что и вход. В этом изображении в каждом пикселе записываются метки классов объектов, которые необходимо сегментировать."
   ]
  },
  {
   "cell_type": "markdown",
   "metadata": {},
   "source": [
    "Пример меток классов:\n",
    "![Пример классов](data/road_classes.png)\n",
    "[Источник](https://www.mathworks.com/help/vision/ug/semantic-segmentation-examples.html)"
   ]
  },
  {
   "cell_type": "markdown",
   "metadata": {},
   "source": [
    "## Как оцениваем"
   ]
  },
  {
   "cell_type": "markdown",
   "metadata": {},
   "source": [
    "Из наиболее популярных способов оценки точности сегментации можно выделить следующие два:\n",
    "1. Для многоклассовой сегментации в качестве функции ошибки можно использовать Categorical Crossentropy. Соответственно в качестве метрики следует взять [многоклассовый F1-score](http://scikit-learn.org/stable/modules/generated/sklearn.metrics.f1_score.html)\n",
    "1. Для бинарной сегментации можно использовать Binary Crossentropy, а в качестве метрики взять F1-score или [Dice coefficient](https://en.wikipedia.org/wiki/S%C3%B8rensen%E2%80%93Dice_coefficient)\n",
    "1. Так же для бинарной сегментации в качестве функции ошибки можно напрямую использовать отрицание Dice коэффициента."
   ]
  },
  {
   "cell_type": "markdown",
   "metadata": {},
   "source": [
    "# Популярные архитектуры"
   ]
  },
  {
   "cell_type": "markdown",
   "metadata": {},
   "source": [
    "## U-Net"
   ]
  },
  {
   "cell_type": "markdown",
   "metadata": {},
   "source": []
  }
 ],
 "metadata": {
  "kernelspec": {
   "display_name": "Python 3",
   "language": "python",
   "name": "python3"
  }
 },
 "nbformat": 4,
 "nbformat_minor": 2
}
