{
 "cells": [
  {
   "cell_type": "markdown",
   "metadata": {},
   "source": [
    "# RNN - Recurrent Neural Networks"
   ]
  },
  {
   "cell_type": "markdown",
   "metadata": {},
   "source": [
    "## Обратная связь\n",
    "![RNN](./images/rnn_1.png)"
   ]
  },
  {
   "cell_type": "markdown",
   "metadata": {},
   "source": [
    "## Развернем цикл\n",
    "![](images/rnn_2.png)"
   ]
  },
  {
   "cell_type": "markdown",
   "metadata": {},
   "source": [
    "## Что внутри?\n",
    "![](images/rnn_3.png)"
   ]
  },
  {
   "cell_type": "markdown",
   "metadata": {},
   "source": [
    "Но это работает плохо, когда нужно вспомнить что-то, что было давно [2]."
   ]
  },
  {
   "cell_type": "markdown",
   "metadata": {},
   "source": [
    "# LSTM - Long Short-Term Memory [3]"
   ]
  },
  {
   "cell_type": "markdown",
   "metadata": {},
   "source": [
    "## Что внутри?\n",
    "![](images/lstm_1.png)"
   ]
  },
  {
   "cell_type": "markdown",
   "metadata": {},
   "source": [
    "## Забывание\n",
    "![](./images/lstm_2.png)"
   ]
  },
  {
   "cell_type": "markdown",
   "metadata": {},
   "source": [
    "## Запоминание\n",
    "![](./images/lstm_3.png)"
   ]
  },
  {
   "cell_type": "markdown",
   "metadata": {},
   "source": [
    "## Обновление состояния\n",
    "![](./images/lstm_4.png)"
   ]
  },
  {
   "cell_type": "markdown",
   "metadata": {},
   "source": [
    "## Предсказание\n",
    "![](./images/lstm_5.png)"
   ]
  },
  {
   "cell_type": "markdown",
   "metadata": {},
   "source": [
    "# Другие виды LSTM"
   ]
  },
  {
   "cell_type": "markdown",
   "metadata": {},
   "source": [
    "## Peephole LSTM [4]\n",
    "![](./images/lstm_peephole.png)"
   ]
  },
  {
   "cell_type": "markdown",
   "metadata": {},
   "source": [
    "## Еще одна LSTM\n",
    "### Запоминаем только тогда, когда забываем\n",
    "![](./images/lstm_other.png)"
   ]
  },
  {
   "cell_type": "markdown",
   "metadata": {},
   "source": [
    "## GRU - Gated Recurrent Unit [5]\n",
    "![](./images/gru.png)"
   ]
  },
  {
   "cell_type": "markdown",
   "metadata": {},
   "source": [
    "Ссылки:\n",
    "* [Почти все отсюда](http://colah.github.io/posts/2015-08-Understanding-LSTMs/)\n",
    "* [Почему RNN не учит долгосрочные зависимости](http://ai.dinfo.unifi.it/paolo/ps/tnn-94-gradient.pdf)\n",
    "* [Оригинальная статья про LSTM](https://www.researchgate.net/publication/13853244_Long_Short-term_Memory)\n",
    "* [Peephole LSTM](ftp://ftp.idsia.ch/pub/juergen/TimeCount-IJCNN2000.pdf)\n",
    "* [GRU](https://arxiv.org/pdf/1406.1078v3.pdf)"
   ]
  }
 ],
 "metadata": {
  "kernelspec": {
   "display_name": "Python 3",
   "language": "python",
   "name": "python3"
  },
  "language_info": {
   "codemirror_mode": {
    "name": "ipython",
    "version": 3
   },
   "file_extension": ".py",
   "mimetype": "text/x-python",
   "name": "python",
   "nbconvert_exporter": "python",
   "pygments_lexer": "ipython3",
   "version": "3.6.0"
  }
 },
 "nbformat": 4,
 "nbformat_minor": 2
}
