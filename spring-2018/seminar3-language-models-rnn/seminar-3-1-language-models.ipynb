{
 "cells": [
  {
   "cell_type": "markdown",
   "metadata": {},
   "source": [
    "# AI Community @ Семинар № 3, весна 2018\n",
    "## Языковые модели\n",
    "На прошлых занятиях мы смотрели на документ как на набор тремов. На этом занятии мы рассмотрим их с другой стороны — на языке (pun not intended) языковых моделей.  \n",
    "__(Униграмной) языковой моделью__ документа будем называть распределение вероятностей встретить в документе его термы. Пусть $V$ — словарь термов, $w \\in V$ — слово, тогда $P_d(w)$ — языковая модель документа $d$.  \n",
    "По сути, это определение эквивалентно использованию мешка слов с отнормированными весами слов относительно их частоты:  \n",
    "$$ d = \\text{\"Ехал Грека через реку, видит Грека в реке рак.\"}  $$\n",
    "$$ |d| = 9 $$\n",
    "$$ P_d(\\text{\"Грека\"}) = \\frac{2}{9} $$\n",
    "$$ P_d(\\text{\"через\"}) = \\frac{1}{9} $$\n",
    "Усложним. __n-грамной__ языковой моделью называется распределение вероятностей на кортежах слов из $n$ термов ($P_d(w_1, ..., w_n)$). Вот пример биграмной модели:\n",
    "$$ P_d(\\text{\"Грека\"}, \\text{\"в\"}) = \\frac{1}{8}$$ \n",
    "$$ P_d(\\text{\"сунул\"}, \\text{\"Грека\"}) = \\frac{1}{8}$$\n",
    "Далее индекс конкретного документа опустим.  \n",
    "Если вспомнить определение условной вероятности, то можно выписать следующее:\n",
    "$$ P(w_1, \\dots, w_n) = P(w_1) \\cdot P(w_2 | w_1) \\cdot \\dots \\cdot P(w_n | w_1, \\dots, w_{n-1}) = \\prod_{i = 1}^{|d|} P(w_t | w_1, \\dots, w_{t-1})$$\n",
    "Таким образом, задача построения такой модели сводится к нахождению распределения следующего слова при условии того, что известны ему предшествующие."
   ]
  },
  {
   "cell_type": "markdown",
   "metadata": {},
   "source": [
    "Рассмотрим на практике. Библиотека PyMarkovChain строит по тексту его биграмную и униграмную языковые модели, а затем строит граф между всеми словами в документе. От $w_i$ до $w_j$ проводится ребро, если в тексте есть хотя бы одна биграмма $w_i, w_j$, а ее вес равен $P(w_j | w_i)$. В таком графе у каждой вершины суммарный вес всех выходящих из нее ребер равен единице — такой граф еще называют марковской цепью, отсюда и название.  \n",
    "При помощи такого графа можно случайно генерировать фразы, например начав в какой-нибудь вершине-истоке (в которую ни входят никакие ребра) и закончив в вершине-стоке (наоборот, никакие ребра не выходят.)"
   ]
  },
  {
   "cell_type": "code",
   "execution_count": 1,
   "metadata": {},
   "outputs": [
    {
     "name": "stdout",
     "output_type": "stream",
     "text": [
      "Requirement already satisfied: pymarkovchain in /usr/local/lib/python3.6/site-packages\r\n"
     ]
    }
   ],
   "source": [
    "!pip3 install pymarkovchain"
   ]
  },
  {
   "cell_type": "code",
   "execution_count": 1,
   "metadata": {},
   "outputs": [],
   "source": [
    "from pymarkovchain import MarkovChain\n",
    "\n",
    "from util import read_horoscopes"
   ]
  },
  {
   "cell_type": "code",
   "execution_count": 2,
   "metadata": {},
   "outputs": [],
   "source": [
    "def get_markov_chain_horoscopes(tokenize=False):\n",
    "    unified_horoscopes = read_horoscopes(tokenize)\n",
    "    chain = MarkovChain()\n",
    "    chain.generateDatabase(unified_horoscopes)\n",
    "    return chain"
   ]
  },
  {
   "cell_type": "code",
   "execution_count": 3,
   "metadata": {},
   "outputs": [],
   "source": [
    "chain = get_markov_chain_horoscopes()"
   ]
  },
  {
   "cell_type": "code",
   "execution_count": 17,
   "metadata": {},
   "outputs": [
    {
     "data": {
      "text/plain": [
       "'ждет поворот в личной жизни ничего критического звезды не рекомендуют рисковать или заниматься несколькими делами одновременно'"
      ]
     },
     "execution_count": 17,
     "metadata": {},
     "output_type": "execute_result"
    }
   ],
   "source": [
    "chain.generateStringWithSeed('ждет')"
   ]
  }
 ],
 "metadata": {
  "kernelspec": {
   "display_name": "Python 3",
   "language": "python",
   "name": "python3"
  },
  "language_info": {
   "codemirror_mode": {
    "name": "ipython",
    "version": 3
   },
   "file_extension": ".py",
   "mimetype": "text/x-python",
   "name": "python",
   "nbconvert_exporter": "python",
   "pygments_lexer": "ipython3",
   "version": "3.6.3"
  }
 },
 "nbformat": 4,
 "nbformat_minor": 2
}
