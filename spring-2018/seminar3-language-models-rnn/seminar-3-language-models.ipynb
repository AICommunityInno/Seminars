{
 "cells": [
  {
   "cell_type": "code",
   "execution_count": 18,
   "metadata": {},
   "outputs": [
    {
     "name": "stdout",
     "output_type": "stream",
     "text": [
      "Requirement already satisfied: pymarkovchain in /usr/local/lib/python3.6/site-packages\r\n"
     ]
    }
   ],
   "source": [
    "!pip3 install pymarkovchain"
   ]
  },
  {
   "cell_type": "code",
   "execution_count": 46,
   "metadata": {},
   "outputs": [],
   "source": [
    "import itertools as it\n",
    "\n",
    "from pymarkovchain import MarkovChain\n",
    "from nltk.tokenize import word_tokenize"
   ]
  },
  {
   "cell_type": "code",
   "execution_count": 2,
   "metadata": {},
   "outputs": [],
   "source": [
    "signs = {\n",
    "    'gemini': 'Близнецы', 'cancer': 'Рак', 'leo': 'Лев', 'libra': 'Весы', 'pisces': 'Рыбы',\n",
    "    'sagittarius': 'Стрелец', 'scorpio': 'Скорпион', 'taurus': 'Телец', 'virgo': 'Дева',\n",
    "    'capricorn': 'Козерог', 'aries': 'Овен', 'aquarius': 'Водолей'\n",
    "}"
   ]
  },
  {
   "cell_type": "code",
   "execution_count": 3,
   "metadata": {},
   "outputs": [],
   "source": [
    "def read_horoscopes(tokenize=False):\n",
    "    horoscopes_by_sign = {}\n",
    "    for sign in signs:\n",
    "        with open('data/horoscopes/horoscope_{}.txt'.format(sign)) as horoscopes:\n",
    "            if tokenize:\n",
    "                horoscopes_by_sign[sign] = [' '.join(word_tokenize(line)) for line in horoscopes.readlines()]\n",
    "            else:\n",
    "                horoscopes_by_sign[sign] = horoscopes.readlines()\n",
    "    unified_horoscopes = it.chain.from_iterable(horoscopes_by_sign.values())\n",
    "    return '\\n'.join(unified_horoscopes)"
   ]
  },
  {
   "cell_type": "code",
   "execution_count": 4,
   "metadata": {},
   "outputs": [],
   "source": [
    "def get_markov_chain_horoscopes(tokenize=False):\n",
    "    unified_horoscopes = read_horoscopes(tokenize)\n",
    "    chain = MarkovChain()\n",
    "    chain.generateDatabase(unified_horoscopes)\n",
    "    return chain"
   ]
  },
  {
   "cell_type": "code",
   "execution_count": 5,
   "metadata": {},
   "outputs": [],
   "source": [
    "chain = get_markov_chain_horoscopes()"
   ]
  },
  {
   "cell_type": "code",
   "execution_count": 64,
   "metadata": {},
   "outputs": [
    {
     "data": {
      "text/plain": [
       "'Звезды советуют взмахнуть крыльями и посмотреть на мир немного шире'"
      ]
     },
     "execution_count": 64,
     "metadata": {},
     "output_type": "execute_result"
    }
   ],
   "source": [
    "chain.generateString()"
   ]
  }
 ],
 "metadata": {
  "kernelspec": {
   "display_name": "Python 3",
   "language": "python",
   "name": "python3"
  },
  "language_info": {
   "codemirror_mode": {
    "name": "ipython",
    "version": 3
   },
   "file_extension": ".py",
   "mimetype": "text/x-python",
   "name": "python",
   "nbconvert_exporter": "python",
   "pygments_lexer": "ipython3",
   "version": "3.6.3"
  }
 },
 "nbformat": 4,
 "nbformat_minor": 2
}
