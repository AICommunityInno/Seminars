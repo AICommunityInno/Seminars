{
 "cells": [
  {
   "cell_type": "markdown",
   "metadata": {},
   "source": [
    "# AI Community @ Семинар  №2\n",
    "## Домашнее задание"
   ]
  },
  {
   "cell_type": "markdown",
   "metadata": {},
   "source": [
    "### Теория"
   ]
  },
  {
   "cell_type": "markdown",
   "metadata": {},
   "source": [
    "Ответы на задания этой секции можно описывать словами (нежелательно), писать в latex (рекомендуется) или рисовать и вставлять сюда фото (нежелательно).  \n",
    "Создание новой ячейки под текущей - `b` на клавиатуре, когда вы не находитесь в режиме редактирования ячейки.  \n",
    "Выйти из режима редактирования ячейки - `esc` на клавиатуре."
   ]
  },
  {
   "cell_type": "markdown",
   "metadata": {},
   "source": [
    "__Задание 1.__   \n",
    "Доказать $(\\pmb{AB})^{\\top} = \\pmb{B}^{\\top}\\pmb{A}^{\\top}$."
   ]
  },
  {
   "cell_type": "markdown",
   "metadata": {},
   "source": [
    "__Определение.__ Матрица $\\pmb{M}$ называется ортогональной, если выполняется следующее тождество:\n",
    "$$\n",
    "\\pmb{M M}^\\top = \\pmb{M}^\\top \\pmb{M} = \\pmb{I}\n",
    "$$  \n",
    "где $\\pmb{I}$ - единичная матрица. Другими словами, для ортогональной матрицы верно:  \n",
    "$$\n",
    "\\pmb{M}^{-1} = \\pmb{M}^\\top\n",
    "$$"
   ]
  },
  {
   "cell_type": "markdown",
   "metadata": {},
   "source": [
    "__Задание 2.__   \n",
    "$\\pmb{A}$ и $\\pmb{B}$ ортогональны. Покажите равносильность всех следующих утверждений между собой:"
   ]
  },
  {
   "cell_type": "markdown",
   "metadata": {},
   "source": [
    "1. $\\pmb{AB} = \\pmb{BA}$\n",
    "2. $\\pmb{A}^\\top \\pmb{B} = \\pmb{BA}^\\top$\n",
    "3. $\\pmb{AB}^\\top = \\pmb{B}^\\top \\pmb{A}$\n",
    "4. $\\pmb{A}^\\top \\pmb{B}^\\top = \\pmb{B}^\\top \\pmb{A}^\\top$\n",
    "\n",
    "Подсказка: утверждения равносильные, если от одного к другому можно перейти при помощи набора некоторых операций. Например, здесь можно перейти от первого ко второму, от второго к третьему, от третьего к четвертому и от четвертого к первому."
   ]
  },
  {
   "cell_type": "markdown",
   "metadata": {},
   "source": [
    "---\n",
    "### Практика"
   ]
  },
  {
   "cell_type": "markdown",
   "metadata": {},
   "source": [
    "Ответами на задание этой секции мы ждем работающий код, решающий поставленную задачу."
   ]
  },
  {
   "cell_type": "code",
   "execution_count": null,
   "metadata": {
    "collapsed": true
   },
   "outputs": [],
   "source": [
    "import numpy as np"
   ]
  },
  {
   "cell_type": "markdown",
   "metadata": {},
   "source": [
    "`np` - общепринятое сокращение для `numpy`. Советуем импортировать библиотеку `numpy` именно так."
   ]
  },
  {
   "cell_type": "markdown",
   "metadata": {},
   "source": [
    "__Задание 1.__ "
   ]
  },
  {
   "cell_type": "markdown",
   "metadata": {},
   "source": [
    "Дана следующая квадратная матрица:\n",
    "$$\\begin{pmatrix}\n",
    "2 & -1 &  &  & 0 \\\\\n",
    "-1 & 2 & -1 &  & \\\\\n",
    "& \\ddots & \\ddots & \\ddots & \\\\\n",
    "& & -1 & 2 & -1\\\\\n",
    "0& & & -1 & 2\n",
    "\\end{pmatrix}$$  \n",
    "На главной диагонали значения равны `2`, на диагоналях на 1 выше и на 1 ниже значения равны `-1`. __Все__ остальные значения равны `0`.    \n",
    "Необходимо создать такую матрицу с помощью `numpy` и без использования циклов."
   ]
  },
  {
   "cell_type": "code",
   "execution_count": null,
   "metadata": {
    "collapsed": true
   },
   "outputs": [],
   "source": [
    "def tridiagonal_matrix(n):\n",
    "    # Пишите код здесь\n",
    "    pass"
   ]
  },
  {
   "cell_type": "markdown",
   "metadata": {},
   "source": [
    "__Задание 2.__"
   ]
  },
  {
   "cell_type": "markdown",
   "metadata": {},
   "source": [
    "Посчитать [матрицу Гильберта](https://ru.wikipedia.org/wiki/%D0%9C%D0%B0%D1%82%D1%80%D0%B8%D1%86%D0%B0_%D0%93%D0%B8%D0%BB%D1%8C%D0%B1%D0%B5%D1%80%D1%82%D0%B0) размера $n \\times n$ без использования циклов.  \n",
    "Подсказка: можно использовать функцию `np.fromfunction`."
   ]
  },
  {
   "cell_type": "code",
   "execution_count": null,
   "metadata": {
    "collapsed": true
   },
   "outputs": [],
   "source": [
    "def hilbert(n):\n",
    "    # Пишите код здесь\n",
    "    pass"
   ]
  },
  {
   "cell_type": "markdown",
   "metadata": {},
   "source": [
    "__Задание 3.__ "
   ]
  },
  {
   "cell_type": "markdown",
   "metadata": {},
   "source": [
    "Запишите и посчитайте с помощью numpy следующее выражение.  \n",
    "Для вычисления `sin` от матрицы можно использовать функцию `np.sin`. Она применится к матрице поэлементно.   \n",
    "  \n",
    "$$\n",
    "\\sin{(\n",
    "\\begin{bmatrix}\n",
    "3 & -6 \\\\\n",
    "4 & -1 \\\\\n",
    "-2 & 8\n",
    "\\end{bmatrix} - \n",
    "\\begin{bmatrix}\n",
    "4 & 5 \\\\\n",
    "-5 & 8 \\\\\n",
    "3 & 1\n",
    "\\end{bmatrix})  \n",
    "}\n",
    "\\cdot\n",
    "\\begin{bmatrix}\n",
    "7 & 3 & 6\\\\\n",
    "5 & 8 & 4\\\\\n",
    "\\end{bmatrix}\n",
    "\\cdot\n",
    "\\begin{pmatrix}\n",
    "3 \\\\\n",
    "-2 \\\\\n",
    "7 \n",
    "\\end{pmatrix}\n",
    "$$"
   ]
  },
  {
   "cell_type": "markdown",
   "metadata": {},
   "source": [
    "Ожидаемый результат:\n",
    "\n",
    "$$\n",
    "\\begin{pmatrix}\n",
    "-20.964 \\\\\n",
    "12.363 \\\\\n",
    "72.397\n",
    "\\end{pmatrix}\n",
    "$$"
   ]
  },
  {
   "cell_type": "code",
   "execution_count": null,
   "metadata": {
    "collapsed": true
   },
   "outputs": [],
   "source": [
    "# Пишите код здесь"
   ]
  },
  {
   "cell_type": "markdown",
   "metadata": {},
   "source": [
    "__Задание 4.__ "
   ]
  },
  {
   "cell_type": "code",
   "execution_count": 1,
   "metadata": {
    "collapsed": true
   },
   "outputs": [],
   "source": [
    "from skimage.io import imread, imshow\n",
    "%matplotlib inline"
   ]
  },
  {
   "cell_type": "markdown",
   "metadata": {},
   "source": [
    "`imread` загружает изображение из файла.  \n",
    "`imshow` показывает изображение под текущей ячейкой.  \n",
    "`%matplotlib inline` позволяет отображать картинки прямо в Jupyter. Без этой строки картинок вы не увидите!"
   ]
  },
  {
   "cell_type": "code",
   "execution_count": 2,
   "metadata": {
    "collapsed": true
   },
   "outputs": [],
   "source": [
    "img = imread('data/lemur.jpg')"
   ]
  },
  {
   "cell_type": "markdown",
   "metadata": {},
   "source": [
    "Нарисуйте черный квадрат на изображении `img` без использования циклов."
   ]
  },
  {
   "cell_type": "code",
   "execution_count": null,
   "metadata": {
    "collapsed": true
   },
   "outputs": [],
   "source": [
    "# Пишите код здесь"
   ]
  },
  {
   "cell_type": "markdown",
   "metadata": {},
   "source": [
    "__Задание 5*.__"
   ]
  },
  {
   "cell_type": "markdown",
   "metadata": {},
   "source": [
    "Нарисуйте виньетку на изображении с лемуром (`img`), используя [функцию плотности двумерного нормального распредения](https://en.wikipedia.org/wiki/Gaussian_function#Two-dimensional_Gaussian_function). В других источниках эта функция называется гауссианой или ядром Гаусса.\n",
    "\n",
    "Подсказки:\n",
    "* Напишите функцию, которая вычисляет ядро Гаусса заданного размера `shape`:\n",
    "\n",
    "```python\n",
    "def gaussian(shape, mean_x, mean_y, sigma_x, sigma_y):\n",
    "    '''\n",
    "    @param: shape: 2d size of output kernel\n",
    "    '''\n",
    "    gauss_kernel = np.empty(shape)\n",
    "    # ...\n",
    "    pass\n",
    "    \n",
    "# gaussian(x, y, ...).shape == (n, m)\n",
    "```\n",
    "\n",
    "* Сгенерируйте ядро Гаусса с помощью указанной функции со средними значениями $mean_x=0$ и $mean_y=0$, затем нормируйте полученную матрицу, чтобы значения получились в диапазоне $[0, 1]$.\n",
    "* Умножьте полученную матрицу на исходное изображение.\n",
    "* Варьируйте значения $mean_x$ и $mean_y$ для получения наилучшего результата. Как сигмы можно взять следующие значения:  \n",
    "$\\sigma_x$ = `img.shape[0] // 2`, $\\sigma_y$ = `img.shape[1] // 2`."
   ]
  },
  {
   "cell_type": "markdown",
   "metadata": {},
   "source": [
    "Ожидаемый результат должен выглядеть следующим образом:\n",
    "\n",
    "![Лемур виньетка](data/lemur_vignette.png)"
   ]
  },
  {
   "cell_type": "code",
   "execution_count": null,
   "metadata": {
    "collapsed": true
   },
   "outputs": [],
   "source": [
    "# Ваш код здесь"
   ]
  }
 ],
 "metadata": {
  "kernelspec": {
   "display_name": "Python 3",
   "language": "python",
   "name": "python3"
  },
  "language_info": {
   "codemirror_mode": {
    "name": "ipython",
    "version": 3
   },
   "file_extension": ".py",
   "mimetype": "text/x-python",
   "name": "python",
   "nbconvert_exporter": "python",
   "pygments_lexer": "ipython3",
   "version": "3.6.0"
  }
 },
 "nbformat": 4,
 "nbformat_minor": 2
}
