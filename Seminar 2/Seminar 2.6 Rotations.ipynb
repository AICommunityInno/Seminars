{
 "cells": [
  {
   "cell_type": "markdown",
   "metadata": {},
   "source": [
    "# AI Community @ Семинар  №2\n",
    "## Пример использования матриц и операций с ними для поворота вектора"
   ]
  },
  {
   "cell_type": "markdown",
   "metadata": {},
   "source": [
    "Код не очень красивый и без комментариев.  \n",
    "Данный ноутбук предназначен для того, чтоб вы покрутили слайдер в самом низу и посмотрели на то, как меняется изображение."
   ]
  },
  {
   "cell_type": "code",
   "execution_count": null,
   "metadata": {
    "collapsed": true
   },
   "outputs": [],
   "source": [
    "# plotly не входит в Anaconda\n",
    "!pip install plotly"
   ]
  },
  {
   "cell_type": "code",
   "execution_count": 1,
   "metadata": {},
   "outputs": [
    {
     "data": {
      "text/html": [
       "<script>requirejs.config({paths: { 'plotly': ['https://cdn.plot.ly/plotly-latest.min']},});if(!window.Plotly) {{require(['plotly'],function(plotly) {window.Plotly=plotly;});}}</script>"
      ],
      "text/vnd.plotly.v1+html": [
       "<script>requirejs.config({paths: { 'plotly': ['https://cdn.plot.ly/plotly-latest.min']},});if(!window.Plotly) {{require(['plotly'],function(plotly) {window.Plotly=plotly;});}}</script>"
      ]
     },
     "metadata": {},
     "output_type": "display_data"
    }
   ],
   "source": [
    "import numpy as np\n",
    "import plotly.offline as py           # Plotly: library for interactive plots\n",
    "\n",
    "py.init_notebook_mode(connected=True)"
   ]
  },
  {
   "cell_type": "code",
   "execution_count": 3,
   "metadata": {
    "collapsed": true
   },
   "outputs": [],
   "source": [
    "def get_rotate_matrix(x):\n",
    "    return np.array([\n",
    "        [ np.cos(x), np.sin(x)],\n",
    "        [-np.sin(x), np.cos(x)]\n",
    "    ])"
   ]
  },
  {
   "cell_type": "code",
   "execution_count": 4,
   "metadata": {
    "collapsed": true
   },
   "outputs": [],
   "source": [
    "def plot_vectors_rotations(vectors, steps=10):\n",
    "    rotation_angles = np.linspace(0, 2 * np.pi, steps)\n",
    "    \n",
    "    vectors = np.asarray(vectors).T\n",
    "    \n",
    "    rotated_vectors = [\n",
    "        get_rotate_matrix(angle).T.dot(vectors)\n",
    "        for angle in rotation_angles\n",
    "    ]\n",
    "    limit = np.max([np.linalg.norm(v, axis=0).max() for v in rotated_vectors])\n",
    "    \n",
    "    def get_vector_data(vector, i):\n",
    "        return dict(\n",
    "            x = [0, vector[0]],\n",
    "            y = [0, vector[1]],\n",
    "            visible = False,\n",
    "            name = 'Vector: {}'.format(i)\n",
    "        )\n",
    "    \n",
    "    data = [\n",
    "        [get_vector_data(vector, i) for i, vector in enumerate(vectors.T)]\n",
    "        for vectors in rotated_vectors\n",
    "    ]\n",
    "    for d in data[0]:\n",
    "        d['visible'] = True\n",
    "    \n",
    "    plot_data = []\n",
    "    for vectors in data:\n",
    "        plot_data += vectors\n",
    "    \n",
    "    steps = []\n",
    "    for i in range(len(data)):\n",
    "        step = dict(\n",
    "            method = 'restyle',\n",
    "            args = ['visible', [False] * len(plot_data)]\n",
    "        )\n",
    "        for j in range(len(vectors)):\n",
    "            step['args'][1][len(vectors)*i+j] = True\n",
    "        steps.append(step)\n",
    "        \n",
    "    sliders = [dict(\n",
    "        active = 0,\n",
    "        currentvalue = {\"prefix\": \"Angle: \"},\n",
    "        pad = {\"t\": 50},\n",
    "        steps = steps\n",
    "    )]\n",
    "\n",
    "    layout = dict(sliders=sliders,\n",
    "                  xaxis=dict(range=[-limit, limit]),\n",
    "                  yaxis=dict(range=[-limit, limit]),\n",
    "                  width=500,\n",
    "                  height=500,\n",
    "             )\n",
    "    fig = dict(data=plot_data, layout=layout)\n",
    "    return fig"
   ]
  },
  {
   "cell_type": "code",
   "execution_count": 5,
   "metadata": {},
   "outputs": [
    {
     "data": {
      "application/vnd.plotly.v1+json": {
       "data": [
        {
         "name": "Vector: 0",
         "visible": true,
         "x": [
          0,
          1
         ],
         "y": [
          0,
          0
         ]
        },
        {
         "name": "Vector: 1",
         "visible": true,
         "x": [
          0,
          0.5
         ],
         "y": [
          0,
          -1.1
         ]
        },
        {
         "name": "Vector: 2",
         "visible": true,
         "x": [
          0,
          -1
         ],
         "y": [
          0,
          0.3
         ]
        },
        {
         "name": "Vector: 0",
         "visible": false,
         "x": [
          0,
          0.7660444431189781
         ],
         "y": [
          0,
          0.6427876096865393
         ]
        },
        {
         "name": "Vector: 1",
         "visible": false,
         "x": [
          0,
          1.0900885922146824
         ],
         "y": [
          0,
          -0.5212550825876063
         ]
        },
        {
         "name": "Vector: 2",
         "visible": false,
         "x": [
          0,
          -0.9588807260249399
         ],
         "y": [
          0,
          -0.4129742767508458
         ]
        },
        {
         "name": "Vector: 0",
         "visible": false,
         "x": [
          0,
          0.17364817766693041
         ],
         "y": [
          0,
          0.984807753012208
         ]
        },
        {
         "name": "Vector: 1",
         "visible": false,
         "x": [
          0,
          1.170112617146894
         ],
         "y": [
          0,
          0.3013908810724805
         ]
        },
        {
         "name": "Vector: 2",
         "visible": false,
         "x": [
          0,
          -0.4690905035705928
         ],
         "y": [
          0,
          -0.9327132997121289
         ]
        },
        {
         "name": "Vector: 0",
         "visible": false,
         "x": [
          0,
          -0.4999999999999998
         ],
         "y": [
          0,
          0.8660254037844388
         ]
        },
        {
         "name": "Vector: 1",
         "visible": false,
         "x": [
          0,
          0.7026279441628829
         ],
         "y": [
          0,
          0.9830127018922192
         ]
        },
        {
         "name": "Vector: 2",
         "visible": false,
         "x": [
          0,
          0.24019237886466815
         ],
         "y": [
          0,
          -1.0160254037844387
         ]
        },
        {
         "name": "Vector: 0",
         "visible": false,
         "x": [
          0,
          -0.9396926207859083
         ],
         "y": [
          0,
          0.3420201433256689
         ]
        },
        {
         "name": "Vector: 1",
         "visible": false,
         "x": [
          0,
          -0.09362415273471836
         ],
         "y": [
          0,
          1.2046719545273337
         ]
        },
        {
         "name": "Vector: 2",
         "visible": false,
         "x": [
          0,
          0.8370865777882076
         ],
         "y": [
          0,
          -0.6239279295614414
         ]
        },
        {
         "name": "Vector: 0",
         "visible": false,
         "x": [
          0,
          -0.9396926207859084
         ],
         "y": [
          0,
          -0.34202014332566866
         ]
        },
        {
         "name": "Vector: 1",
         "visible": false,
         "x": [
          0,
          -0.8460684680511897
         ],
         "y": [
          0,
          0.862651811201665
         ]
        },
        {
         "name": "Vector: 2",
         "visible": false,
         "x": [
          0,
          1.042298663783609
         ],
         "y": [
          0,
          0.06011235708989614
         ]
        },
        {
         "name": "Vector: 0",
         "visible": false,
         "x": [
          0,
          -0.5000000000000004
         ],
         "y": [
          0,
          -0.8660254037844384
         ]
        },
        {
         "name": "Vector: 1",
         "visible": false,
         "x": [
          0,
          -1.2026279441628824
         ],
         "y": [
          0,
          0.11698729810778134
         ]
        },
        {
         "name": "Vector: 2",
         "visible": false,
         "x": [
          0,
          0.759807621135332
         ],
         "y": [
          0,
          0.7160254037844382
         ]
        },
        {
         "name": "Vector: 0",
         "visible": false,
         "x": [
          0,
          0.17364817766692997
         ],
         "y": [
          0,
          -0.9848077530122081
         ]
        },
        {
         "name": "Vector: 1",
         "visible": false,
         "x": [
          0,
          -0.996464439479964
         ],
         "y": [
          0,
          -0.683416871939727
         ]
        },
        {
         "name": "Vector: 2",
         "visible": false,
         "x": [
          0,
          0.12179414823673246
         ],
         "y": [
          0,
          1.036902206312287
         ]
        },
        {
         "name": "Vector: 0",
         "visible": false,
         "x": [
          0,
          0.7660444431189779
         ],
         "y": [
          0,
          -0.6427876096865396
         ]
        },
        {
         "name": "Vector: 1",
         "visible": false,
         "x": [
          0,
          -0.32404414909570467
         ],
         "y": [
          0,
          -1.1640426922741456
         ]
        },
        {
         "name": "Vector: 2",
         "visible": false,
         "x": [
          0,
          -0.573208160213016
         ],
         "y": [
          0,
          0.872600942622233
         ]
        },
        {
         "name": "Vector: 0",
         "visible": false,
         "x": [
          0,
          1
         ],
         "y": [
          0,
          -2.4492935982947064e-16
         ]
        },
        {
         "name": "Vector: 1",
         "visible": false,
         "x": [
          0,
          0.4999999999999997
         ],
         "y": [
          0,
          -1.1000000000000003
         ]
        },
        {
         "name": "Vector: 2",
         "visible": false,
         "x": [
          0,
          -0.9999999999999999
         ],
         "y": [
          0,
          0.3000000000000002
         ]
        }
       ],
       "layout": {
        "height": 500,
        "sliders": [
         {
          "active": 0,
          "currentvalue": {
           "prefix": "Angle: "
          },
          "pad": {
           "t": 50
          },
          "steps": [
           {
            "args": [
             "visible",
             [
              true,
              true,
              true,
              false,
              false,
              false,
              false,
              false,
              false,
              false,
              false,
              false,
              false,
              false,
              false,
              false,
              false,
              false,
              false,
              false,
              false,
              false,
              false,
              false,
              false,
              false,
              false,
              false,
              false,
              false
             ]
            ],
            "method": "restyle"
           },
           {
            "args": [
             "visible",
             [
              false,
              false,
              false,
              true,
              true,
              true,
              false,
              false,
              false,
              false,
              false,
              false,
              false,
              false,
              false,
              false,
              false,
              false,
              false,
              false,
              false,
              false,
              false,
              false,
              false,
              false,
              false,
              false,
              false,
              false
             ]
            ],
            "method": "restyle"
           },
           {
            "args": [
             "visible",
             [
              false,
              false,
              false,
              false,
              false,
              false,
              true,
              true,
              true,
              false,
              false,
              false,
              false,
              false,
              false,
              false,
              false,
              false,
              false,
              false,
              false,
              false,
              false,
              false,
              false,
              false,
              false,
              false,
              false,
              false
             ]
            ],
            "method": "restyle"
           },
           {
            "args": [
             "visible",
             [
              false,
              false,
              false,
              false,
              false,
              false,
              false,
              false,
              false,
              true,
              true,
              true,
              false,
              false,
              false,
              false,
              false,
              false,
              false,
              false,
              false,
              false,
              false,
              false,
              false,
              false,
              false,
              false,
              false,
              false
             ]
            ],
            "method": "restyle"
           },
           {
            "args": [
             "visible",
             [
              false,
              false,
              false,
              false,
              false,
              false,
              false,
              false,
              false,
              false,
              false,
              false,
              true,
              true,
              true,
              false,
              false,
              false,
              false,
              false,
              false,
              false,
              false,
              false,
              false,
              false,
              false,
              false,
              false,
              false
             ]
            ],
            "method": "restyle"
           },
           {
            "args": [
             "visible",
             [
              false,
              false,
              false,
              false,
              false,
              false,
              false,
              false,
              false,
              false,
              false,
              false,
              false,
              false,
              false,
              true,
              true,
              true,
              false,
              false,
              false,
              false,
              false,
              false,
              false,
              false,
              false,
              false,
              false,
              false
             ]
            ],
            "method": "restyle"
           },
           {
            "args": [
             "visible",
             [
              false,
              false,
              false,
              false,
              false,
              false,
              false,
              false,
              false,
              false,
              false,
              false,
              false,
              false,
              false,
              false,
              false,
              false,
              true,
              true,
              true,
              false,
              false,
              false,
              false,
              false,
              false,
              false,
              false,
              false
             ]
            ],
            "method": "restyle"
           },
           {
            "args": [
             "visible",
             [
              false,
              false,
              false,
              false,
              false,
              false,
              false,
              false,
              false,
              false,
              false,
              false,
              false,
              false,
              false,
              false,
              false,
              false,
              false,
              false,
              false,
              true,
              true,
              true,
              false,
              false,
              false,
              false,
              false,
              false
             ]
            ],
            "method": "restyle"
           },
           {
            "args": [
             "visible",
             [
              false,
              false,
              false,
              false,
              false,
              false,
              false,
              false,
              false,
              false,
              false,
              false,
              false,
              false,
              false,
              false,
              false,
              false,
              false,
              false,
              false,
              false,
              false,
              false,
              true,
              true,
              true,
              false,
              false,
              false
             ]
            ],
            "method": "restyle"
           },
           {
            "args": [
             "visible",
             [
              false,
              false,
              false,
              false,
              false,
              false,
              false,
              false,
              false,
              false,
              false,
              false,
              false,
              false,
              false,
              false,
              false,
              false,
              false,
              false,
              false,
              false,
              false,
              false,
              false,
              false,
              false,
              true,
              true,
              true
             ]
            ],
            "method": "restyle"
           }
          ]
         }
        ],
        "width": 500,
        "xaxis": {
         "range": [
          -1.2083045973594573,
          1.2083045973594573
         ]
        },
        "yaxis": {
         "range": [
          -1.2083045973594573,
          1.2083045973594573
         ]
        }
       }
      },
      "text/html": [
       "<div id=\"a314f5ec-f043-4bc6-829c-a4258a6bfa2c\" style=\"height: 500px; width: 500px;\" class=\"plotly-graph-div\"></div><script type=\"text/javascript\">require([\"plotly\"], function(Plotly) { window.PLOTLYENV=window.PLOTLYENV || {};window.PLOTLYENV.BASE_URL=\"https://plot.ly\";Plotly.newPlot(\"a314f5ec-f043-4bc6-829c-a4258a6bfa2c\", [{\"y\": [0, 0.0], \"visible\": true, \"name\": \"Vector: 0\", \"x\": [0, 1.0]}, {\"y\": [0, -1.1], \"visible\": true, \"name\": \"Vector: 1\", \"x\": [0, 0.5]}, {\"y\": [0, 0.3], \"visible\": true, \"name\": \"Vector: 2\", \"x\": [0, -1.0]}, {\"y\": [0, 0.6427876096865393], \"visible\": false, \"name\": \"Vector: 0\", \"x\": [0, 0.7660444431189781]}, {\"y\": [0, -0.5212550825876063], \"visible\": false, \"name\": \"Vector: 1\", \"x\": [0, 1.0900885922146824]}, {\"y\": [0, -0.4129742767508458], \"visible\": false, \"name\": \"Vector: 2\", \"x\": [0, -0.9588807260249399]}, {\"y\": [0, 0.984807753012208], \"visible\": false, \"name\": \"Vector: 0\", \"x\": [0, 0.17364817766693041]}, {\"y\": [0, 0.3013908810724805], \"visible\": false, \"name\": \"Vector: 1\", \"x\": [0, 1.170112617146894]}, {\"y\": [0, -0.9327132997121289], \"visible\": false, \"name\": \"Vector: 2\", \"x\": [0, -0.4690905035705928]}, {\"y\": [0, 0.8660254037844388], \"visible\": false, \"name\": \"Vector: 0\", \"x\": [0, -0.4999999999999998]}, {\"y\": [0, 0.9830127018922192], \"visible\": false, \"name\": \"Vector: 1\", \"x\": [0, 0.7026279441628829]}, {\"y\": [0, -1.0160254037844387], \"visible\": false, \"name\": \"Vector: 2\", \"x\": [0, 0.24019237886466815]}, {\"y\": [0, 0.3420201433256689], \"visible\": false, \"name\": \"Vector: 0\", \"x\": [0, -0.9396926207859083]}, {\"y\": [0, 1.2046719545273337], \"visible\": false, \"name\": \"Vector: 1\", \"x\": [0, -0.09362415273471836]}, {\"y\": [0, -0.6239279295614414], \"visible\": false, \"name\": \"Vector: 2\", \"x\": [0, 0.8370865777882076]}, {\"y\": [0, -0.34202014332566866], \"visible\": false, \"name\": \"Vector: 0\", \"x\": [0, -0.9396926207859084]}, {\"y\": [0, 0.862651811201665], \"visible\": false, \"name\": \"Vector: 1\", \"x\": [0, -0.8460684680511897]}, {\"y\": [0, 0.06011235708989614], \"visible\": false, \"name\": \"Vector: 2\", \"x\": [0, 1.042298663783609]}, {\"y\": [0, -0.8660254037844384], \"visible\": false, \"name\": \"Vector: 0\", \"x\": [0, -0.5000000000000004]}, {\"y\": [0, 0.11698729810778134], \"visible\": false, \"name\": \"Vector: 1\", \"x\": [0, -1.2026279441628824]}, {\"y\": [0, 0.7160254037844382], \"visible\": false, \"name\": \"Vector: 2\", \"x\": [0, 0.759807621135332]}, {\"y\": [0, -0.9848077530122081], \"visible\": false, \"name\": \"Vector: 0\", \"x\": [0, 0.17364817766692997]}, {\"y\": [0, -0.683416871939727], \"visible\": false, \"name\": \"Vector: 1\", \"x\": [0, -0.996464439479964]}, {\"y\": [0, 1.036902206312287], \"visible\": false, \"name\": \"Vector: 2\", \"x\": [0, 0.12179414823673246]}, {\"y\": [0, -0.6427876096865396], \"visible\": false, \"name\": \"Vector: 0\", \"x\": [0, 0.7660444431189779]}, {\"y\": [0, -1.1640426922741456], \"visible\": false, \"name\": \"Vector: 1\", \"x\": [0, -0.32404414909570467]}, {\"y\": [0, 0.872600942622233], \"visible\": false, \"name\": \"Vector: 2\", \"x\": [0, -0.573208160213016]}, {\"y\": [0, -2.4492935982947064e-16], \"visible\": false, \"name\": \"Vector: 0\", \"x\": [0, 1.0]}, {\"y\": [0, -1.1000000000000003], \"visible\": false, \"name\": \"Vector: 1\", \"x\": [0, 0.4999999999999997]}, {\"y\": [0, 0.3000000000000002], \"visible\": false, \"name\": \"Vector: 2\", \"x\": [0, -0.9999999999999999]}], {\"width\": 500, \"sliders\": [{\"active\": 0, \"pad\": {\"t\": 50}, \"currentvalue\": {\"prefix\": \"Angle: \"}, \"steps\": [{\"args\": [\"visible\", [true, true, true, false, false, false, false, false, false, false, false, false, false, false, false, false, false, false, false, false, false, false, false, false, false, false, false, false, false, false]], \"method\": \"restyle\"}, {\"args\": [\"visible\", [false, false, false, true, true, true, false, false, false, false, false, false, false, false, false, false, false, false, false, false, false, false, false, false, false, false, false, false, false, false]], \"method\": \"restyle\"}, {\"args\": [\"visible\", [false, false, false, false, false, false, true, true, true, false, false, false, false, false, false, false, false, false, false, false, false, false, false, false, false, false, false, false, false, false]], \"method\": \"restyle\"}, {\"args\": [\"visible\", [false, false, false, false, false, false, false, false, false, true, true, true, false, false, false, false, false, false, false, false, false, false, false, false, false, false, false, false, false, false]], \"method\": \"restyle\"}, {\"args\": [\"visible\", [false, false, false, false, false, false, false, false, false, false, false, false, true, true, true, false, false, false, false, false, false, false, false, false, false, false, false, false, false, false]], \"method\": \"restyle\"}, {\"args\": [\"visible\", [false, false, false, false, false, false, false, false, false, false, false, false, false, false, false, true, true, true, false, false, false, false, false, false, false, false, false, false, false, false]], \"method\": \"restyle\"}, {\"args\": [\"visible\", [false, false, false, false, false, false, false, false, false, false, false, false, false, false, false, false, false, false, true, true, true, false, false, false, false, false, false, false, false, false]], \"method\": \"restyle\"}, {\"args\": [\"visible\", [false, false, false, false, false, false, false, false, false, false, false, false, false, false, false, false, false, false, false, false, false, true, true, true, false, false, false, false, false, false]], \"method\": \"restyle\"}, {\"args\": [\"visible\", [false, false, false, false, false, false, false, false, false, false, false, false, false, false, false, false, false, false, false, false, false, false, false, false, true, true, true, false, false, false]], \"method\": \"restyle\"}, {\"args\": [\"visible\", [false, false, false, false, false, false, false, false, false, false, false, false, false, false, false, false, false, false, false, false, false, false, false, false, false, false, false, true, true, true]], \"method\": \"restyle\"}]}], \"yaxis\": {\"range\": [-1.2083045973594573, 1.2083045973594573]}, \"xaxis\": {\"range\": [-1.2083045973594573, 1.2083045973594573]}, \"height\": 500}, {\"linkText\": \"Export to plot.ly\", \"showLink\": true})});</script>"
      ],
      "text/vnd.plotly.v1+html": [
       "<div id=\"a314f5ec-f043-4bc6-829c-a4258a6bfa2c\" style=\"height: 500px; width: 500px;\" class=\"plotly-graph-div\"></div><script type=\"text/javascript\">require([\"plotly\"], function(Plotly) { window.PLOTLYENV=window.PLOTLYENV || {};window.PLOTLYENV.BASE_URL=\"https://plot.ly\";Plotly.newPlot(\"a314f5ec-f043-4bc6-829c-a4258a6bfa2c\", [{\"y\": [0, 0.0], \"visible\": true, \"name\": \"Vector: 0\", \"x\": [0, 1.0]}, {\"y\": [0, -1.1], \"visible\": true, \"name\": \"Vector: 1\", \"x\": [0, 0.5]}, {\"y\": [0, 0.3], \"visible\": true, \"name\": \"Vector: 2\", \"x\": [0, -1.0]}, {\"y\": [0, 0.6427876096865393], \"visible\": false, \"name\": \"Vector: 0\", \"x\": [0, 0.7660444431189781]}, {\"y\": [0, -0.5212550825876063], \"visible\": false, \"name\": \"Vector: 1\", \"x\": [0, 1.0900885922146824]}, {\"y\": [0, -0.4129742767508458], \"visible\": false, \"name\": \"Vector: 2\", \"x\": [0, -0.9588807260249399]}, {\"y\": [0, 0.984807753012208], \"visible\": false, \"name\": \"Vector: 0\", \"x\": [0, 0.17364817766693041]}, {\"y\": [0, 0.3013908810724805], \"visible\": false, \"name\": \"Vector: 1\", \"x\": [0, 1.170112617146894]}, {\"y\": [0, -0.9327132997121289], \"visible\": false, \"name\": \"Vector: 2\", \"x\": [0, -0.4690905035705928]}, {\"y\": [0, 0.8660254037844388], \"visible\": false, \"name\": \"Vector: 0\", \"x\": [0, -0.4999999999999998]}, {\"y\": [0, 0.9830127018922192], \"visible\": false, \"name\": \"Vector: 1\", \"x\": [0, 0.7026279441628829]}, {\"y\": [0, -1.0160254037844387], \"visible\": false, \"name\": \"Vector: 2\", \"x\": [0, 0.24019237886466815]}, {\"y\": [0, 0.3420201433256689], \"visible\": false, \"name\": \"Vector: 0\", \"x\": [0, -0.9396926207859083]}, {\"y\": [0, 1.2046719545273337], \"visible\": false, \"name\": \"Vector: 1\", \"x\": [0, -0.09362415273471836]}, {\"y\": [0, -0.6239279295614414], \"visible\": false, \"name\": \"Vector: 2\", \"x\": [0, 0.8370865777882076]}, {\"y\": [0, -0.34202014332566866], \"visible\": false, \"name\": \"Vector: 0\", \"x\": [0, -0.9396926207859084]}, {\"y\": [0, 0.862651811201665], \"visible\": false, \"name\": \"Vector: 1\", \"x\": [0, -0.8460684680511897]}, {\"y\": [0, 0.06011235708989614], \"visible\": false, \"name\": \"Vector: 2\", \"x\": [0, 1.042298663783609]}, {\"y\": [0, -0.8660254037844384], \"visible\": false, \"name\": \"Vector: 0\", \"x\": [0, -0.5000000000000004]}, {\"y\": [0, 0.11698729810778134], \"visible\": false, \"name\": \"Vector: 1\", \"x\": [0, -1.2026279441628824]}, {\"y\": [0, 0.7160254037844382], \"visible\": false, \"name\": \"Vector: 2\", \"x\": [0, 0.759807621135332]}, {\"y\": [0, -0.9848077530122081], \"visible\": false, \"name\": \"Vector: 0\", \"x\": [0, 0.17364817766692997]}, {\"y\": [0, -0.683416871939727], \"visible\": false, \"name\": \"Vector: 1\", \"x\": [0, -0.996464439479964]}, {\"y\": [0, 1.036902206312287], \"visible\": false, \"name\": \"Vector: 2\", \"x\": [0, 0.12179414823673246]}, {\"y\": [0, -0.6427876096865396], \"visible\": false, \"name\": \"Vector: 0\", \"x\": [0, 0.7660444431189779]}, {\"y\": [0, -1.1640426922741456], \"visible\": false, \"name\": \"Vector: 1\", \"x\": [0, -0.32404414909570467]}, {\"y\": [0, 0.872600942622233], \"visible\": false, \"name\": \"Vector: 2\", \"x\": [0, -0.573208160213016]}, {\"y\": [0, -2.4492935982947064e-16], \"visible\": false, \"name\": \"Vector: 0\", \"x\": [0, 1.0]}, {\"y\": [0, -1.1000000000000003], \"visible\": false, \"name\": \"Vector: 1\", \"x\": [0, 0.4999999999999997]}, {\"y\": [0, 0.3000000000000002], \"visible\": false, \"name\": \"Vector: 2\", \"x\": [0, -0.9999999999999999]}], {\"width\": 500, \"sliders\": [{\"active\": 0, \"pad\": {\"t\": 50}, \"currentvalue\": {\"prefix\": \"Angle: \"}, \"steps\": [{\"args\": [\"visible\", [true, true, true, false, false, false, false, false, false, false, false, false, false, false, false, false, false, false, false, false, false, false, false, false, false, false, false, false, false, false]], \"method\": \"restyle\"}, {\"args\": [\"visible\", [false, false, false, true, true, true, false, false, false, false, false, false, false, false, false, false, false, false, false, false, false, false, false, false, false, false, false, false, false, false]], \"method\": \"restyle\"}, {\"args\": [\"visible\", [false, false, false, false, false, false, true, true, true, false, false, false, false, false, false, false, false, false, false, false, false, false, false, false, false, false, false, false, false, false]], \"method\": \"restyle\"}, {\"args\": [\"visible\", [false, false, false, false, false, false, false, false, false, true, true, true, false, false, false, false, false, false, false, false, false, false, false, false, false, false, false, false, false, false]], \"method\": \"restyle\"}, {\"args\": [\"visible\", [false, false, false, false, false, false, false, false, false, false, false, false, true, true, true, false, false, false, false, false, false, false, false, false, false, false, false, false, false, false]], \"method\": \"restyle\"}, {\"args\": [\"visible\", [false, false, false, false, false, false, false, false, false, false, false, false, false, false, false, true, true, true, false, false, false, false, false, false, false, false, false, false, false, false]], \"method\": \"restyle\"}, {\"args\": [\"visible\", [false, false, false, false, false, false, false, false, false, false, false, false, false, false, false, false, false, false, true, true, true, false, false, false, false, false, false, false, false, false]], \"method\": \"restyle\"}, {\"args\": [\"visible\", [false, false, false, false, false, false, false, false, false, false, false, false, false, false, false, false, false, false, false, false, false, true, true, true, false, false, false, false, false, false]], \"method\": \"restyle\"}, {\"args\": [\"visible\", [false, false, false, false, false, false, false, false, false, false, false, false, false, false, false, false, false, false, false, false, false, false, false, false, true, true, true, false, false, false]], \"method\": \"restyle\"}, {\"args\": [\"visible\", [false, false, false, false, false, false, false, false, false, false, false, false, false, false, false, false, false, false, false, false, false, false, false, false, false, false, false, true, true, true]], \"method\": \"restyle\"}]}], \"yaxis\": {\"range\": [-1.2083045973594573, 1.2083045973594573]}, \"xaxis\": {\"range\": [-1.2083045973594573, 1.2083045973594573]}, \"height\": 500}, {\"linkText\": \"Export to plot.ly\", \"showLink\": true})});</script>"
      ]
     },
     "metadata": {},
     "output_type": "display_data"
    }
   ],
   "source": [
    "vectors = [\n",
    "    np.array([1, 0]),\n",
    "    np.array([0.5, -1.1]),\n",
    "    np.array([-1, 0.3])\n",
    "]\n",
    "\n",
    "py.iplot(plot_vectors_rotations(vectors, steps=10),\n",
    "         filename='2D Vector Rotations')"
   ]
  },
  {
   "cell_type": "code",
   "execution_count": null,
   "metadata": {
    "collapsed": true
   },
   "outputs": [],
   "source": []
  }
 ],
 "metadata": {
  "kernelspec": {
   "display_name": "Python 2",
   "language": "python",
   "name": "python2"
  },
  "language_info": {
   "codemirror_mode": {
    "name": "ipython",
    "version": 2
   },
   "file_extension": ".py",
   "mimetype": "text/x-python",
   "name": "python",
   "nbconvert_exporter": "python",
   "pygments_lexer": "ipython2",
   "version": "2.7.13"
  }
 },
 "nbformat": 4,
 "nbformat_minor": 2
}
