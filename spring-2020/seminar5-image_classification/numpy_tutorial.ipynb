{
 "cells": [
  {
   "cell_type": "markdown",
   "metadata": {},
   "source": [
    "# Python & NumPy Туториал"
   ]
  },
  {
   "cell_type": "markdown",
   "metadata": {},
   "source": [
    "Оригинальный ноутбук взят и переведён из курса [CS 231n](http://cs231n.stanford.edu/syllabus.html).\n",
    "\n",
    "Так же существует курс на Stepik по основам Python и Numpy для математики: https://stepik.org/course/3356/\n",
    "\n",
    "Python 3 и NumPy будут широко использоваться на протяжении всего курса, поэтому важно быть знакомым с ними.  \n",
    "\n",
    "Большое количество материала для этого ноутбука было взято из туториала Justin Johnson [Python & NumPy](http://cs231n.github.io/python-numpy-tutorial/). В данный момент не все из этого туториала находится в этом ноутбуке, и не все из этого ноутбука находится в туториале."
   ]
  },
  {
   "cell_type": "markdown",
   "metadata": {},
   "source": [
    "## Python 3"
   ]
  },
  {
   "cell_type": "markdown",
   "metadata": {},
   "source": [
    "Если вы не знакомы с Python 3, Вот некоторые из наиболее распространенных изменений от Python 2, на которые стоит обратить внимание. Хотя Python 2 уже оффициально мёртв, не все об этом могут знать."
   ]
  },
  {
   "cell_type": "markdown",
   "metadata": {},
   "source": [
    "### Print - это функция"
   ]
  },
  {
   "cell_type": "code",
   "execution_count": 1,
   "metadata": {},
   "outputs": [
    {
     "name": "stdout",
     "output_type": "stream",
     "text": [
      "Hello!\n"
     ]
    }
   ],
   "source": [
    "print(\"Hello!\")"
   ]
  },
  {
   "cell_type": "markdown",
   "metadata": {},
   "source": [
    "Без скобок работать не будет."
   ]
  },
  {
   "cell_type": "code",
   "execution_count": 2,
   "metadata": {},
   "outputs": [
    {
     "ename": "SyntaxError",
     "evalue": "Missing parentheses in call to 'print'. Did you mean print(\"Hello!\")? (<ipython-input-2-9d266092e9bc>, line 1)",
     "output_type": "error",
     "traceback": [
      "\u001b[1;36m  File \u001b[1;32m\"<ipython-input-2-9d266092e9bc>\"\u001b[1;36m, line \u001b[1;32m1\u001b[0m\n\u001b[1;33m    print \"Hello!\"\u001b[0m\n\u001b[1;37m                 ^\u001b[0m\n\u001b[1;31mSyntaxError\u001b[0m\u001b[1;31m:\u001b[0m Missing parentheses in call to 'print'. Did you mean print(\"Hello!\")?\n"
     ]
    }
   ],
   "source": [
    "print \"Hello!\""
   ]
  },
  {
   "cell_type": "markdown",
   "metadata": {},
   "source": [
    "### Деление чисел с плавающей запятой поддерживается по-умолчанию"
   ]
  },
  {
   "cell_type": "code",
   "execution_count": 7,
   "metadata": {},
   "outputs": [
    {
     "data": {
      "text/plain": [
       "2.5"
      ]
     },
     "execution_count": 7,
     "metadata": {},
     "output_type": "execute_result"
    }
   ],
   "source": [
    "5 / 2"
   ]
  },
  {
   "cell_type": "markdown",
   "metadata": {},
   "source": [
    "Для целочисленного деления используйте два обратных слеша:"
   ]
  },
  {
   "cell_type": "code",
   "execution_count": 8,
   "metadata": {},
   "outputs": [
    {
     "data": {
      "text/plain": [
       "2"
      ]
     },
     "execution_count": 8,
     "metadata": {},
     "output_type": "execute_result"
    }
   ],
   "source": [
    "5 // 2"
   ]
  },
  {
   "cell_type": "markdown",
   "metadata": {},
   "source": [
    "### Нет xrange"
   ]
  },
  {
   "cell_type": "markdown",
   "metadata": {},
   "source": [
    "xrange из Python 2 был переименован в \"range\" для Python 3. В Python 3, range(3) не создаёт список из трёх элементов. Вместо этого создаётся эффективный по памяти итератор."
   ]
  },
  {
   "cell_type": "code",
   "execution_count": 9,
   "metadata": {},
   "outputs": [
    {
     "name": "stdout",
     "output_type": "stream",
     "text": [
      "0\n",
      "1\n",
      "2\n"
     ]
    }
   ],
   "source": [
    "for i in range(3):\n",
    "    print(i)"
   ]
  },
  {
   "cell_type": "code",
   "execution_count": 10,
   "metadata": {},
   "outputs": [
    {
     "data": {
      "text/plain": [
       "range(0, 3)"
      ]
     },
     "execution_count": 10,
     "metadata": {},
     "output_type": "execute_result"
    }
   ],
   "source": [
    "range(3)"
   ]
  },
  {
   "cell_type": "code",
   "execution_count": 11,
   "metadata": {},
   "outputs": [
    {
     "name": "stdout",
     "output_type": "stream",
     "text": [
      "[0, 1, 2]\n"
     ]
    }
   ],
   "source": [
    "# Если необходимо получить список из итератора, то оборачиваем его в list():\n",
    "print(list(range(3)))"
   ]
  },
  {
   "cell_type": "markdown",
   "metadata": {},
   "source": [
    "# NumPy"
   ]
  },
  {
   "cell_type": "markdown",
   "metadata": {},
   "source": [
    "\"NumPy является фундаментальной библиотекой для научных вычислений в Python. Эта библиотека предоставляет многомерный объект array, множество производных объектов(таких как массивы-маски и матрицы), а также набор процедур для быстрых операций с массивами, включая математические, логические, манипуляции с формой, сортировку, селекция, операции ввода-вывода, дискретные преобразования Фурье, базовую линейную алгебру, базовые статистические операции, случайное моделирование и многое другое.\"\n",
    "- https://docs.scipy.org/doc/numpy-1.10.1/user/whatisnumpy.html."
   ]
  },
  {
   "cell_type": "code",
   "execution_count": 12,
   "metadata": {},
   "outputs": [],
   "source": [
    "import numpy as np"
   ]
  },
  {
   "cell_type": "markdown",
   "metadata": {},
   "source": [
    "Давайте рассмотрим пример, показывающий, насколько мощным является NumPy. Предположим, что у нас есть два списка a и b, состоящие из первых 100,000 неотрицательных чисел, и мы хотим создать новый список c, в котором *i*-тый элемент - это a[i] + 2 * b[i].  \n",
    "\n",
    "Без NumPy:"
   ]
  },
  {
   "cell_type": "code",
   "execution_count": 13,
   "metadata": {},
   "outputs": [
    {
     "name": "stdout",
     "output_type": "stream",
     "text": [
      "Wall time: 2.99 ms\n"
     ]
    }
   ],
   "source": [
    "%%time\n",
    "a = list(range(100000))\n",
    "b = list(range(100000))"
   ]
  },
  {
   "cell_type": "code",
   "execution_count": 14,
   "metadata": {},
   "outputs": [
    {
     "name": "stdout",
     "output_type": "stream",
     "text": [
      "Wall time: 395 ms\n"
     ]
    }
   ],
   "source": [
    "%%time\n",
    "for _ in range(10):\n",
    "    c = []\n",
    "    for i in range(len(a)):\n",
    "        c.append(a[i] + 2 * b[i])"
   ]
  },
  {
   "cell_type": "markdown",
   "metadata": {},
   "source": [
    "С NumPy:"
   ]
  },
  {
   "cell_type": "code",
   "execution_count": 15,
   "metadata": {},
   "outputs": [
    {
     "name": "stdout",
     "output_type": "stream",
     "text": [
      "Wall time: 2.99 ms\n"
     ]
    }
   ],
   "source": [
    "%%time\n",
    "a = np.arange(100000)\n",
    "b = np.arange(100000)"
   ]
  },
  {
   "cell_type": "code",
   "execution_count": 16,
   "metadata": {},
   "outputs": [
    {
     "name": "stdout",
     "output_type": "stream",
     "text": [
      "Wall time: 4.99 ms\n"
     ]
    }
   ],
   "source": [
    "%%time\n",
    "for _ in range(10):\n",
    "    c = a + 2 * b"
   ]
  },
  {
   "cell_type": "markdown",
   "metadata": {},
   "source": [
    "Результат в 20-50 раз (и даже больше) быстрее, и мы смогли сделать это в меньшем количестве строк кода (сам код стал более интуитивно понятен)!"
   ]
  },
  {
   "cell_type": "markdown",
   "metadata": {},
   "source": [
    "Обычный Python работает намного медленнее из-за проверки типов и других накладных расходов, связанных с необходимостью интерпретировать код и поддерживать абстракции Python.\n",
    "\n",
    "Например, если мы делаем некоторое добавление в цикле, то постоянная проверка типа в цикле приведет к гораздо большему количеству инструкций, чем просто выполнение обычной операции добавления. NumPy, используя оптимизированный предварительно скомпилированный код C, способен избежать многих накладных расходов.\n",
    "\n",
    "Процесс, который мы использовали выше, является **векторизация**. Векторизация относится к применению операций к массивам, а не только к отдельным элементам (т.е. без циклов)."
   ]
  },
  {
   "cell_type": "markdown",
   "metadata": {},
   "source": [
    "Почему векторизация?\n",
    "1. Намного быстрее\n",
    "2. Легче читать и меньше строк кода\n",
    "3. Ближе к математическим обозначениям\n",
    "\n",
    "Векторизация - одна из главных причин, почему NumPy так мощен."
   ]
  },
  {
   "cell_type": "markdown",
   "metadata": {},
   "source": [
    "## ndarray"
   ]
  },
  {
   "cell_type": "markdown",
   "metadata": {},
   "source": [
    "ndarrays, n-мерные массивы однородных типов данных, являются основными типами данных, используемыми в NumPy. Поскольку эти массивы имеют один и тот же тип и фиксированный размер при создании, они предлагают меньшую гибкость, чем списки Python, но могут быть существенно более эффективными во время выполнения и с точки зрения памяти. Списки Python - это массивы указателей на объекты, добавляющие слой абстракции.\n",
    "\n",
    "Число измерений - это ранг массива; форма массива - это кортеж целых чисел, определяющих размер массива вдоль каждого измерения."
   ]
  },
  {
   "cell_type": "code",
   "execution_count": 17,
   "metadata": {},
   "outputs": [
    {
     "name": "stdout",
     "output_type": "stream",
     "text": [
      "type: <class 'numpy.ndarray'>\n",
      "shape: (3,)\n",
      "a: [1 2 3]\n",
      "a modeified: [5 2 3]\n",
      "a copy: [1 2 3]\n",
      "shape: (2, 3)\n",
      "1 2 4\n"
     ]
    }
   ],
   "source": [
    "# Инициализация ndarrays с помощью списков Python, например:\n",
    "a = np.array([1, 2, 3])          # Создаёт одномерный массив\n",
    "print('type:', type(a))          # \"<class 'numpy.ndarray'>\"\n",
    "print('shape:', a.shape)         # \"(3,)\"\n",
    "print('a:', a)                   # \"[1 2 3]\"\n",
    "\n",
    "a_cpy = a.copy()\n",
    "a[0] = 5                         # Меняет элемент массива\n",
    "print('a modeified:', a)         # \"[5 2 3]\"\n",
    "print('a copy:', a_cpy)\n",
    "\n",
    "b = np.array([[1, 2, 3],\n",
    "              [4, 5, 6]])        # Создаёт двумерный массив (матрицу)\n",
    "print('shape:', b.shape)         # \"(2, 3)\"\n",
    "print(b[0, 0], b[0, 1], b[1, 0]) # \"1 2 4\""
   ]
  },
  {
   "cell_type": "markdown",
   "metadata": {},
   "source": [
    "Так же существует множество других способов создать массив:"
   ]
  },
  {
   "cell_type": "code",
   "execution_count": 18,
   "metadata": {},
   "outputs": [
    {
     "name": "stdout",
     "output_type": "stream",
     "text": [
      "[[0. 0.]\n",
      " [0. 0.]]\n",
      "[[7 7]\n",
      " [7 7]]\n",
      "[[1 0]\n",
      " [0 1]]\n",
      "[[0.69831371 0.3583393 ]\n",
      " [0.30082321 0.44891397]]\n"
     ]
    }
   ],
   "source": [
    "a = np.zeros((2, 2))   # Создаёт массив нулей\n",
    "print(a)               #  \"[[ 0.  0.]\n",
    "                       #    [ 0.  0.]]\"\n",
    "\n",
    "b = np.full((2, 2), 7)  # Создаёт массив константных значений\n",
    "print(b)                # \"[[ 7.  7.]\n",
    "                        #   [ 7.  7.]]\"\n",
    "\n",
    "c = np.eye(2, dtype=np.int8)  # Создаёт единичную матрицу 2 x 2, заполненную целочисленныи значениями\n",
    "print(c)                      # \"[[ 1.  0.]\n",
    "                              #   [ 0.  1.]]\"\n",
    "\n",
    "d = np.random.random((2, 2))  # Создаёт массив случайных значений\n",
    "print(d)                      # Возможный вывод \"[[ 0.91940167  0.08143941]\n",
    "                              #                   [ 0.68744134  0.87236687]]\""
   ]
  },
  {
   "cell_type": "markdown",
   "metadata": {},
   "source": [
    "В NumPy можно при создании массива можно выбирать тип данных. Причём типы могут быть указаны через Python типы, такие как int, float; в виде строчек "
   ]
  },
  {
   "cell_type": "markdown",
   "metadata": {},
   "source": [
    "Как создать матрицу 2 на 2 из единиц?"
   ]
  },
  {
   "cell_type": "code",
   "execution_count": 19,
   "metadata": {},
   "outputs": [
    {
     "name": "stdout",
     "output_type": "stream",
     "text": [
      "[[1 1]\n",
      " [1 1]]\n"
     ]
    }
   ],
   "source": [
    "a = np.ones((2, 2), dtype='uint32')  # Создаёт матрицу целочисленных положительных единиц\n",
    "print(a)                             # \"[[ 1  1]\n",
    "                                     #   [ 1  1]]\""
   ]
  },
  {
   "cell_type": "markdown",
   "metadata": {},
   "source": [
    "Важно отслеживать форму; знание размеров будет очень полезно для отладки, при вычислении градиентов и других причин."
   ]
  },
  {
   "cell_type": "code",
   "execution_count": 20,
   "metadata": {},
   "outputs": [
    {
     "name": "stdout",
     "output_type": "stream",
     "text": [
      "[0 1 2 3 4 5 6 7]\n",
      "(8,)\n",
      "Reshaped:\n",
      " [[0 1 2 3]\n",
      " [4 5 6 7]]\n",
      "(2, 4)\n",
      "Reshaped with -1:\n",
      " [[0 1]\n",
      " [2 3]\n",
      " [4 5]\n",
      " [6 7]] \n",
      "shape:\n",
      " (4, 2)\n",
      "Flatten:\n",
      " [0 1 2 3 4 5 6 7] \n",
      "shape:\n",
      " (8,)\n"
     ]
    }
   ],
   "source": [
    "nums = np.arange(8)\n",
    "print(nums)\n",
    "print(nums.shape)\n",
    "\n",
    "nums = nums.reshape((2, 4))\n",
    "print('Reshaped:\\n', nums)\n",
    "print(nums.shape)\n",
    "\n",
    "# -1 в reshape соответствует неизвестной размерности для которой numpy догадается,\n",
    "# основываясь на других размерностях, и подставит нужно число.\n",
    "# Можно указать только одну неизвестную размерность.\n",
    "# Например, иногда у нас может быть неизвестное число точек данных, и\n",
    "# тогда мы используем -1 вместо того, чтобы беспокоиться о реальном размере.\n",
    "nums = nums.reshape((4, -1))\n",
    "print('Reshaped with -1:\\n', nums, '\\nshape:\\n', nums.shape)\n",
    "\n",
    "# Вы также можете \"выпрямить\" массив в вектор с помощью .reshape(-1)\n",
    "print('Flatten:\\n', nums.reshape(-1), '\\nshape:\\n', nums.reshape(-1).shape)"
   ]
  },
  {
   "cell_type": "markdown",
   "metadata": {},
   "source": [
    "NumPy поддерживает объектно-ориентированную парадигму, такую, что ndarray имеет ряд методов и атрибутов с функциями, аналогичными тем, которые находятся во внешнем пространстве имен NumPy. Например, мы можем делать и то и другое:"
   ]
  },
  {
   "cell_type": "code",
   "execution_count": 21,
   "metadata": {},
   "outputs": [
    {
     "name": "stdout",
     "output_type": "stream",
     "text": [
      "0\n",
      "0\n",
      "[[0 1 2 3]\n",
      " [4 5 6 7]]\n"
     ]
    }
   ],
   "source": [
    "nums = np.arange(8)\n",
    "print(nums.min())     # 0\n",
    "print(np.min(nums))   # 0\n",
    "print(np.reshape(nums, (2, 4)))"
   ]
  },
  {
   "cell_type": "markdown",
   "metadata": {},
   "source": [
    "## Операции над массивами/Математика"
   ]
  },
  {
   "cell_type": "markdown",
   "metadata": {},
   "source": [
    "NumPy поддерживает поэлементные операции, в результате которых создаётся новый массив:"
   ]
  },
  {
   "cell_type": "code",
   "execution_count": 22,
   "metadata": {},
   "outputs": [
    {
     "name": "stdout",
     "output_type": "stream",
     "text": [
      "True\n",
      "True\n",
      "True\n",
      "True\n",
      "[[   5.   36.]\n",
      " [ 343. 4096.]]\n"
     ]
    }
   ],
   "source": [
    "x = np.array([[1, 2],\n",
    "              [3, 4]], dtype=np.float64)\n",
    "y = np.array([[5, 6],\n",
    "              [7, 8]], dtype=np.float64)\n",
    "\n",
    "# Поэлементная сумма\n",
    "# [[ 6.0  8.0]\n",
    "#  [10.0 12.0]]\n",
    "print(np.array_equal(x + y, np.add(x, y)))\n",
    "\n",
    "# Поэлементная разность\n",
    "# [[-4.0 -4.0]\n",
    "#  [-4.0 -4.0]]\n",
    "print(np.array_equal(x - y, np.subtract(x, y)))\n",
    "\n",
    "# Поэлементное умножение\n",
    "# [[ 5.0 12.0]\n",
    "#  [21.0 32.0]]\n",
    "print(np.array_equal(x * y, np.multiply(x, y)))\n",
    "\n",
    "# Поэлементное извлечение квадратного корня.\n",
    "# [[ 1.          1.41421356]\n",
    "#  [ 1.73205081  2.        ]]\n",
    "print(np.array_equal(x ** (0.5), np.sqrt(x)))\n",
    "\n",
    "# Можно даже возводить элементы одного массива в степень соответствующих\n",
    "# элементов из другого массива.\n",
    "print(y ** x) "
   ]
  },
  {
   "cell_type": "markdown",
   "metadata": {},
   "source": [
    "How do we elementwise divide between two arrays?"
   ]
  },
  {
   "cell_type": "code",
   "execution_count": 23,
   "metadata": {},
   "outputs": [
    {
     "name": "stdout",
     "output_type": "stream",
     "text": [
      "[[0.2        0.33333333]\n",
      " [0.42857143 0.5       ]]\n",
      "[[0.2        0.33333333]\n",
      " [0.42857143 0.5       ]]\n",
      "float64\n",
      "int64\n",
      "[[0 0]\n",
      " [0 0]]\n"
     ]
    }
   ],
   "source": [
    "x = np.array([[1, 2], [3, 4]], dtype=np.int64)\n",
    "y = np.array([[5, 6], [7, 8]], dtype=np.int32)\n",
    "\n",
    "# Поэлементное деление\n",
    "# [[ 0.2         0.33333333]\n",
    "#  [ 0.42857143  0.5       ]]\n",
    "print(x / y)\n",
    "print(np.divide(x, y))\n",
    "print((x / y).dtype)  # тип данных float64\n",
    "print((x // y).dtype) # тип данных int64, так как деление целочисленное и \n",
    "print(x // y)         # оба аргумента имеют целочисленный тип данных (при этом берётся тип с большим количеством бит)"
   ]
  },
  {
   "cell_type": "markdown",
   "metadata": {},
   "source": [
    "Обратите внимание, что * поэлементное умножение, а не матричное. Для того, чтобы посчитать скалярное произведение векторов, умножение вектора на матрицу или матричное умножение, используется функция np.dot. dot может быть вызвана и как атрибут объекта array и как функция модуля numpy. Также вместо функции dot может быть использован оператор @.\n",
    "Матричное умножение не коммутативно: $x \\cdot y \\neq y \\cdot x$!"
   ]
  },
  {
   "cell_type": "code",
   "execution_count": 24,
   "metadata": {},
   "outputs": [
    {
     "name": "stdout",
     "output_type": "stream",
     "text": [
      "219\n",
      "True\n",
      "[29 67]\n",
      "True\n",
      "[[19 22]\n",
      " [43 50]]\n",
      "True\n"
     ]
    }
   ],
   "source": [
    "x = np.array([[1, 2], [3, 4]])\n",
    "y = np.array([[5, 6], [7, 8]])\n",
    "\n",
    "v = np.array([9, 10])\n",
    "w = np.array([11, 12])\n",
    "\n",
    "# IСкалярное произведение векторов; все вернут 219\n",
    "print(v.dot(w))\n",
    "print(np.dot(v, w) == v @ w)\n",
    "\n",
    "# Произведение матрицы на вектор; все вернут одномерный массив (вектор) [29 67]\n",
    "print(x.dot(v))\n",
    "print(np.array_equal(np.dot(x, v), x @ v))\n",
    "\n",
    "# Матричное произведение; все вернут двумерный массив (матрицу)\n",
    "# [[19 22]\n",
    "#  [43 50]]\n",
    "print(x.dot(y))\n",
    "print(np.array_equal(np.dot(x, y), x @ y))"
   ]
  },
  {
   "cell_type": "markdown",
   "metadata": {},
   "source": [
    "Есть много полезных функций, встроенных в NumPy, и часто мы можем выразить их через определенные оси (axes) ndarray:"
   ]
  },
  {
   "cell_type": "code",
   "execution_count": 25,
   "metadata": {},
   "outputs": [
    {
     "name": "stdout",
     "output_type": "stream",
     "text": [
      "21\n",
      "[5 7 9]\n",
      "[ 6 15]\n",
      "[3 6]\n"
     ]
    }
   ],
   "source": [
    "x = np.array([[1, 2, 3], \n",
    "              [4, 5, 6]])\n",
    "\n",
    "print(np.sum(x))          # Сумма всех элементов; prints \"21\"\n",
    "print(np.sum(x, axis=0))  # Сумма элементов в каждом столбце; \"[5 7 9]\"\n",
    "print(np.sum(x, axis=1))  # Сумма элементов в каждой строчке; \"[6 15]\"\n",
    "\n",
    "print(np.max(x, axis=1))  # Максимум в каждой строчке; \"[3 6]\" "
   ]
  },
  {
   "cell_type": "markdown",
   "metadata": {},
   "source": [
    "Как мы можем вычислить индекс максимального значения каждой строки? Напрмер, найти класс, который соответствует максимальной вероятности для входного изображения."
   ]
  },
  {
   "cell_type": "code",
   "execution_count": 26,
   "metadata": {},
   "outputs": [
    {
     "name": "stdout",
     "output_type": "stream",
     "text": [
      "[2 2]\n"
     ]
    }
   ],
   "source": [
    "x = np.array([[0.1, 0.4, 0.5], \n",
    "              [0.2, 0.5, 0.6]])\n",
    "\n",
    "print(np.argmax(x, axis=1)) # Индекс максимума в каждой строчке; \"[2 2]\""
   ]
  },
  {
   "cell_type": "markdown",
   "metadata": {},
   "source": [
    "Мы можем найти индексы элементов, удовлетворяющих некоторым условиям, используя `np.where`"
   ]
  },
  {
   "cell_type": "code",
   "execution_count": 27,
   "metadata": {},
   "outputs": [
    {
     "name": "stdout",
     "output_type": "stream",
     "text": [
      "(array([6, 7], dtype=int64),)\n",
      "[6 7]\n"
     ]
    }
   ],
   "source": [
    "print(np.where(nums > 5))\n",
    "print(nums[np.where(nums > 5)])"
   ]
  },
  {
   "cell_type": "markdown",
   "metadata": {},
   "source": [
    "Обратите внимание, что ось, к которой вы применяете операцию, будет схлопнута.\n",
    "Это полезно иметь в виду, когда вы пытаетесь выяснить соответствие осей."
   ]
  },
  {
   "cell_type": "code",
   "execution_count": 28,
   "metadata": {},
   "outputs": [
    {
     "name": "stdout",
     "output_type": "stream",
     "text": [
      "x ndim: 2\n",
      "1\n",
      "x ndim: 3\n",
      "2\n",
      "1\n"
     ]
    }
   ],
   "source": [
    "x = np.array([[1, 2, 3], \n",
    "              [4, 5, 6]])\n",
    "\n",
    "print('x ndim:', x.ndim)\n",
    "print((x.max(axis=0)).ndim) # Взятие максимума по оси 0 имеет размер (3,)\n",
    "                            # соответствуя 3 столбцам.\n",
    "\n",
    "# Трёхмерный массив (массив ранга 3)\n",
    "x = np.array([[[1, 2, 3], \n",
    "               [4, 5, 6]],\n",
    "              [[10, 23, 33], \n",
    "               [43, 52, 16]]\n",
    "             ])\n",
    "\n",
    "print('x ndim:', x.ndim)          # Имеет размер (2, 2, 3)\n",
    "print((x.max(axis=1)).ndim)       # Взятие максимума по оси 1 имеет размер (2, 3)\n",
    "print((x.max(axis=(1, 2))).ndim)  # Может взять максимум по нескольким осям; [6 52]"
   ]
  },
  {
   "cell_type": "markdown",
   "metadata": {},
   "source": [
    "## Индексирование"
   ]
  },
  {
   "cell_type": "markdown",
   "metadata": {},
   "source": [
    "NumPy также предоставляет мощные схемы индексирования."
   ]
  },
  {
   "cell_type": "code",
   "execution_count": 29,
   "metadata": {},
   "outputs": [
    {
     "name": "stdout",
     "output_type": "stream",
     "text": [
      "Original:\n",
      " [[ 1  2  3  4]\n",
      " [ 5  6  7  8]\n",
      " [ 9 10 11 12]]\n",
      "Element (0, 0) (a[0][0]):\n",
      " 1\n",
      "Element (0, 0) (a[0, 0]) :\n",
      " 1\n",
      "Sliced (a[:2, 1:3]):\n",
      " [[2 3]\n",
      " [6 7]]\n",
      "Reversing the first row (a[0, ::-1]) :\n",
      " [4 3 2 1]\n",
      "slice the first row by the [...] operator: \n",
      " [1 2 3 4]\n"
     ]
    }
   ],
   "source": [
    "# Создаёт следующий массив ранга 2 размера (3, 4)\n",
    "# [[ 1  2  3  4]\n",
    "#  [ 5  6  7  8]\n",
    "#  [ 9 10 11 12]]\n",
    "a = np.array([[1, 2, 3, 4],\n",
    "              [5, 6, 7, 8],\n",
    "              [9, 10, 11, 12]])\n",
    "print('Original:\\n', a)\n",
    "\n",
    "# Можно выбрать элемент, как в 2-мерном списке Python\n",
    "print('Element (0, 0) (a[0][0]):\\n', a[0][0])   # Prints 1\n",
    "# или следующим образом\n",
    "print('Element (0, 0) (a[0, 0]) :\\n', a[0, 0])  # Prints 1\n",
    "\n",
    "# Используя слайсинг, можно вытащить подмассив, состоящий из первых двух строк\n",
    "# и столбцов 1 и 2; получившийся массив имеет размерность (2, 2):\n",
    "# [[2 3]\n",
    "#  [6 7]]\n",
    "print('Sliced (a[:2, 1:3]):\\n', a[:2, 1:3])\n",
    "\n",
    "# Шаги также поддерживаются в индексации. Следующий пример разворачивает первый ряд:\n",
    "print('Reversing the first row (a[0, ::-1]) :\\n', a[0, ::-1]) # [4 3 2 1]\n",
    "\n",
    "# Слайс по первой размерности, работает для n-мерных массивов, где n >= 1\n",
    "print('slice the first row by the [...] operator: \\n', a[0, ...])"
   ]
  },
  {
   "cell_type": "markdown",
   "metadata": {},
   "source": [
    "Часто бывает полезно выбрать или изменить один элемент из каждой строки матрицы. В следующем примере используется **fancy indexing**, где мы индексируем массив, используя массив индексов (скажем, массив целых чисел или булевых значений):"
   ]
  },
  {
   "cell_type": "code",
   "execution_count": 30,
   "metadata": {},
   "outputs": [
    {
     "name": "stdout",
     "output_type": "stream",
     "text": [
      "[[ 1  2  3]\n",
      " [ 4  5  6]\n",
      " [ 7  8  9]\n",
      " [10 11 12]]\n",
      "[ 1  6  7 11]\n",
      "1\n",
      "6\n",
      "7\n",
      "11\n",
      "[[100   2   3]\n",
      " [  4   5   6]\n",
      " [  7   8   9]\n",
      " [ 10  11  12]]\n",
      "[[110   2   3]\n",
      " [  4   5  16]\n",
      " [ 17   8   9]\n",
      " [ 10  21  12]]\n"
     ]
    }
   ],
   "source": [
    "# Создаём новый массив, из которого мы будем выбирать элементы\n",
    "a = np.array([[1, 2, 3],\n",
    "              [4, 5, 6],\n",
    "              [7, 8, 9],\n",
    "              [10, 11, 12]])\n",
    "\n",
    "print(a)  # \"array([[ 1,  2,  3],\n",
    "          #         [ 4,  5,  6],\n",
    "          #         [ 7,  8,  9],\n",
    "          #         [10, 11, 12]])\"\n",
    "\n",
    "# Создаём массив индексов\n",
    "b = np.array([0, 2, 0, 1])\n",
    "\n",
    "# Выбераем один элемент из каждой строки a, используя индексы в b\n",
    "print(a[np.arange(4), b])  # \"[ 1  6  7 11]\"\n",
    "\n",
    "# то же, что и\n",
    "for x, y in zip(np.arange(4), b):\n",
    "    print(a[x, y])\n",
    "\n",
    "c = a[0]\n",
    "c[0] = 100\n",
    "print(a)\n",
    "\n",
    "# Изменять по одному элементу из каждой строки a, используя индексы из b\n",
    "a[np.arange(4), b] += 10\n",
    "\n",
    "print(a)  # \"array([[11,  2,  3],\n",
    "          #        [ 4,  5, 16],\n",
    "          #        [17,  8,  9],\n",
    "          #        [10, 21, 12]])\n"
   ]
  },
  {
   "cell_type": "markdown",
   "metadata": {},
   "source": [
    "Мы также можем использовать логическое индексирование/маски. Предположим, мы хотим установить все элементы больше, чем MAX, равными MAX:"
   ]
  },
  {
   "cell_type": "code",
   "execution_count": 31,
   "metadata": {},
   "outputs": [
    {
     "name": "stdout",
     "output_type": "stream",
     "text": [
      "[False False  True False  True False False]\n",
      "[  1   4 100  -1 100   0   5]\n"
     ]
    }
   ],
   "source": [
    "MAX = 5\n",
    "nums = np.array([1, 4, 10, -1, 15, 0, 5])\n",
    "print(nums > MAX)            # [False, False, True, False, True, False, False]\n",
    "\n",
    "nums[nums > MAX] = 100\n",
    "print(nums)                  # [1, 4, 5, -1, 5, 0, 5]"
   ]
  },
  {
   "cell_type": "code",
   "execution_count": 32,
   "metadata": {},
   "outputs": [
    {
     "data": {
      "text/plain": [
       "array([False, False,  True, False,  True, False, False])"
      ]
     },
     "execution_count": 32,
     "metadata": {},
     "output_type": "execute_result"
    }
   ],
   "source": [
    "nums = np.array([1, 4, 10, -1, 15, 0, 5])\n",
    "nums > 5"
   ]
  },
  {
   "cell_type": "markdown",
   "metadata": {},
   "source": [
    "Обратите внимание, что индексы в fancy indexing могут появляться в любом порядке и даже несколько раз:"
   ]
  },
  {
   "cell_type": "code",
   "execution_count": 33,
   "metadata": {},
   "outputs": [
    {
     "name": "stdout",
     "output_type": "stream",
     "text": [
      "[ 4 10 -1  4  1]\n"
     ]
    }
   ],
   "source": [
    "nums = np.array([1, 4, 10, -1, 15, 0, 5])\n",
    "print(nums[[1, 2, 3, 1, 0]])  # Prints [4 10 -1 4 1]"
   ]
  },
  {
   "cell_type": "markdown",
   "metadata": {},
   "source": [
    "## Broadcasting (Трансляция)"
   ]
  },
  {
   "cell_type": "markdown",
   "metadata": {},
   "source": [
    "Многие из операций, которые мы рассмотрели выше, включали массивы одинакового ранга. \n",
    "Однако часто мы можем иметь меньший массив и использовать его несколько раз для обновления массива больших размерностей. \n",
    "Например, рассмотрим приведенный ниже пример смещения среднего значения каждого столбца от элементов соответствующего столбца:"
   ]
  },
  {
   "cell_type": "code",
   "execution_count": 34,
   "metadata": {},
   "outputs": [
    {
     "name": "stdout",
     "output_type": "stream",
     "text": [
      "(2, 3)\n",
      "[2.  3.5 5. ]\n",
      "(3,)\n",
      "\n",
      " [[-1.  -1.5 -2. ]\n",
      " [ 1.   1.5  2. ]]\n",
      "(2, 3)\n"
     ]
    }
   ],
   "source": [
    "x = np.array([[1, 2, 3],\n",
    "              [3, 5, 7]])\n",
    "print(x.shape)  # (2, 3)\n",
    "\n",
    "col_means = x.mean(axis=0)\n",
    "print(col_means)          # [2. 3.5 5.]\n",
    "print(col_means.shape)    # (3,)\n",
    "                          # Имеет меньший ранг, чем x!\n",
    "\n",
    "mean_shifted = x - col_means\n",
    "print('\\n', mean_shifted)\n",
    "print(mean_shifted.shape)  # (2, 3)"
   ]
  },
  {
   "cell_type": "markdown",
   "metadata": {},
   "source": [
    "Или даже просто умножить матрицу на 2:"
   ]
  },
  {
   "cell_type": "code",
   "execution_count": 35,
   "metadata": {},
   "outputs": [
    {
     "name": "stdout",
     "output_type": "stream",
     "text": [
      "[[ 2  4  6]\n",
      " [ 6 10 14]]\n"
     ]
    }
   ],
   "source": [
    "x = np.array([[1, 2, 3],\n",
    "              [3, 5, 7]])\n",
    "print(x * 2) # [[ 2  4  6]\n",
    "             #  [ 6 10 14]]\n"
   ]
  },
  {
   "cell_type": "markdown",
   "metadata": {},
   "source": [
    "Broadcasting (Трансляция) двух массивов следует этим правилам:\n",
    "\n",
    "1. Если массивы имеют разные ранги, добавьте к массиву более низкого ранга размерность слева (аналогично оборачиванию списка в список), пока оба массива не будут иметь одинаковый ранг.\n",
    "2. Два массива считаются совместимыми в измерении, если они имеют одинаковый размер в измерении, или если один из массивов имеет размер 1 в этом измерении.\n",
    "3. Массивы могут транслироваться вместе, если они совместимы во всех измерениях.\n",
    "4. После трансляции каждый массив ведет себя так, как если бы он имел форму, равную элементному максимуму форм двух входных массивов.\n",
    "5. В любом измерении, где один массив имеет размер 1, а другой - больше 1, первый массив ведет себя так, как если бы он был скопирован вдоль этого измерения."
   ]
  },
  {
   "cell_type": "markdown",
   "metadata": {},
   "source": [
    "Например, при вычитании столбцов выше, мы имели массивы формы (2, 3) и (3,).\n",
    "\n",
    "1. Эти массивы не имеют одинакового ранга, поэтому мы добавим измерение к массиву более низкого ранга, чтобы сделать его (1, 3).\n",
    "2. (2, 3) и (1, 3) совместимы (имеют одинаковый размер в измерении, или если один из массивов имеет размер 1 в этом измерении).\n",
    "3. Можно транслировать вместе!\n",
    "4. После трансляции каждый массив ведет себя так, как если бы он имел форму, равную (2, 3).\n",
    "5. Меньший массив будет вести себя так, как если бы он был скопирован вдоль измерения 0."
   ]
  },
  {
   "cell_type": "markdown",
   "metadata": {},
   "source": [
    "Давайте попробуем вычесть среднее значение каждой строки!"
   ]
  },
  {
   "cell_type": "code",
   "execution_count": 36,
   "metadata": {},
   "outputs": [
    {
     "name": "stdout",
     "output_type": "stream",
     "text": [
      "[2. 5.]\n"
     ]
    },
    {
     "ename": "ValueError",
     "evalue": "operands could not be broadcast together with shapes (2,3) (2,) ",
     "output_type": "error",
     "traceback": [
      "\u001b[1;31m---------------------------------------------------------------------------\u001b[0m",
      "\u001b[1;31mValueError\u001b[0m                                Traceback (most recent call last)",
      "\u001b[1;32m<ipython-input-36-ac464afd6fb7>\u001b[0m in \u001b[0;36m<module>\u001b[1;34m\u001b[0m\n\u001b[0;32m      5\u001b[0m \u001b[0mprint\u001b[0m\u001b[1;33m(\u001b[0m\u001b[0mrow_means\u001b[0m\u001b[1;33m)\u001b[0m  \u001b[1;31m# [2. 5.]\u001b[0m\u001b[1;33m\u001b[0m\u001b[1;33m\u001b[0m\u001b[0m\n\u001b[0;32m      6\u001b[0m \u001b[1;33m\u001b[0m\u001b[0m\n\u001b[1;32m----> 7\u001b[1;33m \u001b[0mmean_shifted\u001b[0m \u001b[1;33m=\u001b[0m \u001b[0mx\u001b[0m \u001b[1;33m-\u001b[0m \u001b[0mrow_means\u001b[0m\u001b[1;33m\u001b[0m\u001b[1;33m\u001b[0m\u001b[0m\n\u001b[0m",
      "\u001b[1;31mValueError\u001b[0m: operands could not be broadcast together with shapes (2,3) (2,) "
     ]
    }
   ],
   "source": [
    "x = np.array([[1, 2, 3],\n",
    "              [3, 5, 7]])\n",
    "\n",
    "row_means = x.mean(axis=1)\n",
    "print(row_means)  # [2. 5.]\n",
    "\n",
    "mean_shifted = x - row_means"
   ]
  },
  {
   "cell_type": "markdown",
   "metadata": {},
   "source": [
    "Чтобы выяснить, что не так, выведем размерности:"
   ]
  },
  {
   "cell_type": "code",
   "execution_count": 37,
   "metadata": {},
   "outputs": [
    {
     "name": "stdout",
     "output_type": "stream",
     "text": [
      "(2, 3)\n",
      "[2. 5.]\n",
      "(2,)\n"
     ]
    }
   ],
   "source": [
    "x = np.array([[1, 2, 3],\n",
    "              [3, 5, 7]])\n",
    "print(x.shape)  # Prints (2, 3)\n",
    "\n",
    "row_means = x.mean(axis=1)\n",
    "print(row_means)        # Prints [2. 5.]\n",
    "print(row_means.shape)  # Prints (2,)"
   ]
  },
  {
   "cell_type": "markdown",
   "metadata": {},
   "source": [
    "Что произошло?"
   ]
  },
  {
   "cell_type": "markdown",
   "metadata": {},
   "source": [
    "Ответ: если бы мы следовали правилу трансляции 1, то мы бы добавили 1 к меньшему ранговому массиву чтобы получить (1, 2). Однако последние измерения теперь не совпадают между (2, 3) и (1, 2), и поэтому мы не можем транслировать."
   ]
  },
  {
   "cell_type": "markdown",
   "metadata": {},
   "source": [
    "Явно добавив размерность в нужном направлении (справа), мы получим желаемое поведение:"
   ]
  },
  {
   "cell_type": "code",
   "execution_count": 38,
   "metadata": {},
   "outputs": [
    {
     "name": "stdout",
     "output_type": "stream",
     "text": [
      "(2, 3)\n",
      "row_means shape: (2,)\n",
      "expanded row_means shape:  (2, 1)\n",
      "[[-1.  0.  1.]\n",
      " [-2.  0.  2.]]\n",
      "(2, 3)\n"
     ]
    }
   ],
   "source": [
    "x = np.array([[1, 2, 3],\n",
    "              [3, 5, 7]])\n",
    "print(x.shape)  # Prints (2, 3)\n",
    "\n",
    "row_means = x.mean(axis=1)\n",
    "print('row_means shape:', row_means.shape)\n",
    "print('expanded row_means shape: ', np.expand_dims(row_means, axis=1).shape)\n",
    "\n",
    "mean_shifted = x - np.expand_dims(row_means, axis=1)\n",
    "print(mean_shifted)\n",
    "print(mean_shifted.shape)  # Prints (2, 3)"
   ]
  },
  {
   "cell_type": "markdown",
   "metadata": {},
   "source": [
    "Больше примеров трансляции!"
   ]
  },
  {
   "cell_type": "code",
   "execution_count": 39,
   "metadata": {},
   "outputs": [
    {
     "name": "stdout",
     "output_type": "stream",
     "text": [
      "[[ 4  5]\n",
      " [ 8 10]\n",
      " [12 15]]\n",
      "[[2 4 6]\n",
      " [5 7 9]]\n",
      "[[ 5  6  7]\n",
      " [ 9 10 11]]\n",
      "[[ 5  6  7]\n",
      " [ 9 10 11]]\n"
     ]
    }
   ],
   "source": [
    "# Посчитать внешнее произведение векторов\n",
    "v = np.array([1, 2, 3])  # v имеет размер (3,)\n",
    "w = np.array([4, 5])    # w имеет размер (2,)\n",
    "# Чтобы вычислить внешнее произведение, мы сначала преобразуем v в вектор-столбец\n",
    "# размера (3, 1); затем мы можем транслировать его против w, чтобы получить \n",
    "# матрицу формы (3, 2), которая является внешним произведением v и w:\n",
    "# [[ 4  5]\n",
    "#  [ 8 10]\n",
    "#  [12 15]]\n",
    "print(np.reshape(v, (3, 1)) * w)\n",
    "\n",
    "# Добавим вектор к каждой строке матрицы\n",
    "x = np.array([[1, 2, 3], [4, 5, 6]])\n",
    "# x имеет форму (2, 3), а v - форму (3,), поэтому они транслируются в (2, 3), \n",
    "# возвращая следующую матрицу:\n",
    "# [[2 4 6]\n",
    "#  [5 7 9]]\n",
    "print(x + v)\n",
    "\n",
    "# Добавьте вектор к каждому столбцу матрицы\n",
    "# x имеет форму (2, 3), а w - форму (2,).\n",
    "# Если мы транспонируем x, то он будет иметь форму (3, 2) и может транслироваться\n",
    "# к w, чтобы получить результат формы (3, 2); транспонирование этого результата\n",
    "# дает конечный результат формы (2, 3), который является матрицей x с\n",
    "# вектор w добавленным к каждому столбцу. Получается следующая матрица:\n",
    "# [[ 5  6  7]\n",
    "#  [ 9 10 11]]\n",
    "print((x.T + w).T)\n",
    "# Другое решение состоит в том, чтобы преобразовать w в вектор-столбец (2, 1);\n",
    "# затем мы можем транслировать его непосредственно к x, чтобы получить тот же результат.\n",
    "print(x + np.reshape(w, (2, 1)))"
   ]
  },
  {
   "cell_type": "markdown",
   "metadata": {},
   "source": [
    "## Представление (Views) vs. Копия (Copies)"
   ]
  },
  {
   "cell_type": "markdown",
   "metadata": {
    "collapsed": true
   },
   "source": [
    "В отличии от copy, в **представлении** массива, данные совместно используются между представлением и массивом. Иногда результаты являются копиями массивов, но в других случаях они могут быть представлениями. Понимание того, когда что генерируется важно, чтобы избежать каких-либо непредвиденных проблем.\n",
    "\n",
    "Представления можно создавать из среза массива, изменяя dtype той же области данных (с помощью arr.view(dtype), а не результат arr.astype(dtype))."
   ]
  },
  {
   "cell_type": "code",
   "execution_count": 40,
   "metadata": {},
   "outputs": [
    {
     "name": "stdout",
     "output_type": "stream",
     "text": [
      "Original:\n",
      " [0 1 2 3 4]\n",
      "Array After Modified View:\n",
      " [ 0  1 -1  3  4]\n"
     ]
    }
   ],
   "source": [
    "x = np.arange(5)\n",
    "print('Original:\\n', x)  # [0 1 2 3 4]\n",
    "\n",
    "# Изменение представления приведет к изменению массива\n",
    "view = x[1:3]\n",
    "view[1] = -1\n",
    "print('Array After Modified View:\\n', x)  # [0 1 -1 3 4]"
   ]
  },
  {
   "cell_type": "code",
   "execution_count": 41,
   "metadata": {},
   "outputs": [
    {
     "name": "stdout",
     "output_type": "stream",
     "text": [
      "View Before Array Modification:\n",
      " [ 1 -1]\n",
      "Array After Modifications:\n",
      " [ 0  1 10  3  4]\n",
      "View After Array Modification:\n",
      " [ 1 10]\n"
     ]
    }
   ],
   "source": [
    "x = np.arange(5)\n",
    "view = x[1:3]\n",
    "view[1] = -1\n",
    "\n",
    "# Изменение массива приведет к изменению представления\n",
    "print('View Before Array Modification:\\n', view)  # [1 -1]\n",
    "x[2] = 10\n",
    "print('Array After Modifications:\\n', x)          # [0 1 10 3 4]\n",
    "print('View After Array Modification:\\n', view)   # [1 10]"
   ]
  },
  {
   "cell_type": "markdown",
   "metadata": {},
   "source": [
    "However, if we use fancy indexing, the result will actually be a copy and not a view:"
   ]
  },
  {
   "cell_type": "code",
   "execution_count": 42,
   "metadata": {},
   "outputs": [
    {
     "name": "stdout",
     "output_type": "stream",
     "text": [
      "Original:\n",
      " [0 1 2 3 4]\n",
      "Copy:\n",
      " [ 1 -1]\n",
      "Array After Modified Copy:\n",
      " [0 1 2 3 4]\n"
     ]
    }
   ],
   "source": [
    "x = np.arange(5)\n",
    "print('Original:\\n', x)  # Prints [0 1 2 3 4]\n",
    "\n",
    "# Изменение результата выбора из-за fancy indexing\n",
    "# не будет изменять исходный массив.\n",
    "copy = x[[1, 2]]\n",
    "copy[1] = -1\n",
    "print('Copy:\\n', copy) # [1 -1]\n",
    "print('Array After Modified Copy:\\n', x)  # [0 1 2 3 4]"
   ]
  },
  {
   "cell_type": "code",
   "execution_count": 43,
   "metadata": {},
   "outputs": [
    {
     "name": "stdout",
     "output_type": "stream",
     "text": [
      "Original:\n",
      " [0 1 2 3 4]\n",
      "Copy:\n",
      " [2 3 4]\n",
      "Modified Array:\n",
      " [ 0  1  2 10  4]\n",
      "Copy After Modified Array:\n",
      " [2 3 4]\n"
     ]
    }
   ],
   "source": [
    "# Еще один пример, связанный с fancy indexing\n",
    "x = np.arange(5)\n",
    "print('Original:\\n', x)  # [0 1 2 3 4]\n",
    "\n",
    "copy = x[x >= 2]\n",
    "print('Copy:\\n', copy) # [2 3 4]\n",
    "x[3] = 10\n",
    "print('Modified Array:\\n', x)  # [0 1 2 10 4]\n",
    "print('Copy After Modified Array:\\n', copy)  # [2 3 4]"
   ]
  },
  {
   "cell_type": "markdown",
   "metadata": {},
   "source": [
    "## Summary\n",
    "\n",
    "1. NumPy - это невероятно мощная библиотека для вычислений, обеспечивающая как огромный прирост эффективности, так и удобство.\n",
    "2. Векторизация! На порядки быстрее.\n",
    "3. Отслеживание формы ваших массивов зачастую полезно.\n",
    "4. Множество полезных математические функций и операций, встроенных в NumPy.\n",
    "5. Выбор и манипулирование произвольными фрагментами данных с помощью мощных схем индексирования.\n",
    "6. Трансляция позволяет производить вычисления в массивах различной формы.\n",
    "7. Следите за представлениями и копиями."
   ]
  },
  {
   "cell_type": "code",
   "execution_count": null,
   "metadata": {},
   "outputs": [],
   "source": []
  }
 ],
 "metadata": {
  "kernelspec": {
   "display_name": "Python 3",
   "language": "python",
   "name": "python3"
  },
  "language_info": {
   "codemirror_mode": {
    "name": "ipython",
    "version": 3
   },
   "file_extension": ".py",
   "mimetype": "text/x-python",
   "name": "python",
   "nbconvert_exporter": "python",
   "pygments_lexer": "ipython3",
   "version": "3.7.6"
  }
 },
 "nbformat": 4,
 "nbformat_minor": 1
}
