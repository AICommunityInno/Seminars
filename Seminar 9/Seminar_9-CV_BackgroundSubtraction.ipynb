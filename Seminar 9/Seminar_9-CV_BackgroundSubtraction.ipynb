{
 "cells": [
  {
   "cell_type": "markdown",
   "metadata": {},
   "source": [
    "# AI Community @ Семинар № 9\n",
    "## Основы компьютерного зрения. Отделение фона. Optical Flow"
   ]
  },
  {
   "cell_type": "markdown",
   "metadata": {},
   "source": [
    "Optical Flow основывается на двух важных предположениях:\n",
    "1. Интенсивность пикселей движущегося объекта не изменяется.\n",
    "1. Соседние пиксели имеют похожие движения.\n",
    "\n",
    "[Optical Flow в OpenCV](https://docs.opencv.org/3.2.0/d7/d8b/tutorial_py_lucas_kanade.html)"
   ]
  },
  {
   "cell_type": "markdown",
   "metadata": {},
   "source": [
    "Следуя выводам из [Optical flow](https://en.wikipedia.org/wiki/Optical_flow) необходимо решить следующее уравнение:\n",
    "$$\\frac{\\partial I}{\\partial x} V_x + \\frac{\\partial I}{\\partial y} V_y + \\frac{\\partial I}{\\partial t} = 0$$"
   ]
  },
  {
   "cell_type": "markdown",
   "metadata": {},
   "source": [
    "$\\frac{\\partial I}{\\partial x}$, $\\frac{\\partial I}{\\partial y}$ и $\\frac{\\partial I}{\\partial t}$ мы можем посчитать по изображению. Остаются две переменные $V_x$ и $V_y$. Одно уравнение относительно двух переменных не решить однозначно. На анимации ниже показано, почему это так. Проблема имеет название [\"Проблема апертуры\"](https://en.wikipedia.org/wiki/Motion_perception#The_aperture_problem). Для решения этого уравнения существуют разные подходы, среди которых:\n",
    "1. [Lucas–Kanade method](https://en.wikipedia.org/wiki/Lucas%E2%80%93Kanade_method)\n",
    "1. [Horn–Schunck method](https://en.wikipedia.org/wiki/Horn%E2%80%93Schunck_method)\n",
    "1. [Farneback Dense Optical Flow](http://www.diva-portal.org/smash/get/diva2:273847/FULLTEXT01.pdf)"
   ]
  },
  {
   "cell_type": "code",
   "execution_count": 14,
   "metadata": {},
   "outputs": [
    {
     "data": {
      "text/html": [
       "<center><img src=\"images/aperture_problem_animated.gif\" width=500></center>"
      ],
      "text/plain": [
       "<IPython.core.display.HTML object>"
      ]
     },
     "execution_count": 14,
     "metadata": {},
     "output_type": "execute_result"
    }
   ],
   "source": [
    "from IPython.display import HTML\n",
    "HTML('<center><img src=\"images/aperture_problem_animated.gif\" width=500></center>')"
   ]
  },
  {
   "cell_type": "markdown",
   "metadata": {},
   "source": [
    "### Алгоритм Лукаса — Канаде"
   ]
  },
  {
   "cell_type": "markdown",
   "metadata": {},
   "source": [
    "#### Теория"
   ]
  },
  {
   "cell_type": "markdown",
   "metadata": {},
   "source": [
    "Алгоритм Лукаса-Канаде основан на втором предположении Optical Flow (естесственно, не без первого в т.ч.).  \n",
    "Рассматривается окно вокруг целевого пикселя (обычно размером 3x3), в котором вектор скорости движения пикселей предполагается одинаковым. Из этого получается система нескольких уравнений, указанных выше. Это переопределенная система (число уравнений больше числа неизвестных), поэтому решить ее предлагается с помощью метода наименьших квадратов. Следуя формулам из [Алгоритм Лукаса — Канаде](https://ru.wikipedia.org/wiki/%D0%90%D0%BB%D0%B3%D0%BE%D1%80%D0%B8%D1%82%D0%BC_%D0%9B%D1%83%D0%BA%D0%B0%D1%81%D0%B0_%E2%80%94_%D0%9A%D0%B0%D0%BD%D0%B0%D0%B4%D0%B5) получаем следующее решение системы уравнений:\n",
    "\n",
    "$$\n",
    "\\begin{bmatrix}\n",
    "    V_x \\\\\n",
    "    V_y\n",
    "\\end{bmatrix}\n",
    "=\n",
    "\\begin{bmatrix}\n",
    "    \\sum_i{I_x(q_i)^2} & \\sum_i{I_x(q_i)I_y(q_i)} \\\\\n",
    "    \\sum_i{I_x(q_i)I_y(q_i)} & \\sum_i{I_y(q_i)^2}\n",
    "\\end{bmatrix}^{-1}\n",
    "\\begin{bmatrix}\n",
    "    - \\sum_i{I_x(q_i)I_t(q_i)} \\\\\n",
    "    - \\sum_i{I_y(q_i)I_t(q_i)}\n",
    "\\end{bmatrix}\n",
    "$$"
   ]
  },
  {
   "cell_type": "markdown",
   "metadata": {},
   "source": [
    "#### Практика"
   ]
  },
  {
   "cell_type": "code",
   "execution_count": 9,
   "metadata": {
    "collapsed": true
   },
   "outputs": [],
   "source": [
    "import cv2"
   ]
  },
  {
   "cell_type": "markdown",
   "metadata": {},
   "source": [
    "### Farneback Dense Optical Flow"
   ]
  },
  {
   "cell_type": "markdown",
   "metadata": {},
   "source": [
    "#### Немного теории"
   ]
  },
  {
   "cell_type": "markdown",
   "metadata": {},
   "source": [
    "#### Практика"
   ]
  }
 ],
 "metadata": {
  "kernelspec": {
   "display_name": "Python 3",
   "language": "python",
   "name": "python3"
  },
  "language_info": {
   "codemirror_mode": {
    "name": "ipython",
    "version": 3
   },
   "file_extension": ".py",
   "mimetype": "text/x-python",
   "name": "python",
   "nbconvert_exporter": "python",
   "pygments_lexer": "ipython3",
   "version": "3.6.2"
  }
 },
 "nbformat": 4,
 "nbformat_minor": 2
}
