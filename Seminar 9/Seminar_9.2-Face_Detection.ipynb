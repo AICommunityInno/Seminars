{
 "cells": [
  {
   "cell_type": "markdown",
   "metadata": {},
   "source": [
    "# AI Community @ Семинар № 9\n",
    "## Поиск лиц на изображении"
   ]
  },
  {
   "cell_type": "markdown",
   "metadata": {},
   "source": [
    "План занятия:\n",
    "\n",
    "* Немного теории: \n",
    "  * Про признаки: края, линии, диагонали и как их используют\n",
    "  * Отбрасывание ненужных признаков: adaboost\n",
    "  * Еще большее ускорение: каскады\n",
    "* Практика:\n",
    "  * Пример с человеком\n",
    "  * Пример с несколькими людьми\n",
    "  * Пример с кошкой"
   ]
  }
 ],
 "metadata": {
  "kernelspec": {
   "display_name": "Python 3",
   "language": "python",
   "name": "python3"
  },
  "language_info": {
   "codemirror_mode": {
    "name": "ipython",
    "version": 3
   },
   "file_extension": ".py",
   "mimetype": "text/x-python",
   "name": "python",
   "nbconvert_exporter": "python",
   "pygments_lexer": "ipython3",
   "version": "3.6.0"
  }
 },
 "nbformat": 4,
 "nbformat_minor": 2
}
