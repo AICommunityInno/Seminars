{
 "cells": [
  {
   "cell_type": "markdown",
   "metadata": {},
   "source": [
    "# Введение в линейную алгебру"
   ]
  },
  {
   "cell_type": "markdown",
   "metadata": {},
   "source": [
    "### Линейные пространства\n",
    "__Определение.__ Линейное (векторное) пространство $\\mathrm{V}(\\mathbb{F})$ над полем $\\mathbb{F}$ — упорядоченная четверка $(\\mathrm{V}, \\mathbb{F}, +, •)$, где:\n",
    "\n",
    "1) $\\mathrm{V}$ — непустое множество векторов (произвольной природы),\n",
    "\n",
    "2) $\\mathbb{F}$ — поле скаляров\n",
    "\n",
    "3) $+: \\mathrm{V} \\times \\mathrm{V} \\rightarrow \\mathrm{V}$ — операция сложения двух векторов,\n",
    "\n",
    "4) $•: \\mathbb{F} \\times \\mathrm{V} \\rightarrow \\mathrm{V}$ — операция умножения скаляра на вектор."
   ]
  },
  {
   "cell_type": "markdown",
   "metadata": {},
   "source": [
    "Для линейных пространств задаются следующие аксиомы:\n",
    "\n",
    "1) $\\forall x, y \\in \\mathrm{V}: x + y = y + x$ *(Коммутативность сложения)*\n",
    "\n",
    "2) $\\forall x, y, z \\in \\mathrm{V}: (x + y) + z = x + (y + z)$ *(Ассоциативность сложения)*\n",
    "\n",
    "3) $\\exists \\mathbb{0} \\in \\mathrm{V}\\ \\forall x \\in \\mathrm{V}: x + \\mathbb{0} = x$ *(Существование нейтрального элемента по сложению)*\n",
    "\n",
    "4) $\\forall x \\in \\mathrm{V}\\ \\exists (-x) \\in \\mathrm{V}: x + (-x) = \\mathbb{0}$ *(Существования противоположного элемента по сложению)*\n",
    "\n",
    "5) $\\forall \\alpha, \\beta \\in \\mathbb{F}\\ \\forall x \\in \\mathrm{V}: \\alpha(\\beta x) = (\\alpha \\beta) x$ *(Ассоциативность умножения скаляров на вектор)*\n",
    "\n",
    "6) $\\forall x \\in \\mathrm{V}: \\mathbb{1} • x = x $ *(Нейтральный элемент по умножению из поля является нейтральным элементов для операции умножения на вектор)*\n",
    "\n",
    "7) $\\forall \\alpha, \\beta \\in \\mathbb{F}\\ \\forall x \\in \\mathrm{V}: (\\alpha + \\beta) x = \\alpha x + \\beta x$ *(Дистрибутивность сложения скаляров относительно умножения скаляра на вектор)*\n",
    "\n",
    "8) $\\forall \\alpha \\in \\mathbb{F}\\ \\forall x, y \\in \\mathrm{V}: \\alpha (x + y) = \\alpha x + \\alpha y$ *(Дистрибутивность сложения векторов относительно умножения на скаляр)*"
   ]
  },
  {
   "cell_type": "markdown",
   "metadata": {},
   "source": [
    "__Примеры__: \n",
    "\n",
    "* $\\mathbb{R}^n$ — линейное пространство векторов-столбцов из $\\mathbb{R}$ высоты $n$.\n",
    "* $\\mathrm{C}[a, b]$ — пространство непрерывных функций действительной переменной на отрезке $[a,b]$."
   ]
  },
  {
   "cell_type": "markdown",
   "metadata": {},
   "source": [
    "__Определение__. Пусть $x_1, ..., x_n \\in \\mathrm{V}, \\alpha_1, ..., \\alpha_n \\in \\mathbb{F}$.\n",
    "\n",
    "Линейной комбинацией векторов $x_1, ..., x_n$ с коэффициентами $\\alpha_1, ..., \\alpha_n$ называется следующая сумма:\n",
    "\n",
    "$$ \\alpha_1 x_1 + \\alpha_2 x_2 + ... + \\alpha_n x_n = \\sum_{i=1}^{n} \\alpha_i x_i$$"
   ]
  },
  {
   "cell_type": "markdown",
   "metadata": {},
   "source": [
    "---\n",
    "### Операции в линейных пространствах\n",
    "\n",
    "Следующие определения для удобства рассмотрены над $\\mathbb{R}^n$. Их можно обобщить для произвольных линейных пространств.\n",
    "\n",
    "Условимся писать координаты векторов сверху, а их индексы снизу."
   ]
  },
  {
   "cell_type": "markdown",
   "metadata": {},
   "source": [
    "__Определение__. Пусть $a, x \\in \\mathbb{R}^n$. $a = \\begin{pmatrix} a^1 \\\\ ... \\\\ a^n \\end{pmatrix}$ — вектор параметров, $x = \\begin{pmatrix} x^1 \\\\ ... \\\\ x^n \\end{pmatrix}$ — вектор-аргумент.\n",
    "\n",
    "(Однородной) линейной функцией называется следующая функция $f: \\mathbb{R}^n \\rightarrow \\mathbb {R}$:\n",
    "\n",
    "$$ f(x) = \\langle a, x \\rangle = \\sum_{i=1}^n a^i x^i $$.\n",
    "\n",
    "__Упражнение__. Докажите следующее тождество (линейность по аргументу):\n",
    "\n",
    "$$ \\forall x, y \\in \\mathbb{R}^n, \\forall \\alpha, \\beta \\in \\mathbb{R}: \\langle a, \\alpha x + \\beta y \\rangle = \\alpha \\langle a, x \\rangle + \\beta \\langle a, y \\rangle $$"
   ]
  },
  {
   "cell_type": "markdown",
   "metadata": {},
   "source": [
    "__Определение.__ Пусть $x, y \\in \\mathrm{R}^n$. Скалярным произведением векторов $x$ и $y$ называется следующая сумма:\n",
    "\n",
    "$$ \\langle x, y \\rangle = \\sum_{i=1}^n x^i y^i$$.\n",
    "\n",
    "__Упражнение__. Показать коммутативность скалярного произведения и его линейность по первому аргументу."
   ]
  },
  {
   "cell_type": "markdown",
   "metadata": {},
   "source": [
    "__Определение.__ Пусть $x \\in \\mathbb{R}^n$. Евклидовой нормой вектора $x$ называется следующее выражение:\n",
    "\n",
    "$$ ||x||_2 = \\sqrt{\\langle x, x \\rangle} = \\sqrt{\\sum_{i=1}^n x^i x^i}$$.\n",
    "\n",
    "Различные нормы являются обобщением длины для произвольных векторных пространств. Помимо этого, при помощи любой нормы $||\\cdot||$ можно определить метрику следующим образом: $\\rho(x, y) = ||x - y||$."
   ]
  },
  {
   "cell_type": "markdown",
   "metadata": {},
   "source": [
    "---\n",
    "### Матрицы и операции с ними\n",
    "\n",
    "__Определение__. Матрицей $A$ размера $n \\times k$ над полем $\\mathbb{F}$ называется следующая таблица из элементов $a_{ij}$:\n",
    "\n",
    "$$ A = \\begin{pmatrix}\n",
    "    a_{11} & \\cdots & a_{1k} \\\\\n",
    "    \\vdots & \\ddots & \\vdots \\\\\n",
    "    a_{n1} & \\cdots& a_{nk}\n",
    "\\end{pmatrix}\n",
    "$$\n",
    "\n",
    "Матрицу можно представить как вектор-строку из векторов-столбцов $a_i \\in \\mathbb{F}^n$:\n",
    "\n",
    "$$ A = \\begin{pmatrix}\n",
    "    a_1 & \\cdots & a_k \\\\\n",
    "\\end{pmatrix}\n",
    "$$"
   ]
  },
  {
   "cell_type": "code",
   "execution_count": null,
   "metadata": {
    "collapsed": true
   },
   "outputs": [],
   "source": []
  }
 ],
 "metadata": {
  "kernelspec": {
   "display_name": "Python 3",
   "language": "python",
   "name": "python3"
  },
  "language_info": {
   "codemirror_mode": {
    "name": "ipython",
    "version": 3
   },
   "file_extension": ".py",
   "mimetype": "text/x-python",
   "name": "python",
   "nbconvert_exporter": "python",
   "pygments_lexer": "ipython3",
   "version": "3.6.2"
  }
 },
 "nbformat": 4,
 "nbformat_minor": 2
}
