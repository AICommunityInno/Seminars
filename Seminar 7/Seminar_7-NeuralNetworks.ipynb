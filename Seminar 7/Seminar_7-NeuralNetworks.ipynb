{
 "cells": [
  {
   "cell_type": "markdown",
   "metadata": {},
   "source": [
    "## Мотивация: Мат. формулировка задачи ML\n",
    "\n",
    "$(x_i,y_i)$ - обучающая выборка ($x_i$ - вектор, $y_i$ - число)  \n",
    "$f(x)$ - классификатор/регрессор  \n",
    "$L(y_{pred}, y_{real})$ - функция потерь  \n",
    "#### Задача\n",
    "$$\\min_f\\sum_iL(f(x_i),y_i)$$\n",
    "#### Конкретная задача \n",
    "Лин.регрессия:  \n",
    "<img src=\"./images/regres1.gif\" alt=\"Drawing\" style=\"height: 150px;\"/>\n",
    "$x_i$ - число  \n",
    "$y_i$ - число  \n",
    "$f(x) = \\alpha x$  \n",
    "$L(y_{pred}, y_{real}) = (y_{pred} - y_{real})^2$\n",
    "\n",
    "\n",
    "$$\\min_\\alpha\\sum_i(\\alpha x_i - y_i)^2$$\n",
    "\n",
    "Как решать?  \n",
    "Как в школе - находим производную, приравниваем к нулю.\n",
    "$$(\\sum_i(\\alpha x_i - y_i)^2)'_{alpha} = (\\sum_i(\\alpha^2 x_i^2 - 2\\alpha_ix_iy_i + y_i^2))'_{alpha}= \\sum_i(\\alpha^2 x_i^2 - 2\\alpha_ix_iy_i + y_i^2)'_{alpha} = \\sum_i(\\alpha^2 x_i^2 - 2\\alpha_ix_iy_i + y_i^2)'_{alpha} = \\sum_i(2\\alpha x_i^2 - 2x_iy_i) = $$\n",
    "$$ =  2\\alpha\\sum_i x_i^2 - 2\\sum_i x_iy_i $$\n",
    "$$2\\alpha\\sum_i x_i^2 - 2\\sum_i x_iy_i = 0$$\n",
    "$$\\alpha = \\frac{\\sum_i x_iy_i}{\\sum_i x_i^2}$$\n",
    "Решили задачу, нашли идеальную $f(x)$\n",
    "\n",
    "В нейроночках всё примерно так же. Тоже нужна производная (градиент).\n",
    "\n",
    "Мораль:\n",
    "1. Задача обучения - задача оптимизации\n",
    "2. Для того, чтобы модель хоро"
   ]
  },
  {
   "cell_type": "code",
   "execution_count": null,
   "metadata": {
    "collapsed": true
   },
   "outputs": [],
   "source": []
  }
 ],
 "metadata": {
  "kernelspec": {
   "display_name": "Python [default]",
   "language": "python",
   "name": "python3"
  },
  "language_info": {
   "codemirror_mode": {
    "name": "ipython",
    "version": 3
   },
   "file_extension": ".py",
   "mimetype": "text/x-python",
   "name": "python",
   "nbconvert_exporter": "python",
   "pygments_lexer": "ipython3",
   "version": "3.6.1"
  }
 },
 "nbformat": 4,
 "nbformat_minor": 2
}
