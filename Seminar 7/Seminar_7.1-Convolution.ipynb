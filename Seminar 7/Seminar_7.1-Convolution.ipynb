{
 "cells": [
  {
   "cell_type": "markdown",
   "metadata": {},
   "source": [
    "# AI Community @ Семинар № 7\n",
    "## Операция свертки $*$"
   ]
  },
  {
   "cell_type": "markdown",
   "metadata": {},
   "source": [
    "### Краткая теория"
   ]
  },
  {
   "cell_type": "markdown",
   "metadata": {},
   "source": [
    "Операция свертки матрицы $x$ с ядром (фильтром) $w$:  \n",
    "$$(x * w)[i, j] = \\sum_{a = -A}^{A} \\sum_{b = -B}^{B} \\space w[a, b] \\cdot x[i + a, j + b]$$  \n",
    "![](images/convolution.png)\n",
    "Фильтр $w$ имеет размер $(2A + 1)\\times(2B + 1)$.  \n",
    "Свертку можно использовать для применения фильтров к изображениям."
   ]
  },
  {
   "cell_type": "markdown",
   "metadata": {},
   "source": [
    "### Примеры"
   ]
  },
  {
   "cell_type": "code",
   "execution_count": null,
   "metadata": {},
   "outputs": [],
   "source": [
    "import skimage\n",
    "import numpy as np\n",
    "\n",
    "from scipy.signal import convolve2d\n",
    "from skimage.io import imread\n",
    "from skimage.measure import block_reduce\n",
    "from matplotlib import pyplot as plt\n",
    "from utils import gaussian\n",
    "\n",
    "%matplotlib inline"
   ]
  },
  {
   "cell_type": "code",
   "execution_count": null,
   "metadata": {
    "scrolled": true
   },
   "outputs": [],
   "source": [
    "X = imread(\"./images/mysia.jpg\")"
   ]
  },
  {
   "cell_type": "code",
   "execution_count": null,
   "metadata": {},
   "outputs": [],
   "source": [
    "plt.imshow(X);"
   ]
  },
  {
   "cell_type": "markdown",
   "metadata": {},
   "source": [
    "#### Размытие"
   ]
  },
  {
   "cell_type": "markdown",
   "metadata": {},
   "source": [
    "Чтобы создать эффект размытия изображения, свернем изображение с фильтром Гаусса.  \n",
    "Используем функцию, которую мы использовали в Семинаре 2 для создания виньетки:"
   ]
  },
  {
   "cell_type": "code",
   "execution_count": null,
   "metadata": {},
   "outputs": [],
   "source": [
    "size = 50\n",
    "gaussian_filter = gaussian((size, size), int(size / 2), int(size / 2), 20, 20)"
   ]
  },
  {
   "cell_type": "code",
   "execution_count": null,
   "metadata": {},
   "outputs": [],
   "source": [
    "plt.imshow(gaussian_filter, cmap='gray');"
   ]
  },
  {
   "cell_type": "markdown",
   "metadata": {},
   "source": [
    "Теперь сделаем свертку.  \n",
    "Используем метод `convolve2d` из `scipy.signal`:"
   ]
  },
  {
   "cell_type": "code",
   "execution_count": null,
   "metadata": {},
   "outputs": [],
   "source": [
    "plt.figure(figsize=(7, 7))\n",
    "plt.imshow(convolve2d(skimage.color.rgb2gray(X), gaussian_filter), cmap='gray');"
   ]
  },
  {
   "cell_type": "markdown",
   "metadata": {},
   "source": [
    "---\n",
    "#### Нахождение границ на изображении"
   ]
  },
  {
   "cell_type": "markdown",
   "metadata": {},
   "source": [
    "Для нахождения границ, свернем изображение $A$ с операторами Собеля $sobel_x$ и $sobel_y$ для получения градиентов на изображении в горизонтальном и вертикальном направлении.  "
   ]
  },
  {
   "cell_type": "markdown",
   "metadata": {},
   "source": [
    "$$\n",
    "sobel_x = \\begin{pmatrix} -1 & 0 & 1 \\\\ -2 & 0 & 2 \\\\ -1 & 0 & 1 \\end{pmatrix}, sobel_y = \\begin{pmatrix} 1 & 2 & 1 \\\\ 0 & 0 & 0 \\\\ -1 & -2 & -1 \\end{pmatrix}, \n",
    "$$\n",
    "$$G_x = sobel_x * A$$ \n",
    "$$G_y = sobel_y * A$$\n",
    "$$edges = \\sqrt{G_x^2 + G_y^2}$$"
   ]
  },
  {
   "cell_type": "markdown",
   "metadata": {},
   "source": [
    "Направление градиента: $\\Theta = \\mathrm{arctan}\\space \\frac{G_y}{G_x}$"
   ]
  },
  {
   "cell_type": "code",
   "execution_count": null,
   "metadata": {},
   "outputs": [],
   "source": [
    "sobel_x = np.array([\n",
    "    [-1, 0, 1],\n",
    "    [-2, 0, 2],\n",
    "    [-1, 0, 1]\n",
    "])\n",
    "\n",
    "sobel_y = np.array([\n",
    "    [1,  2,  1],\n",
    "    [0,  0,  0],\n",
    "    [-1, -2, -1]\n",
    "])\n",
    "\n",
    "channels = []\n",
    "for d in range(3):\n",
    "    sx, sy = convolve2d(X[:, :, d], sobel_x), convolve2d(X[:, :, d], sobel_y)\n",
    "    channels.append(np.sqrt(sx * sx + sy * sy)) # edges\n",
    "#     channels.append(np.arctan2(sy, sx)) # gradient direction\n",
    "\n",
    "im_conv = np.stack(channels, axis=2).astype(\"uint8\")\n",
    "plt.figure(figsize=(7, 7))\n",
    "plt.imshow(im_conv);"
   ]
  },
  {
   "cell_type": "markdown",
   "metadata": {},
   "source": [
    "---\n",
    "#### Градиент по одному направлению"
   ]
  },
  {
   "cell_type": "code",
   "execution_count": null,
   "metadata": {},
   "outputs": [],
   "source": [
    "plt.figure(figsize=(7, 7))\n",
    "plt.imshow(convolve2d(skimage.color.rgb2gray(X), sobel_y), cmap='inferno');"
   ]
  },
  {
   "cell_type": "markdown",
   "metadata": {},
   "source": [
    "---\n",
    "#### Случайный фильтр"
   ]
  },
  {
   "cell_type": "code",
   "execution_count": null,
   "metadata": {},
   "outputs": [],
   "source": [
    "random_filter = np.random.randint(-5, 6, (4, 4))\n",
    "random_filtered_image = convolve2d(skimage.color.rgb2gray(X), random_filter)\n",
    "plt.figure(figsize=(7, 7))\n",
    "plt.imshow(random_filtered_image, cmap='gray');"
   ]
  },
  {
   "cell_type": "markdown",
   "metadata": {},
   "source": [
    "## Pooling"
   ]
  },
  {
   "cell_type": "markdown",
   "metadata": {},
   "source": [
    "### Краткая теория"
   ]
  },
  {
   "cell_type": "markdown",
   "metadata": {},
   "source": [
    "Pooling - операция, агрегирующая данные прямоугольной области размера $h \\times h$ с помощью функции $F$.  \n",
    "$$pool(i, j) = F(x[i, j], ..., x[i + h - 1, j + h - 1]).$$\n",
    "$F$ - агрегирующая функция, может быть $\\mathrm{max}$, $\\mathrm{min}$, ...  \n",
    "![](images/pooling.png)"
   ]
  },
  {
   "cell_type": "markdown",
   "metadata": {},
   "source": [
    "### Примеры"
   ]
  },
  {
   "cell_type": "code",
   "execution_count": null,
   "metadata": {
    "collapsed": true
   },
   "outputs": [],
   "source": [
    "def show_pooling(aggregate_function, block_size=15):\n",
    "    channels = []\n",
    "    for d in range(3):\n",
    "        channels.append(block_reduce(X[:, :, d], (block_size, block_size), aggregate_function))\n",
    "    image_pooled = np.stack(channels, axis=2).astype('uint8')\n",
    "    plt.figure(figsize=(7, 7))\n",
    "    plt.imshow(image_pooled)\n",
    "    plt.show()"
   ]
  },
  {
   "cell_type": "markdown",
   "metadata": {},
   "source": [
    "#### Max-pooling"
   ]
  },
  {
   "cell_type": "code",
   "execution_count": null,
   "metadata": {},
   "outputs": [],
   "source": [
    "show_pooling(np.max)"
   ]
  },
  {
   "cell_type": "markdown",
   "metadata": {},
   "source": [
    "#### Average-pooling"
   ]
  },
  {
   "cell_type": "code",
   "execution_count": null,
   "metadata": {},
   "outputs": [],
   "source": [
    "show_pooling(np.mean)"
   ]
  },
  {
   "cell_type": "markdown",
   "metadata": {},
   "source": [
    "#### Min-pooling"
   ]
  },
  {
   "cell_type": "code",
   "execution_count": null,
   "metadata": {},
   "outputs": [],
   "source": [
    "show_pooling(np.min)"
   ]
  },
  {
   "cell_type": "markdown",
   "metadata": {},
   "source": [
    "#### Variance-pooling"
   ]
  },
  {
   "cell_type": "code",
   "execution_count": null,
   "metadata": {},
   "outputs": [],
   "source": [
    "show_pooling(np.var)"
   ]
  },
  {
   "cell_type": "markdown",
   "metadata": {},
   "source": [
    "Источники и ссылки:  \n",
    "1. [Conway's Game of Life using Convolutions](http://nbviewer.jupyter.org/gist/jiffyclub/3778422)\n",
    "2. [CS231n: Convolutional Neural Networks](http://cs231n.github.io/convolutional-networks/)"
   ]
  }
 ],
 "metadata": {
  "kernelspec": {
   "display_name": "Python 3",
   "language": "python",
   "name": "python3"
  },
  "language_info": {
   "codemirror_mode": {
    "name": "ipython",
    "version": 3
   },
   "file_extension": ".py",
   "mimetype": "text/x-python",
   "name": "python",
   "nbconvert_exporter": "python",
   "pygments_lexer": "ipython3",
   "version": "3.6.0"
  }
 },
 "nbformat": 4,
 "nbformat_minor": 2
}
