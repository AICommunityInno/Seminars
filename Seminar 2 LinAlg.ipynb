{
 "cells": [
  {
   "cell_type": "markdown",
   "metadata": {},
   "source": [
    "# AI Community @ Семинар №2"
   ]
  },
  {
   "cell_type": "markdown",
   "metadata": {},
   "source": [
    "![Матрица](../matrix.png \"Матрица курильщика\")"
   ]
  },
  {
   "cell_type": "markdown",
   "metadata": {},
   "source": [
    "## Небольшое введение"
   ]
  },
  {
   "cell_type": "markdown",
   "metadata": {},
   "source": [
    "Привет. Сегодня мы расскажем вам совсем немного терминов из линейной алгебры.  \n",
    "Возможно, вы и так уже это все знаете. Не отчаивайтесь: повторение - мать учения."
   ]
  },
  {
   "cell_type": "markdown",
   "metadata": {},
   "source": [
    "### Вектор"
   ]
  },
  {
   "cell_type": "markdown",
   "metadata": {},
   "source": [
    "Вектор $\\mathbf{v}$ (или $\\vec{v}$) - это массив из чисел $x_{\\textit{i}}$."
   ]
  },
  {
   "cell_type": "markdown",
   "metadata": {},
   "source": [
    "$$\\mathbf{v} = \\vec{v} = \n",
    "\\begin{pmatrix}\n",
    "x_{\\textit{1}} \\\\\n",
    "x_{\\textit{2}} \\\\\n",
    "\\dots \\\\\n",
    "x_{\\textit{n}}\n",
    "\\end{pmatrix}\n",
    "$$"
   ]
  },
  {
   "cell_type": "markdown",
   "metadata": {},
   "source": [
    "В векторе выше $n$ элементов.  \n",
    "Нумерация начинается с 1. Возьмем третий элемент вектора:"
   ]
  },
  {
   "cell_type": "markdown",
   "metadata": {},
   "source": [
    "$$\\mathbf{v}_{3} = x_{\\textbf{3}}$$"
   ]
  },
  {
   "cell_type": "markdown",
   "metadata": {},
   "source": [
    "Пример:"
   ]
  },
  {
   "cell_type": "markdown",
   "metadata": {},
   "source": [
    "$$\\mathbf{v} =  \n",
    "\\begin{pmatrix}\n",
    "12 \\\\\n",
    "3 \\\\\n",
    "1 \\\\\n",
    "17\n",
    "\\end{pmatrix}, \n",
    "\\mathbf{v}_{2} = 3\n",
    "$$\n"
   ]
  },
  {
   "cell_type": "markdown",
   "metadata": {},
   "source": [
    "#### Транспонирование"
   ]
  },
  {
   "cell_type": "markdown",
   "metadata": {},
   "source": [
    "Обычно вектор представляют в виде столбца.  \n",
    "Можно представить вектор в виде строки с помощью операции транспонирования $\\mathbf{v}^{\\top}$:"
   ]
  },
  {
   "cell_type": "markdown",
   "metadata": {},
   "source": [
    "$$\n",
    "\\begin{pmatrix}\n",
    "x_{\\textit{1}} \\\\\n",
    "x_{\\textit{2}} \\\\\n",
    "\\dots \\\\\n",
    "x_{\\textit{n}}\n",
    "\\end{pmatrix}^{\\top}\n",
    "=\n",
    "\\begin{pmatrix}\n",
    "x_{\\textit{1}} , x_{\\textit{2}} , \\dots , x_{\\textit{n}}\n",
    "\\end{pmatrix}\n",
    "$$"
   ]
  },
  {
   "cell_type": "markdown",
   "metadata": {},
   "source": [
    "Если вам по какой-то причине захочется превратить вектор-строку обратно в вектор-столбец, вы можете воспользоваться операцией транспонирования снова, ведь $(\\mathbf{v}^{\\top})^{\\top} = \\mathbf{v}$."
   ]
  },
  {
   "cell_type": "markdown",
   "metadata": {},
   "source": [
    "#### Перемножение"
   ]
  },
  {
   "cell_type": "markdown",
   "metadata": {},
   "source": [
    "### Матрица"
   ]
  },
  {
   "cell_type": "markdown",
   "metadata": {},
   "source": [
    "Матрица $\\pmb{M}$ - это таблица из элементов $x_{\\textit{ij}}$.  "
   ]
  },
  {
   "cell_type": "markdown",
   "metadata": {},
   "source": [
    "$$\n",
    "\\pmb{M} = \n",
    "\\begin{bmatrix}\n",
    "    x_{1,1} & x_{1,2} & x_{1,3} & \\dots  & x_{1,n} \\\\\n",
    "    x_{2,1} & x_{2,2} & x_{2,3} & \\dots  & x_{2,n} \\\\\n",
    "    \\vdots & \\vdots & \\vdots & \\ddots & \\vdots \\\\\n",
    "    x_{m,1} & x_{m,2} & x_{m,3} & \\dots  & x_{m,n}\n",
    "\\end{bmatrix}\n",
    "$$"
   ]
  },
  {
   "cell_type": "markdown",
   "metadata": {},
   "source": [
    "Матрица состоит из строк и столбцов.  \n",
    "Размер матрицы выше - $m \\times n$. Это значит, что в ней $m$ строк и $n$ столбцов.  \n",
    "Возьмем элемент $x_{\\textit{ij}}$.  \n",
    "*i* - номер строки, в которой находится данный элемент.  \n",
    "*j* - номер столбца, в котором находится данный элемент.  \n",
    "Нумерация начинается с 1. Возьмем элемент из второй строки и третьего столбца:"
   ]
  },
  {
   "cell_type": "markdown",
   "metadata": {},
   "source": [
    "$$\\pmb{M}_{\\textit{2,3}} = x_{2,3}$$"
   ]
  },
  {
   "cell_type": "markdown",
   "metadata": {},
   "source": [
    "Пример:  \n",
    "$$\n",
    "\\begin{bmatrix}\n",
    "7 & 2 \\\\\n",
    "3 & 999 \\\\\n",
    "-2 & 0\n",
    "\\end{bmatrix}_{\\textit{ 3,1}} = -2\n",
    "$$"
   ]
  },
  {
   "cell_type": "markdown",
   "metadata": {},
   "source": [
    "#### Транспонирование"
   ]
  },
  {
   "cell_type": "markdown",
   "metadata": {},
   "source": [
    "$$\n",
    "\\begin{bmatrix}\n",
    "1 & 2 & 3 \\\\\n",
    "4 & 5 & 6\n",
    "\\end{bmatrix}^{\\top}\n",
    "=\n",
    "\\begin{bmatrix}\n",
    "1 & 4 \\\\\n",
    "2 & 5 \\\\\n",
    "3 & 6\n",
    "\\end{bmatrix}\n",
    "$$"
   ]
  },
  {
   "cell_type": "markdown",
   "metadata": {},
   "source": [
    "Скоро вы увидите, как сделать это с помощью `numpy`."
   ]
  },
  {
   "cell_type": "markdown",
   "metadata": {},
   "source": [
    "#### Главная диагональ и Единичная матрица"
   ]
  },
  {
   "cell_type": "markdown",
   "metadata": {},
   "source": [
    "Главная диагональ - это элементы матрицы $x_{\\textit{i,j}}$ при $\\textit{i = j}$.  \n",
    "Проще говоря, это значения матрицы, которые лежат на диагонали, идущей от левого верхнего угла матрицы до ее правого нижнего угла."
   ]
  },
  {
   "cell_type": "markdown",
   "metadata": {},
   "source": [
    "$$\n",
    "\\pmb{I} = \n",
    "\\begin{bmatrix}\n",
    "    1 & 0 & 0 & 0 \\\\\n",
    "    0 & 1 & 0 & 0 \\\\\n",
    "    0 & 0 & 1 & 0 \\\\\n",
    "    0 & 0 & 0 & 1\n",
    "\\end{bmatrix}\n",
    "$$"
   ]
  },
  {
   "cell_type": "markdown",
   "metadata": {},
   "source": [
    "Например, на матрице выше значения на главной диагонали равны $1$, а вне главной диагонали - $0$.  \n",
    "Кстати, такая матрица (независимо от размера) называется единичной и обозначается $\\pmb{I}$."
   ]
  },
  {
   "cell_type": "markdown",
   "metadata": {},
   "source": [
    "#### Перемножение"
   ]
  },
  {
   "cell_type": "markdown",
   "metadata": {},
   "source": [
    "В Machine Learning иногда используется перемножение матриц с матрицами и матриц с векторами.  \n",
    "Поэтому, важно понимать, как оно происходит."
   ]
  },
  {
   "cell_type": "markdown",
   "metadata": {},
   "source": [
    "##### Матрица на вектор"
   ]
  },
  {
   "cell_type": "markdown",
   "metadata": {},
   "source": [
    "$$\n",
    "\\begin{bmatrix}\n",
    "1 & 2 & 3 \\\\\n",
    "4 & 5 & 6\n",
    "\\end{bmatrix}\n",
    "\\cdot\n",
    "\\begin{bmatrix}\n",
    "a \\\\\n",
    "b \\\\\n",
    "c \n",
    "\\end{bmatrix}\n",
    "=\n",
    "\\begin{bmatrix}\n",
    "1a + 2b + 3c \\\\\n",
    "4a + 5b + 6c \n",
    "\\end{bmatrix}\n",
    "$$"
   ]
  },
  {
   "cell_type": "markdown",
   "metadata": {},
   "source": [
    "##### Матрица на матрицу"
   ]
  },
  {
   "cell_type": "markdown",
   "metadata": {},
   "source": [
    "$$\n",
    "\\begin{bmatrix}\n",
    "1 & 2 & 3 \\\\\n",
    "4 & 5 & 6\n",
    "\\end{bmatrix}\n",
    "\\cdot\n",
    "\\begin{bmatrix}\n",
    "a & x \\\\\n",
    "b & y \\\\\n",
    "c & z\n",
    "\\end{bmatrix}\n",
    "=\n",
    "\\begin{bmatrix}\n",
    "1a + 2b + 3c & 1x + 2y + 3z \\\\\n",
    "4a + 5b + 6c & 4x + 5y + 6z \n",
    "\\end{bmatrix}\n",
    "$$"
   ]
  },
  {
   "cell_type": "markdown",
   "metadata": {},
   "source": [
    "*Упражнение 2.*  \n",
    "Перемножьте следующие две матрицы:  \n",
    "$\\tiny{\\textit{замерьте, сколько секунд своей жизни вы потратите на это}}$"
   ]
  },
  {
   "cell_type": "markdown",
   "metadata": {},
   "source": [
    "$$\n",
    "\\begin{bmatrix}\n",
    "1 & 2 \\\\\n",
    "7 & 3 \\\\\n",
    "\\end{bmatrix}\n",
    "\\text{и}\n",
    "\\begin{bmatrix}\n",
    "-2 & 1 & 6 \\\\\n",
    "0 & 10 & 4\n",
    "\\end{bmatrix}\n",
    "$$"
   ]
  },
  {
   "cell_type": "markdown",
   "metadata": {},
   "source": [
    "Это было мучением, не так ли? Скоро вы сможете делать это намного быстрее с помощью `numpy`."
   ]
  },
  {
   "cell_type": "code",
   "execution_count": null,
   "metadata": {
    "collapsed": true
   },
   "outputs": [],
   "source": []
  }
 ],
 "metadata": {
  "kernelspec": {
   "display_name": "Python 3",
   "language": "python",
   "name": "python3"
  },
  "language_info": {
   "codemirror_mode": {
    "name": "ipython",
    "version": 3
   },
   "file_extension": ".py",
   "mimetype": "text/x-python",
   "name": "python",
   "nbconvert_exporter": "python",
   "pygments_lexer": "ipython3",
   "version": "3.6.0"
  }
 },
 "nbformat": 4,
 "nbformat_minor": 2
}
