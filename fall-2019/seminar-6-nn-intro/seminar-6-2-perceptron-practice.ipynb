{
 "cells": [
  {
   "cell_type": "markdown",
   "metadata": {},
   "source": [
    "# AI Community @ Семинар № 6\n",
    "## Перцептрон, Нейроны и Градиентный спуск: практика."
   ]
  },
  {
   "cell_type": "code",
   "execution_count": null,
   "metadata": {},
   "outputs": [],
   "source": [
    "# !pip install scikit-learn\n",
    "# !pip install seaborn\n",
    "# !pip install tqdm"
   ]
  },
  {
   "cell_type": "code",
   "execution_count": null,
   "metadata": {},
   "outputs": [],
   "source": [
    "import seaborn as sns\n",
    "import numpy as np\n",
    "\n",
    "from matplotlib import pyplot as plt  \n",
    "from sklearn.datasets.samples_generator import make_blobs \n",
    "from tqdm import tqdm_notebook as tqdm\n",
    "\n",
    "%matplotlib inline\n",
    "sns.set()\n",
    "  \n",
    "# Подготовим данные для классификации\n",
    "X, y = make_blobs(n_samples = 100, centers = [[0, 5], [2, 3]], \n",
    "                  cluster_std = 1, n_features = 2) \n",
    "\n",
    "sns.scatterplot(x=X[:,0], y=X[:, 1], hue=y)"
   ]
  },
  {
   "cell_type": "code",
   "execution_count": null,
   "metadata": {},
   "outputs": [],
   "source": [
    "# Инициилизируем класс перцептрон\n",
    "\n",
    "class Perceptron:\n",
    "    def __init__(self, num_features):\n",
    "        self.w = np.random.random((num_features, 1))\n",
    "        self.b = 1\n",
    "        \n",
    "    def forward(self, input_matrix):\n",
    "        result = (input_matrix @ self.w).sum() + self.b\n",
    "        return result > 0\n",
    "    \n",
    "    def train_on_single_example(self, example, y):\n",
    "        diff = y - self.forward(example.T)\n",
    "        self.w += diff * example\n",
    "        self.b += diff\n",
    "        return abs(diff)\n",
    "    \n",
    "def plot_separation_line(neuron, X, y):\n",
    "    w, bias = neuron.w, neuron.b\n",
    "    a, b = - w[0][0] / w[1][0], - bias / w[1][0]\n",
    "    sns.scatterplot(x=X[:,0], y=X[:, 1], hue=y)\n",
    "    xx = np.linspace(*plt.xlim())\n",
    "    plt.plot(xx, a*xx + b, color=\"black\", linewidth=2)"
   ]
  },
  {
   "cell_type": "code",
   "execution_count": null,
   "metadata": {},
   "outputs": [],
   "source": [
    "num_steps = int(1e4)\n",
    "errors = []\n",
    "perceptron = Perceptron(X.shape[1])\n",
    "\n",
    "error = 1\n",
    "for i in tqdm(range(num_steps)):\n",
    "    error = 0\n",
    "    for example, answer in zip(X, y):\n",
    "        example = example.reshape((example.size, 1))\n",
    "        error += int(perceptron.train_on_single_example(example, answer))\n",
    "    errors.append(error)\n",
    "    if error == 0:\n",
    "        break\n",
    "        \n",
    "plot_separation_line(perceptron, X, y)"
   ]
  },
  {
   "cell_type": "code",
   "execution_count": null,
   "metadata": {},
   "outputs": [],
   "source": [
    "# После определённого шага параметры начнут колебаться возле определённого значения\n",
    "plt.plot(errors[:1000])"
   ]
  },
  {
   "cell_type": "code",
   "execution_count": null,
   "metadata": {},
   "outputs": [],
   "source": []
  }
 ],
 "metadata": {
  "kernelspec": {
   "display_name": "Python 3",
   "language": "python",
   "name": "python3"
  },
  "language_info": {
   "codemirror_mode": {
    "name": "ipython",
    "version": 3
   },
   "file_extension": ".py",
   "mimetype": "text/x-python",
   "name": "python",
   "nbconvert_exporter": "python",
   "pygments_lexer": "ipython3",
   "version": "3.7.4"
  }
 },
 "nbformat": 4,
 "nbformat_minor": 2
}
