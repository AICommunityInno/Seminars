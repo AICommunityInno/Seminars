{
 "cells": [
  {
   "cell_type": "markdown",
   "metadata": {},
   "source": [
    " # AI Community @ Семинар  № 3\n",
    " ## Введение в машинное обучение\n",
    "Суть: Мы знаем какую-то характеристику объектов, надо научиться узнавать эту же характеристику для похожих объектов  \n",
    " ### Строгая формулировка\n",
    " Дано: множество объектов $O$   \n",
    " Каждый объект имеет множество определяющих переменных (known characteristics) $x \\in X$ и определяемых переменных (predicted characteristics) $y \\in Y$\n",
    " \n",
    " $o \\in O \\to (x,y)$\n",
    " \n",
    " Задача: найти функцию, наиболее точно приближающую $X \\to Y$\n",
    " \n",
    " Классификация - если $Y$ конечно  \n",
    " Регрессия - если $Y = \\mathbb{R} $ \n",
    " \n",
    " ### Supervised и unsupervised learning\n",
    " Supervised - есть какой-то набор данных, для которого известны и $x$, и $y$  \n",
    " Unsupervised - $y$ неизвестно для всех данных\n",
    " \n",
    " #### Примеры:\n",
    " Superised:\n",
    " <img src=\"./data/Regression_Analysis_Linear.gif\" alt=\"Drawing\" style=\"height: 400px;\"/>\n",
    " \n",
    " Unsupervised\n",
    " ![Clustering](./data/xclara-clusters-colour.png)\n",
    " \n",
    " ### Стандартная процедура для supervised learning\n",
    " 1. Разбить выборку на train и test\n",
    " 2. Выбрать метод\n",
    " 3. Обучить его на train\n",
    " 4. Посмотреть, что он предсказывает для test\n",
    " 5. Сравнить с истинными значениями для test"
   ]
  },
  {
   "cell_type": "markdown",
   "metadata": {},
   "source": [
    "Шаблон алгоритма:"
   ]
  },
  {
   "cell_type": "markdown",
   "metadata": {},
   "source": [
    "    train_x, test_x, train_y, test_y = extract(data)\n",
    "    predictor = MySuperPredictor()\n",
    "    predictor.fit(train_x, train_y)\n",
    "    preds = predictor.predict(test_x)\n",
    "    score = compare(preds, test_y)"
   ]
  },
  {
   "cell_type": "markdown",
   "metadata": {},
   "source": [
    " ### Case study\n",
    " Распознавание рукописных цифр\n",
    " \n",
    " http://yann.lecun.com/exdb/mnist/"
   ]
  },
  {
   "cell_type": "code",
   "execution_count": 1,
   "metadata": {},
   "outputs": [],
   "source": [
    "import matplotlib.pyplot as plt\n",
    "%matplotlib inline\n",
    "from sklearn import datasets\n",
    "import numpy as np"
   ]
  },
  {
   "cell_type": "code",
   "execution_count": 2,
   "metadata": {},
   "outputs": [],
   "source": [
    "digits = datasets.load_digits()"
   ]
  },
  {
   "cell_type": "code",
   "execution_count": 3,
   "metadata": {},
   "outputs": [],
   "source": [
    "def show_digit(digit):\n",
    "    \"\"\"\n",
    "    Displays sample from MNIST in human-readable format\n",
    "    \n",
    "    Arguments:\n",
    "    digit - numpy 1-d array of size 64\n",
    "    \"\"\"\n",
    "    f = plt.figure(figsize=(7, 1))\n",
    "    ax = f.add_subplot(111)\n",
    "    ax.matshow(digit.reshape(8, 8))\n",
    "    ax.axis('off')\n",
    "    plt.show()"
   ]
  },
  {
   "cell_type": "code",
   "execution_count": 4,
   "metadata": {},
   "outputs": [
    {
     "name": "stdout",
     "output_type": "stream",
     "text": [
      "x = [ 0.  0.  5. 13.  9.  1.  0.  0.  0.  0. 13. 15. 10. 15.  5.  0.  0.  3.\n",
      " 15.  2.  0. 11.  8.  0.  0.  4. 12.  0.  0.  8.  8.  0.  0.  5.  8.  0.\n",
      "  0.  9.  8.  0.  0.  4. 11.  0.  1. 12.  7.  0.  0.  2. 14.  5. 10. 12.\n",
      "  0.  0.  0.  0.  6. 13. 10.  0.  0.  0.]\n",
      "y = 0\n"
     ]
    },
    {
     "data": {
      "image/png": "[encoded data removed]",
      "text/plain": [
       "<Figure size 504x72 with 1 Axes>"
      ]
     },
     "metadata": {
      "needs_background": "light"
     },
     "output_type": "display_data"
    },
    {
     "name": "stdout",
     "output_type": "stream",
     "text": [
      "----------------------------\n",
      "x = [ 0.  0.  0. 12. 13.  5.  0.  0.  0.  0.  0. 11. 16.  9.  0.  0.  0.  0.\n",
      "  3. 15. 16.  6.  0.  0.  0.  7. 15. 16. 16.  2.  0.  0.  0.  0.  1. 16.\n",
      " 16.  3.  0.  0.  0.  0.  1. 16. 16.  6.  0.  0.  0.  0.  1. 16. 16.  6.\n",
      "  0.  0.  0.  0.  0. 11. 16. 10.  0.  0.]\n",
      "y = 1\n"
     ]
    },
    {
     "data": {
      "image/png": "[encoded data removed]",
      "text/plain": [
       "<Figure size 504x72 with 1 Axes>"
      ]
     },
     "metadata": {
      "needs_background": "light"
     },
     "output_type": "display_data"
    },
    {
     "name": "stdout",
     "output_type": "stream",
     "text": [
      "----------------------------\n",
      "x = [ 0.  0.  0.  4. 15. 12.  0.  0.  0.  0.  3. 16. 15. 14.  0.  0.  0.  0.\n",
      "  8. 13.  8. 16.  0.  0.  0.  0.  1.  6. 15. 11.  0.  0.  0.  1.  8. 13.\n",
      " 15.  1.  0.  0.  0.  9. 16. 16.  5.  0.  0.  0.  0.  3. 13. 16. 16. 11.\n",
      "  5.  0.  0.  0.  0.  3. 11. 16.  9.  0.]\n",
      "y = 2\n"
     ]
    },
    {
     "data": {
      "image/png": "[encoded data removed]",
      "text/plain": [
       "<Figure size 504x72 with 1 Axes>"
      ]
     },
     "metadata": {
      "needs_background": "light"
     },
     "output_type": "display_data"
    },
    {
     "name": "stdout",
     "output_type": "stream",
     "text": [
      "----------------------------\n",
      "x = [ 0.  0.  7. 15. 13.  1.  0.  0.  0.  8. 13.  6. 15.  4.  0.  0.  0.  2.\n",
      "  1. 13. 13.  0.  0.  0.  0.  0.  2. 15. 11.  1.  0.  0.  0.  0.  0.  1.\n",
      " 12. 12.  1.  0.  0.  0.  0.  0.  1. 10.  8.  0.  0.  0.  8.  4.  5. 14.\n",
      "  9.  0.  0.  0.  7. 13. 13.  9.  0.  0.]\n",
      "y = 3\n"
     ]
    },
    {
     "data": {
      "image/png": "[encoded data removed]",
      "text/plain": [
       "<Figure size 504x72 with 1 Axes>"
      ]
     },
     "metadata": {
      "needs_background": "light"
     },
     "output_type": "display_data"
    },
    {
     "name": "stdout",
     "output_type": "stream",
     "text": [
      "----------------------------\n",
      "x = [ 0.  0.  0.  1. 11.  0.  0.  0.  0.  0.  0.  7.  8.  0.  0.  0.  0.  0.\n",
      "  1. 13.  6.  2.  2.  0.  0.  0.  7. 15.  0.  9.  8.  0.  0.  5. 16. 10.\n",
      "  0. 16.  6.  0.  0.  4. 15. 16. 13. 16.  1.  0.  0.  0.  0.  3. 15. 10.\n",
      "  0.  0.  0.  0.  0.  2. 16.  4.  0.  0.]\n",
      "y = 4\n"
     ]
    },
    {
     "data": {
      "image/png": "[encoded data removed]",
      "text/plain": [
       "<Figure size 504x72 with 1 Axes>"
      ]
     },
     "metadata": {
      "needs_background": "light"
     },
     "output_type": "display_data"
    },
    {
     "name": "stdout",
     "output_type": "stream",
     "text": [
      "----------------------------\n"
     ]
    }
   ],
   "source": [
    "for i in range(5):\n",
    "    print('x =', digits.data[i])\n",
    "    print('y =', digits.target[ i])\n",
    "    show_digit(digits.data[i])\n",
    "    print('----------------------------')"
   ]
  },
  {
   "cell_type": "markdown",
   "metadata": {},
   "source": [
    "Разделение выборки на train и test"
   ]
  },
  {
   "cell_type": "code",
   "execution_count": 5,
   "metadata": {},
   "outputs": [
    {
     "name": "stdout",
     "output_type": "stream",
     "text": [
      "X_train: (1437, 64)\n",
      "X_test: (360, 64)\n",
      "y_train: (1437,)\n",
      "y_test: (360,)\n"
     ]
    }
   ],
   "source": [
    "from sklearn.model_selection import train_test_split\n",
    "X_train, X_test, y_train, y_test = train_test_split(digits.data, digits.target, test_size=0.2)\n",
    "print('X_train:', X_train.shape)\n",
    "print('X_test:', X_test.shape)\n",
    "print('y_train:', y_train.shape)\n",
    "print('y_test:', y_test.shape)"
   ]
  },
  {
   "cell_type": "markdown",
   "metadata": {},
   "source": [
    " ### Линейная регрессия\n",
    "  <img src=\"./data/Regression_Analysis_Linear.gif\" alt=\"Drawing\" style=\"height: 300px;\"/>\n",
    "  Данные аппроксимируются линией таким образом, чтобы среднее расстояние от точки до линии было наименьшим.  \n",
    "  Почитать ещё: https://habrahabr.ru/company/ods/blog/323890/"
   ]
  },
  {
   "cell_type": "code",
   "execution_count": 6,
   "metadata": {
    "scrolled": true
   },
   "outputs": [
    {
     "name": "stdout",
     "output_type": "stream",
     "text": [
      "[ 6.61916549  3.66295202  8.41924488  1.8958016  10.32016112  2.26679795\n",
      "  2.02415819  0.61468527  4.99114183  2.14660936  5.36413634  2.17831966\n",
      "  3.08331952  6.89063544  5.6900285   7.05617587  1.50178556  6.04346842\n",
      " -0.10977652 -0.08024908  2.97349318  2.27118499  0.58751815  3.14193945\n",
      "  3.74577194  3.29657936  1.68332017  5.62447986  1.39438288  4.65945895\n",
      "  0.58654725  9.65656912  9.55872287  7.16814104  7.37387218  6.31935507\n",
      "  1.62732255  2.74227694  5.3730542   7.43013684  8.0273179   2.9429231\n",
      "  9.61411815  6.27937091  3.17140509  6.75642174  1.60427385  5.91253133\n",
      "  1.03335215  7.5143143   6.54650259  0.72932371  3.59246201  4.54395062\n",
      "  6.02438837  5.22956555 10.4910416   5.76457087  5.43386267  4.77557352\n",
      "  1.93636346  6.11235805  6.02344377  5.98379364  4.48732882  4.51139175\n",
      "  4.26569123  2.008794    5.29042577  5.50749573  4.9646895   6.13343302\n",
      "  0.88261852  1.59223979  7.35227489  4.44941231  3.78427132  3.83773661\n",
      "  7.10012942  4.68998129  4.30023246  4.34918066  7.83501116  5.76760011\n",
      "  5.56399685  3.41301021  7.26392902  6.58628204  5.47522517  4.48569535\n",
      "  3.51371532  4.1336814   0.81658686  7.91900324  8.34743742  1.853278\n",
      "  6.20962614  8.0324781   3.4122678   3.03559394  3.53898075  5.23911059\n",
      "  4.39919815  5.9322776   7.15917889  4.91849165  0.30489414  3.62353356\n",
      "  1.58515232  9.12413974  3.90926783  2.24115549  6.94365902  3.85458288\n",
      "  1.70643117  2.36595844 -0.78890531  3.51623675  3.54876134  2.73495429\n",
      "  8.1100915   1.26340293  5.91542544  4.70116161  6.89382651  4.64085268\n",
      "  3.19365085  3.00997943  3.8487378   3.35722479  0.93794299  2.89010979\n",
      "  3.52641742  7.61983567  0.86899709  1.99699008  6.14143585  4.37120231\n",
      "  3.28864956  7.65307126  4.89994976  3.21202546  2.48437766  5.10205739\n",
      "  7.05338371  7.56312442  0.75676912  5.86383964  8.41175391  2.36664869\n",
      "  1.64733779  4.50364952  0.20733427  4.12869725  6.52373674  2.69602779\n",
      "  3.6847377   4.07823173  2.72099687  6.41428467  4.53705996  4.16554103\n",
      "  0.49238153  4.00615452  3.57546566  5.60124073  3.97793881  5.11038609\n",
      "  3.37438794  4.77574081  2.70187227  6.40822592  3.78275583  4.79885267\n",
      "  4.34656037  4.36076544  4.53561008  7.02707704  4.46974775  2.01914939\n",
      "  4.2208946   4.89946088  6.57056303 -1.24352604  4.51967028  6.61181551\n",
      "  1.77817704  4.89333158  5.94230372  6.62767946  5.85974051  7.07966125\n",
      "  7.40929905  2.04827853  1.14556321  6.81233496  3.75135439  5.95156698\n",
      "  6.2446778   5.5277117   4.20736311  3.37500817  2.96536863  8.24339276\n",
      "  5.0758235   6.05234252  6.35978434  0.15299333  5.45764846  2.45254518\n",
      "  5.37403534  5.01564588  7.1705226   6.67583065  1.41595837  8.81579856\n",
      "  5.79808247  1.73806954  1.61113451  1.66398705  2.25960238  3.21277629\n",
      "  3.82501206  0.09388286  3.82457063  1.14736285  3.62704816  7.17006443\n",
      "  4.92829481  7.2081291   1.65972597  5.87237307  1.71684902  1.11418673\n",
      "  1.45390544  5.19784903  4.12653188  2.67039168  2.04735602  4.73831775\n",
      "  4.46515162  5.18453313  4.13687583  1.75188376  4.38062739  3.84276469\n",
      "  4.97589498  0.21012869  5.92534034  6.85283733  4.29686384  4.16538114\n",
      "  1.79808449  3.28275801  5.02678568  6.20084649  2.97755715  0.46868662\n",
      "  8.62357487  7.96721961  5.80510065  4.13412628  7.96626804  1.35836141\n",
      "  6.63860129  2.90973867  3.79764818  0.9215679   2.77244386  1.44808915\n",
      "  4.67945079  3.81614577  5.84458091  3.89518935  8.59142034  2.4639928\n",
      "  5.47945139  3.40650838  3.83798318  7.46122392  4.48833817  4.14337542\n",
      "  4.21650448  2.2336952   4.13284602  1.30321978  3.36078284  7.38126853\n",
      "  2.76602857  8.47908708  5.94849755  3.49956576  1.88874406  7.34582863\n",
      "  4.9233427   4.89539974  4.96355902  3.54777974  5.87058329  4.44741092\n",
      "  3.6611155   5.64523509  6.2160388   7.07766823 -0.08392915  6.25162053\n",
      "  6.89020751  4.58670403  3.13924601  6.99439333  0.86388822  4.34214114\n",
      "  0.37245364  4.19367662  5.38213057  8.32783442  2.09701639  2.86994153\n",
      "  1.83453191  4.89382034  6.07867913  2.90590931  2.76270276  4.9085612\n",
      "  5.32521127  2.46065616  4.91598088  3.88645392  7.50854892  3.70614408\n",
      "  4.09448593  4.03409513  2.49172992  5.71942814  5.55742804  6.24739807\n",
      "  4.499646    5.41758919  0.23194044  6.81539475  6.34992993  6.54803639\n",
      "  7.97124844  7.40792865  5.6348421   2.85948795  1.57906003  6.57190333\n",
      "  4.12925479  5.68417632  6.6297918   3.32586145  7.89825637  5.24857197\n",
      "  5.6417337   1.52070458  7.43579265  4.43295014  7.93809673  3.27200661]\n"
     ]
    }
   ],
   "source": [
    "from sklearn.linear_model import LinearRegression\n",
    "predictor = LinearRegression()\n",
    "predictor.fit(X_train, y_train)\n",
    "y_pred = predictor.predict(X_test)\n",
    "print(y_pred)"
   ]
  },
  {
   "cell_type": "markdown",
   "metadata": {},
   "source": [
    "Оцениваем, насколько хороши предсказания"
   ]
  },
  {
   "cell_type": "code",
   "execution_count": 7,
   "metadata": {},
   "outputs": [
    {
     "data": {
      "text/plain": [
       "0.24166666666666667"
      ]
     },
     "execution_count": 7,
     "metadata": {},
     "output_type": "execute_result"
    }
   ],
   "source": [
    "from sklearn.metrics import accuracy_score\n",
    "y_pred = np.round(y_pred)\n",
    "accuracy_score(y_test, y_pred)"
   ]
  },
  {
   "cell_type": "markdown",
   "metadata": {},
   "source": [
    "Посмотрим пример, где предсказано правильно, и где неправильно"
   ]
  },
  {
   "cell_type": "code",
   "execution_count": 8,
   "metadata": {},
   "outputs": [
    {
     "name": "stdout",
     "output_type": "stream",
     "text": [
      "true: 7\n",
      "predicted: 7.0\n"
     ]
    },
    {
     "data": {
      "image/png": "[encoded data removed]",
      "text/plain": [
       "<Figure size 504x72 with 1 Axes>"
      ]
     },
     "metadata": {
      "needs_background": "light"
     },
     "output_type": "display_data"
    },
    {
     "name": "stdout",
     "output_type": "stream",
     "text": [
      "true: 6\n",
      "predicted: 4.0\n"
     ]
    },
    {
     "data": {
      "image/png": "[encoded data removed]",
      "text/plain": [
       "<Figure size 504x72 with 1 Axes>"
      ]
     },
     "metadata": {
      "needs_background": "light"
     },
     "output_type": "display_data"
    }
   ],
   "source": [
    "true_sample = X_test[y_test == y_pred][0]\n",
    "print('true:', y_test[y_test == y_pred][0])\n",
    "print('predicted:', y_pred[y_test == y_pred][0])\n",
    "show_digit(true_sample)\n",
    "\n",
    "false_sample = X_test[y_test != y_pred][0]\n",
    "print('true:', y_test[y_test != y_pred][0])\n",
    "print('predicted:', y_pred[y_test != y_pred][0])\n",
    "show_digit(false_sample)"
   ]
  },
  {
   "cell_type": "markdown",
   "metadata": {},
   "source": [
    " ### Логистическая регрессия\n",
    "  <img src=\"./data/LogReg.png\" alt=\"Drawing\" style=\"height: 300px;\"/>\n",
    "  То же самое, что и линейная регрессия, но аппроксимация ведётся не линией $y = \\theta_0 + \\theta_1x_1 + ... + \\theta_nx_n$, а функцией $$y = \\frac{1}{1+e^{-z}}$$ Где $z = \\theta_0 + \\theta_1x_1 + ... + \\theta_nx_n$"
   ]
  },
  {
   "cell_type": "code",
   "execution_count": 9,
   "metadata": {},
   "outputs": [
    {
     "name": "stderr",
     "output_type": "stream",
     "text": [
      "/anaconda3/envs/momo/lib/python3.7/site-packages/sklearn/linear_model/logistic.py:432: FutureWarning: Default solver will be changed to 'lbfgs' in 0.22. Specify a solver to silence this warning.\n",
      "  FutureWarning)\n",
      "/anaconda3/envs/momo/lib/python3.7/site-packages/sklearn/linear_model/logistic.py:469: FutureWarning: Default multi_class will be changed to 'auto' in 0.22. Specify the multi_class option to silence this warning.\n",
      "  \"this warning.\", FutureWarning)\n"
     ]
    },
    {
     "name": "stdout",
     "output_type": "stream",
     "text": [
      "[7 6 7 1 8 4 2 1 5 1 6 2 1 9 6 5 4 5 3 2 6 6 0 4 4 0 1 9 0 4 0 8 9 8 8 6 2\n",
      " 2 6 9 8 0 9 7 6 6 2 6 2 9 8 2 3 5 6 9 8 6 4 4 0 5 9 5 6 4 6 2 8 7 4 6 0 2\n",
      " 9 3 3 9 8 6 4 6 7 5 6 2 7 6 7 4 1 6 2 9 7 1 6 8 0 4 5 7 6 8 3 8 0 1 1 7 1\n",
      " 3 8 3 1 2 0 5 0 4 7 0 6 5 7 5 1 1 3 4 0 1 1 9 2 2 0 3 1 7 6 2 0 5 5 8 0 6\n",
      " 7 2 2 5 2 3 5 2 0 4 1 7 4 1 0 3 6 8 2 3 7 7 4 6 1 3 4 4 6 9 6 0 5 7 7 1 5\n",
      " 9 2 9 7 5 5 7 7 1 0 7 1 7 5 3 3 4 2 7 6 6 5 1 9 0 3 5 7 3 0 9 6 2 2 3 1 0\n",
      " 6 1 6 0 3 7 3 7 4 6 3 2 2 4 4 1 2 3 6 3 6 0 4 5 3 0 7 7 4 2 0 3 5 1 1 0 8\n",
      " 8 6 4 9 0 3 0 6 0 4 2 3 8 8 8 8 5 4 3 2 3 3 3 3 2 3 3 6 3 2 9 6 8 2 7 3 4\n",
      " 3 2 7 3 6 4 5 7 0 8 9 5 4 8 0 6 0 5 3 8 4 4 0 9 8 1 4 2 6 8 1 5 7 8 2 6 2\n",
      " 7 5 4 5 3 0 6 8 7 7 9 3 2 0 9 4 9 8 9 7 5 8 2 3 3 8 2]\n"
     ]
    }
   ],
   "source": [
    "from sklearn.linear_model import LogisticRegression\n",
    "predictor = LogisticRegression()\n",
    "predictor.fit(X_train, y_train)\n",
    "y_pred = predictor.predict(X_test)\n",
    "print(y_pred)"
   ]
  },
  {
   "cell_type": "code",
   "execution_count": 10,
   "metadata": {},
   "outputs": [
    {
     "data": {
      "text/plain": [
       "0.9472222222222222"
      ]
     },
     "execution_count": 10,
     "metadata": {},
     "output_type": "execute_result"
    }
   ],
   "source": [
    "accuracy_score(y_test, y_pred)"
   ]
  },
  {
   "cell_type": "code",
   "execution_count": 11,
   "metadata": {},
   "outputs": [
    {
     "name": "stdout",
     "output_type": "stream",
     "text": [
      "true: 7\n",
      "predicted: 7\n"
     ]
    },
    {
     "data": {
      "image/png": "[encoded data removed]",
      "text/plain": [
       "<Figure size 504x72 with 1 Axes>"
      ]
     },
     "metadata": {
      "needs_background": "light"
     },
     "output_type": "display_data"
    },
    {
     "name": "stdout",
     "output_type": "stream",
     "text": [
      "true: 0\n",
      "predicted: 4\n"
     ]
    },
    {
     "data": {
      "image/png": "[encoded data removed]",
      "text/plain": [
       "<Figure size 504x72 with 1 Axes>"
      ]
     },
     "metadata": {
      "needs_background": "light"
     },
     "output_type": "display_data"
    }
   ],
   "source": [
    "true_sample = X_test[y_test == y_pred][0]\n",
    "print('true:', y_test[y_test == y_pred][0])\n",
    "print('predicted:', y_pred[y_test == y_pred][0])\n",
    "show_digit(true_sample)\n",
    "\n",
    "false_sample = X_test[y_test != y_pred][0]\n",
    "print('true:', y_test[y_test != y_pred][0])\n",
    "print('predicted:', y_pred[y_test != y_pred][0])\n",
    "show_digit(false_sample)"
   ]
  },
  {
   "cell_type": "markdown",
   "metadata": {},
   "source": [
    " ### k-nearest-neighbors classifier\n",
    " <img src=\"./data/knn_classifier.png\" alt=\"Drawing\" style=\"width: 300px;\"/>\n",
    " Для заданной точки алгоритм ищет k ближайших к ней соседей из обучающей выборки, и возвращает класс, который встречался среди этих k точек чаще остальных.  \n",
    " Почитать ещё: https://kevinzakka.github.io/2016/07/13/k-nearest-neighbor/"
   ]
  },
  {
   "cell_type": "code",
   "execution_count": 12,
   "metadata": {},
   "outputs": [],
   "source": [
    "from sklearn.neighbors import KNeighborsClassifier\n",
    "predictor = KNeighborsClassifier(n_neighbors=4)\n",
    "predictor.fit(X_train, y_train)\n",
    "y_pred = predictor.predict(X_test)"
   ]
  },
  {
   "cell_type": "code",
   "execution_count": 13,
   "metadata": {},
   "outputs": [
    {
     "data": {
      "text/plain": [
       "0.9888888888888889"
      ]
     },
     "execution_count": 13,
     "metadata": {},
     "output_type": "execute_result"
    }
   ],
   "source": [
    "accuracy_score(y_test, y_pred)"
   ]
  },
  {
   "cell_type": "code",
   "execution_count": 14,
   "metadata": {},
   "outputs": [
    {
     "name": "stdout",
     "output_type": "stream",
     "text": [
      "true: 7\n",
      "predicted: 7\n"
     ]
    },
    {
     "data": {
      "image/png": "[encoded data removed]",
      "text/plain": [
       "<Figure size 504x72 with 1 Axes>"
      ]
     },
     "metadata": {
      "needs_background": "light"
     },
     "output_type": "display_data"
    },
    {
     "name": "stdout",
     "output_type": "stream",
     "text": [
      "true: 8\n",
      "predicted: 1\n"
     ]
    },
    {
     "data": {
      "image/png": "[encoded data removed]",
      "text/plain": [
       "<Figure size 504x72 with 1 Axes>"
      ]
     },
     "metadata": {
      "needs_background": "light"
     },
     "output_type": "display_data"
    }
   ],
   "source": [
    "true_sample = X_test[y_test == y_pred][0]\n",
    "print('true:', y_test[y_test == y_pred][0])\n",
    "print('predicted:', y_pred[y_test == y_pred][0])\n",
    "show_digit(true_sample)\n",
    "\n",
    "false_sample = X_test[y_test != y_pred][0]\n",
    "print('true:', y_test[y_test != y_pred][0])\n",
    "print('predicted:', y_pred[y_test != y_pred][0])\n",
    "show_digit(false_sample)"
   ]
  },
  {
   "cell_type": "markdown",
   "metadata": {},
   "source": [
    " ### Нейронная сеть\n",
    "  ![LR](./data/220px-Neural_network.svg.png)\n",
    "  Несколько линейных регрессий, объединённых в сеть.  \n",
    "  Почитать ещё: https://ujjwalkarn.me/2016/08/09/quick-intro-neural-networks/"
   ]
  },
  {
   "cell_type": "code",
   "execution_count": 15,
   "metadata": {},
   "outputs": [],
   "source": [
    "from sklearn.neural_network import MLPClassifier \n",
    "predictor = MLPClassifier()\n",
    "predictor.fit(X_train, y_train)\n",
    "y_pred = predictor.predict(X_test)"
   ]
  },
  {
   "cell_type": "code",
   "execution_count": 16,
   "metadata": {},
   "outputs": [
    {
     "data": {
      "text/plain": [
       "0.9694444444444444"
      ]
     },
     "execution_count": 16,
     "metadata": {},
     "output_type": "execute_result"
    }
   ],
   "source": [
    "accuracy_score(y_test, y_pred)"
   ]
  },
  {
   "cell_type": "code",
   "execution_count": 17,
   "metadata": {},
   "outputs": [
    {
     "name": "stdout",
     "output_type": "stream",
     "text": [
      "true: 7\n",
      "predicted: 7\n"
     ]
    },
    {
     "data": {
      "image/png": "[encoded data removed]",
      "text/plain": [
       "<Figure size 504x72 with 1 Axes>"
      ]
     },
     "metadata": {
      "needs_background": "light"
     },
     "output_type": "display_data"
    },
    {
     "name": "stdout",
     "output_type": "stream",
     "text": [
      "true: 6\n",
      "predicted: 4\n"
     ]
    },
    {
     "data": {
      "image/png": "[encoded data removed]",
      "text/plain": [
       "<Figure size 504x72 with 1 Axes>"
      ]
     },
     "metadata": {
      "needs_background": "light"
     },
     "output_type": "display_data"
    }
   ],
   "source": [
    "true_sample = X_test[y_test == y_pred][0]\n",
    "print('true:', y_test[y_test == y_pred][0])\n",
    "print('predicted:', y_pred[y_test == y_pred][0])\n",
    "show_digit(true_sample)\n",
    "\n",
    "false_sample = X_test[y_test != y_pred][0]\n",
    "print('true:', y_test[y_test != y_pred][0])\n",
    "print('predicted:', y_pred[y_test != y_pred][0])\n",
    "show_digit(false_sample)"
   ]
  },
  {
   "cell_type": "markdown",
   "metadata": {},
   "source": [
    "### Деревья\n",
    "<img src=\"./data/F3.large.jpg\" alt=\"Drawing\" style=\"width: 500px;\"/>\n",
    "С помощью статистических методов строится дерево решений (или несколько деревьев). Каждый раз при предсказывании алгоритм проходит дерево от корня до одного из листов и возвращает класс, соответствующий листу.  \n",
    "Почитать ещё: https://sadanand-singh.github.io/posts/treebasedmodels/"
   ]
  },
  {
   "cell_type": "code",
   "execution_count": 18,
   "metadata": {},
   "outputs": [],
   "source": [
    "from sklearn.ensemble import GradientBoostingClassifier\n",
    "predictor = GradientBoostingClassifier(n_estimators=5)\n",
    "predictor.fit(X_train, y_train)\n",
    "y_pred = predictor.predict(X_test)"
   ]
  },
  {
   "cell_type": "code",
   "execution_count": 19,
   "metadata": {},
   "outputs": [
    {
     "data": {
      "text/plain": [
       "0.8527777777777777"
      ]
     },
     "execution_count": 19,
     "metadata": {},
     "output_type": "execute_result"
    }
   ],
   "source": [
    "accuracy_score(y_test, y_pred)"
   ]
  },
  {
   "cell_type": "code",
   "execution_count": 20,
   "metadata": {},
   "outputs": [
    {
     "name": "stdout",
     "output_type": "stream",
     "text": [
      "true: 7\n",
      "predicted: 7\n"
     ]
    },
    {
     "data": {
      "image/png": "[encoded data removed]",
      "text/plain": [
       "<Figure size 504x72 with 1 Axes>"
      ]
     },
     "metadata": {
      "needs_background": "light"
     },
     "output_type": "display_data"
    },
    {
     "name": "stdout",
     "output_type": "stream",
     "text": [
      "true: 5\n",
      "predicted: 9\n"
     ]
    },
    {
     "data": {
      "image/png": "[encoded data removed]",
      "text/plain": [
       "<Figure size 504x72 with 1 Axes>"
      ]
     },
     "metadata": {
      "needs_background": "light"
     },
     "output_type": "display_data"
    }
   ],
   "source": [
    "true_sample = X_test[y_test == y_pred][0]\n",
    "print('true:', y_test[y_test == y_pred][0])\n",
    "print('predicted:', y_pred[y_test == y_pred][0])\n",
    "show_digit(true_sample)\n",
    "\n",
    "false_sample = X_test[y_test != y_pred][0]\n",
    "print('true:', y_test[y_test != y_pred][0])\n",
    "print('predicted:', y_pred[y_test != y_pred][0])\n",
    "show_digit(false_sample)"
   ]
  },
  {
   "cell_type": "markdown",
   "metadata": {},
   "source": [
    "### Кластеризация (KMeans)\n",
    "  <img src=\"./data/kmeans.png\" alt=\"Drawing\" style=\"height: 300px;\"/>\n",
    " Алгоритм ищет K центров кластеров и относит каждую точку к тому кластеру, которому соответствует ближайший из центров.  \n",
    " При этом центры выбираются таким образом, чтобы сумма расстояний от точки до центра соответствующего ей кластера была минимальной\n",
    " Почитать ещё: https://www.datascience.com/blog/introduction-to-k-means-clustering-algorithm-learn-data-science-tutorials"
   ]
  },
  {
   "cell_type": "code",
   "execution_count": 21,
   "metadata": {},
   "outputs": [],
   "source": [
    "from sklearn.cluster import KMeans\n",
    "clusterer = KMeans(n_clusters=10)\n",
    "classes = clusterer.fit_predict(digits.data)"
   ]
  },
  {
   "cell_type": "code",
   "execution_count": 22,
   "metadata": {
    "scrolled": true
   },
   "outputs": [
    {
     "data": {
      "image/png": "[encoded data removed]",
      "text/plain": [
       "<Figure size 504x72 with 5 Axes>"
      ]
     },
     "metadata": {
      "needs_background": "light"
     },
     "output_type": "display_data"
    },
    {
     "data": {
      "image/png": "[encoded data removed]",
      "text/plain": [
       "<Figure size 504x72 with 5 Axes>"
      ]
     },
     "metadata": {
      "needs_background": "light"
     },
     "output_type": "display_data"
    },
    {
     "data": {
      "image/png": "[encoded data removed]",
      "text/plain": [
       "<Figure size 504x72 with 5 Axes>"
      ]
     },
     "metadata": {
      "needs_background": "light"
     },
     "output_type": "display_data"
    },
    {
     "data": {
      "image/png": "[encoded data removed]",
      "text/plain": [
       "<Figure size 504x72 with 5 Axes>"
      ]
     },
     "metadata": {
      "needs_background": "light"
     },
     "output_type": "display_data"
    },
    {
     "data": {
      "image/png": "[encoded data removed]",
      "text/plain": [
       "<Figure size 504x72 with 5 Axes>"
      ]
     },
     "metadata": {
      "needs_background": "light"
     },
     "output_type": "display_data"
    },
    {
     "data": {
      "image/png": "[encoded data removed]",
      "text/plain": [
       "<Figure size 504x72 with 5 Axes>"
      ]
     },
     "metadata": {
      "needs_background": "light"
     },
     "output_type": "display_data"
    },
    {
     "data": {
      "image/png": "[encoded data removed]",
      "text/plain": [
       "<Figure size 504x72 with 5 Axes>"
      ]
     },
     "metadata": {
      "needs_background": "light"
     },
     "output_type": "display_data"
    },
    {
     "data": {
      "image/png": "[encoded data removed]",
      "text/plain": [
       "<Figure size 504x72 with 5 Axes>"
      ]
     },
     "metadata": {
      "needs_background": "light"
     },
     "output_type": "display_data"
    },
    {
     "data": {
      "image/png": "[encoded data removed]",
      "text/plain": [
       "<Figure size 504x72 with 5 Axes>"
      ]
     },
     "metadata": {
      "needs_background": "light"
     },
     "output_type": "display_data"
    },
    {
     "data": {
      "image/png": "[encoded data removed]",
      "text/plain": [
       "<Figure size 504x72 with 5 Axes>"
      ]
     },
     "metadata": {
      "needs_background": "light"
     },
     "output_type": "display_data"
    }
   ],
   "source": [
    "for i in np.unique(classes):\n",
    "    f, axs = plt.subplots(1, 5, sharey=True, figsize=(7, 1))\n",
    "    for i,sample in enumerate(digits.data[classes == i][:5]):\n",
    "        axs[i].matshow(sample.reshape((8, 8)))\n",
    "        axs[i].axis('off')\n",
    "    plt.show()"
   ]
  },
  {
   "cell_type": "markdown",
   "metadata": {},
   "source": [
    "Отрисуем центры кластеров"
   ]
  },
  {
   "cell_type": "code",
   "execution_count": 23,
   "metadata": {
    "scrolled": true
   },
   "outputs": [
    {
     "data": {
      "image/png": "[encoded data removed]",
      "text/plain": [
       "<Figure size 504x72 with 1 Axes>"
      ]
     },
     "metadata": {
      "needs_background": "light"
     },
     "output_type": "display_data"
    },
    {
     "data": {
      "image/png": "[encoded data removed]",
      "text/plain": [
       "<Figure size 504x72 with 1 Axes>"
      ]
     },
     "metadata": {
      "needs_background": "light"
     },
     "output_type": "display_data"
    },
    {
     "data": {
      "image/png": "[encoded data removed]",
      "text/plain": [
       "<Figure size 504x72 with 1 Axes>"
      ]
     },
     "metadata": {
      "needs_background": "light"
     },
     "output_type": "display_data"
    },
    {
     "data": {
      "image/png": "[encoded data removed]",
      "text/plain": [
       "<Figure size 504x72 with 1 Axes>"
      ]
     },
     "metadata": {
      "needs_background": "light"
     },
     "output_type": "display_data"
    },
    {
     "data": {
      "image/png": "[encoded data removed]",
      "text/plain": [
       "<Figure size 504x72 with 1 Axes>"
      ]
     },
     "metadata": {
      "needs_background": "light"
     },
     "output_type": "display_data"
    },
    {
     "data": {
      "image/png": "[encoded data removed]",
      "text/plain": [
       "<Figure size 504x72 with 1 Axes>"
      ]
     },
     "metadata": {
      "needs_background": "light"
     },
     "output_type": "display_data"
    },
    {
     "data": {
      "image/png": "[encoded data removed]",
      "text/plain": [
       "<Figure size 504x72 with 1 Axes>"
      ]
     },
     "metadata": {
      "needs_background": "light"
     },
     "output_type": "display_data"
    },
    {
     "data": {
      "image/png": "[encoded data removed]",
      "text/plain": [
       "<Figure size 504x72 with 1 Axes>"
      ]
     },
     "metadata": {
      "needs_background": "light"
     },
     "output_type": "display_data"
    },
    {
     "data": {
      "image/png": "[encoded data removed]",
      "text/plain": [
       "<Figure size 504x72 with 1 Axes>"
      ]
     },
     "metadata": {
      "needs_background": "light"
     },
     "output_type": "display_data"
    },
    {
     "data": {
      "image/png": "[encoded data removed]",
      "text/plain": [
       "<Figure size 504x72 with 1 Axes>"
      ]
     },
     "metadata": {
      "needs_background": "light"
     },
     "output_type": "display_data"
    }
   ],
   "source": [
    "for center in clusterer.cluster_centers_:\n",
    "    f = plt.figure(figsize=(7, 1))\n",
    "    ax = f.add_subplot(111)\n",
    "    ax.matshow(center.reshape(8, 8))\n",
    "    ax.axis('off')\n",
    "    plt.show()"
   ]
  },
  {
   "cell_type": "code",
   "execution_count": null,
   "metadata": {},
   "outputs": [],
   "source": []
  }
 ],
 "metadata": {
  "kernelspec": {
   "display_name": "Python 3",
   "language": "python",
   "name": "python3"
  },
  "language_info": {
   "codemirror_mode": {
    "name": "ipython",
    "version": 3
   },
   "file_extension": ".py",
   "mimetype": "text/x-python",
   "name": "python",
   "nbconvert_exporter": "python",
   "pygments_lexer": "ipython3",
   "version": "3.7.3"
  }
 },
 "nbformat": 4,
 "nbformat_minor": 2
}
