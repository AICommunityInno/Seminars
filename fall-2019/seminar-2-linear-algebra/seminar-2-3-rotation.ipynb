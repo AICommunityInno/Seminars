{
 "cells": [
  {
   "cell_type": "markdown",
   "metadata": {},
   "source": [
    "# AI Community @ Семинар  №2\n",
    "## Пример использования матриц и операций с ними для поворота вектора"
   ]
  },
  {
   "cell_type": "markdown",
   "metadata": {},
   "source": [
    "Код не очень красивый и без комментариев.  \n",
    "Данный ноутбук предназначен для того, чтоб вы покрутили слайдер в самом низу и посмотрели на то, как меняется изображение."
   ]
  },
  {
   "cell_type": "code",
   "execution_count": null,
   "metadata": {},
   "outputs": [],
   "source": [
    "# plotly не входит в Anaconda\n",
    "!pip install plotly"
   ]
  },
  {
   "cell_type": "code",
   "execution_count": null,
   "metadata": {},
   "outputs": [],
   "source": [
    "import numpy as np\n",
    "import plotly.offline as py           # Plotly: library for interactive plots\n",
    "\n",
    "py.init_notebook_mode(connected=True)"
   ]
  },
  {
   "cell_type": "code",
   "execution_count": null,
   "metadata": {},
   "outputs": [],
   "source": [
    "def get_rotate_matrix(x):\n",
    "    return np.array([\n",
    "        [ np.cos(x), np.sin(x)],\n",
    "        [-np.sin(x), np.cos(x)]\n",
    "    ])"
   ]
  },
  {
   "cell_type": "code",
   "execution_count": null,
   "metadata": {},
   "outputs": [],
   "source": [
    "def plot_vectors_rotations(vectors, steps=10):\n",
    "    rotation_angles = np.linspace(0, 2 * np.pi, steps)\n",
    "    \n",
    "    vectors = np.asarray(vectors).T\n",
    "    \n",
    "    rotated_vectors = [\n",
    "        get_rotate_matrix(angle).T.dot(vectors)\n",
    "        for angle in rotation_angles\n",
    "    ]\n",
    "    limit = np.max([np.linalg.norm(v, axis=0).max() for v in rotated_vectors])\n",
    "    \n",
    "    def get_vector_data(vector, i):\n",
    "        return dict(\n",
    "            x = [0, vector[0]],\n",
    "            y = [0, vector[1]],\n",
    "            visible = False,\n",
    "            name = 'Vector: {}'.format(i)\n",
    "        )\n",
    "    \n",
    "    data = [\n",
    "        [get_vector_data(vector, i) for i, vector in enumerate(vectors.T)]\n",
    "        for vectors in rotated_vectors\n",
    "    ]\n",
    "    for d in data[0]:\n",
    "        d['visible'] = True\n",
    "    \n",
    "    plot_data = []\n",
    "    for vectors in data:\n",
    "        plot_data += vectors\n",
    "    \n",
    "    steps = []\n",
    "    for i in range(len(data)):\n",
    "        step = dict(\n",
    "            method = 'restyle',\n",
    "            args = ['visible', [False] * len(plot_data)]\n",
    "        )\n",
    "        for j in range(len(vectors)):\n",
    "            step['args'][1][len(vectors)*i+j] = True\n",
    "        steps.append(step)\n",
    "        \n",
    "    sliders = [dict(\n",
    "        active = 0,\n",
    "        currentvalue = {\"prefix\": \"Angle: \"},\n",
    "        pad = {\"t\": 50},\n",
    "        steps = steps\n",
    "    )]\n",
    "\n",
    "    layout = dict(sliders=sliders,\n",
    "                  xaxis=dict(range=[-limit, limit]),\n",
    "                  yaxis=dict(range=[-limit, limit]),\n",
    "                  width=500,\n",
    "                  height=500,\n",
    "             )\n",
    "    fig = dict(data=plot_data, layout=layout)\n",
    "    return fig"
   ]
  },
  {
   "cell_type": "code",
   "execution_count": null,
   "metadata": {},
   "outputs": [],
   "source": [
    "vectors = [\n",
    "    np.array([1, 0]),\n",
    "    np.array([0.5, -1.1]),\n",
    "    np.array([-1, 0.3])\n",
    "]\n",
    "\n",
    "py.iplot(plot_vectors_rotations(vectors, steps=10),\n",
    "         filename='2D Vector Rotations')"
   ]
  },
  {
   "cell_type": "code",
   "execution_count": null,
   "metadata": {},
   "outputs": [],
   "source": []
  }
 ],
 "metadata": {
  "kernelspec": {
   "display_name": "Python 3",
   "language": "python",
   "name": "python3"
  },
  "language_info": {
   "codemirror_mode": {
    "name": "ipython",
    "version": 3
   },
   "file_extension": ".py",
   "mimetype": "text/x-python",
   "name": "python",
   "nbconvert_exporter": "python",
   "pygments_lexer": "ipython3",
   "version": "3.7.4"
  }
 },
 "nbformat": 4,
 "nbformat_minor": 2
}
