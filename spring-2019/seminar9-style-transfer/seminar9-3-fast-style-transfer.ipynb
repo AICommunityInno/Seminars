{
 "cells": [
  {
   "cell_type": "markdown",
   "metadata": {},
   "source": [
    "# AI Community @ Семинар № 8, весна 2018\n",
    "## Fast Style transfer."
   ]
  },
  {
   "cell_type": "markdown",
   "metadata": {},
   "source": [
    "В этой тетради мы рассмотрим способ быстрого переноса стилей, основная идея которого основана на том, что мы сначала предобучаем модель на определённом стиле, а затем одним проходом по сети получаем стилизованное изображение "
   ]
  },
  {
   "cell_type": "code",
   "execution_count": 1,
   "metadata": {},
   "outputs": [],
   "source": [
    "import argparse\n",
    "import os\n",
    "import sys\n",
    "import time\n",
    "import re\n",
    "\n",
    "import numpy as np\n",
    "import torch\n",
    "import cv2\n",
    "from torch.optim import Adam\n",
    "from torch.utils.data import DataLoader\n",
    "from torchvision import datasets\n",
    "from torchvision import transforms\n",
    "import torch.onnx\n",
    "\n",
    "import fast_neural_style.neural_style.utils as utils\n",
    "from fast_neural_style.neural_style.transformer_net import TransformerNet\n",
    "from fast_neural_style.neural_style.vgg import Vgg16"
   ]
  },
  {
   "cell_type": "code",
   "execution_count": 2,
   "metadata": {},
   "outputs": [],
   "source": [
    "available_models = {\n",
    "    'candy': 'fast_neural_style/saved_models/candy.pth',\n",
    "    'mosaic': 'fast_neural_style/saved_models/mosaic.pth',\n",
    "    'rain_princess': 'fast_neural_style/saved_models/rain_princess.pth',\n",
    "    'udnie': 'fast_neural_style/saved_models/udnie.pth',\n",
    "    'sun': 'fast_neural_style/saved_models/sun.pth'\n",
    "}"
   ]
  },
  {
   "cell_type": "code",
   "execution_count": 3,
   "metadata": {},
   "outputs": [],
   "source": [
    "device = torch.device(\"cuda\" if torch.cuda.is_available() else \"cpu\")\n",
    "write_video = True\n",
    "stype_type = 'mosaic'\n",
    "# path_to_your_video = 'your_video.mp4'"
   ]
  },
  {
   "cell_type": "code",
   "execution_count": 4,
   "metadata": {},
   "outputs": [],
   "source": [
    "style_model = TransformerNet()\n",
    "state_dict = torch.load(available_models[stype_type])\n",
    "# remove saved deprecated running_* keys in InstanceNorm from the checkpoint\n",
    "for k in list(state_dict.keys()):\n",
    "    if re.search(r'in\\d+\\.running_(mean|var)$', k):\n",
    "        del state_dict[k]\n",
    "style_model.load_state_dict(state_dict)\n",
    "style_model.to(device)\n",
    "\n",
    "\n",
    "content_transform = transforms.Compose([\n",
    "    transforms.ToTensor(),\n",
    "    transforms.Lambda(lambda x: x.mul(255))\n",
    "])"
   ]
  },
  {
   "cell_type": "code",
   "execution_count": 5,
   "metadata": {},
   "outputs": [],
   "source": [
    "def stylize_video(path_to_video=None, write_video=False):\n",
    "    if path_to_video:\n",
    "        cap = cv2.VideoCapture(path_to_your_video)\n",
    "    else:\n",
    "        cap = cv2.VideoCapture(0)\n",
    "\n",
    "    if write_video:\n",
    "        fourcc = cv2.VideoWriter_fourcc(*'XVID')\n",
    "        ret, frame = cap.read()\n",
    "        out = cv2.VideoWriter('output.mp4', fourcc, 10, frame.shape[:2][::-1])\n",
    "\n",
    "    i = 0\n",
    "    while(True):\n",
    "        _, frame = cap.read()\n",
    "        if frame is None:\n",
    "            break\n",
    "        i += 1\n",
    "\n",
    "        content_image = content_transform(frame)\n",
    "        content_image = content_image.unsqueeze(0).to(device)\n",
    "\n",
    "        with torch.no_grad():\n",
    "            output = style_model(content_image).cpu()[0]\n",
    "        img = output.clone().clamp(0, 255).numpy()\n",
    "        img = img.transpose(1, 2, 0).astype(\"uint8\")\n",
    "\n",
    "        if write_video:\n",
    "            out.write(img[:, :, ::-1])\n",
    "        cv2.imshow('frame', img[:, :, ::-1])\n",
    "        if cv2.waitKey(1) & 0xFF == ord('q'):\n",
    "            print('Streaming has ended')\n",
    "            break\n",
    "\n",
    "    cap.release()\n",
    "    if write_video:\n",
    "        out.release()\n",
    "    cv2.destroyAllWindows()\n",
    "\n",
    "\n",
    "def stylize_image(img_path):\n",
    "    img = cv2.imread(img_path)\n",
    "    content_image = content_transform(img)\n",
    "    content_image = content_image.unsqueeze(0).to(device)\n",
    "    with torch.no_grad():\n",
    "        output = style_model(content_image).cpu()[0]\n",
    "    img = output.clone().clamp(0, 255).numpy()\n",
    "    img = img.transpose(1, 2, 0).astype(\"uint8\")\n",
    "    \n",
    "    \n",
    "    cv2.imshow('stylized image', img[:, :, ::-1])\n",
    "    cv2.waitKey(0)\n",
    "    cv2.destroyAllWindows()\n",
    "    \n",
    "    \n",
    "def generate_texture(img_size=(512, 512)):\n",
    "    img = np.random.randint(0, 255, img_size+(3,), dtype='uint8')\n",
    "    content_image = content_transform(img)\n",
    "    content_image = content_image.unsqueeze(0).to(device)\n",
    "    with torch.no_grad():\n",
    "        output = style_model(content_image).cpu()[0]\n",
    "    img = output.clone().clamp(0, 255).numpy()\n",
    "    img = img.transpose(1, 2, 0).astype(\"uint8\")\n",
    "    \n",
    "    \n",
    "    cv2.imshow('stylized image', img[:, :, ::-1])\n",
    "    cv2.waitKey(0)\n",
    "    cv2.destroyAllWindows()"
   ]
  },
  {
   "cell_type": "code",
   "execution_count": null,
   "metadata": {},
   "outputs": [],
   "source": [
    "stylize_video()"
   ]
  },
  {
   "cell_type": "code",
   "execution_count": 12,
   "metadata": {},
   "outputs": [],
   "source": [
    "stylize_image('fast_neural_style/images/content-images/cat.jpg')"
   ]
  },
  {
   "cell_type": "code",
   "execution_count": null,
   "metadata": {},
   "outputs": [],
   "source": [
    "generate_texture((1024, 2048))"
   ]
  },
  {
   "cell_type": "code",
   "execution_count": null,
   "metadata": {},
   "outputs": [],
   "source": []
  }
 ],
 "metadata": {
  "kernelspec": {
   "display_name": "Python 3",
   "language": "python",
   "name": "python3"
  },
  "language_info": {
   "codemirror_mode": {
    "name": "ipython",
    "version": 3
   },
   "file_extension": ".py",
   "mimetype": "text/x-python",
   "name": "python",
   "nbconvert_exporter": "python",
   "pygments_lexer": "ipython3",
   "version": "3.6.7"
  }
 },
 "nbformat": 4,
 "nbformat_minor": 2
}
