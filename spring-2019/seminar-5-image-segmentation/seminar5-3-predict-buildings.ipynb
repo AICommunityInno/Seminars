{
 "cells": [
  {
   "cell_type": "markdown",
   "metadata": {},
   "source": [
    "# AI Community @ Семинар № 5, весна 2018\n",
    "## Семантическая сегментация. Локализация зданий с помощью обученной модели"
   ]
  },
  {
   "cell_type": "code",
   "execution_count": 1,
   "metadata": {},
   "outputs": [
    {
     "name": "stderr",
     "output_type": "stream",
     "text": [
      "Using TensorFlow backend.\n"
     ]
    },
    {
     "ename": "ModuleNotFoundError",
     "evalue": "No module named 'keras.utils.training_utils'",
     "output_type": "error",
     "traceback": [
      "\u001b[1;31m---------------------------------------------------------------------------\u001b[0m",
      "\u001b[1;31mModuleNotFoundError\u001b[0m                       Traceback (most recent call last)",
      "\u001b[1;32m<ipython-input-1-16f258ad84be>\u001b[0m in \u001b[0;36m<module>\u001b[1;34m\u001b[0m\n\u001b[0;32m      4\u001b[0m \u001b[1;32mfrom\u001b[0m \u001b[0mkeras\u001b[0m\u001b[1;33m.\u001b[0m\u001b[0mcallbacks\u001b[0m \u001b[1;32mimport\u001b[0m \u001b[0mTensorBoard\u001b[0m\u001b[1;33m,\u001b[0m \u001b[0mModelCheckpoint\u001b[0m\u001b[1;33m\u001b[0m\u001b[1;33m\u001b[0m\u001b[0m\n\u001b[0;32m      5\u001b[0m \u001b[1;32mfrom\u001b[0m \u001b[0mkeras\u001b[0m\u001b[1;33m.\u001b[0m\u001b[0moptimizers\u001b[0m \u001b[1;32mimport\u001b[0m \u001b[0mSGD\u001b[0m\u001b[1;33m,\u001b[0m \u001b[0mAdam\u001b[0m\u001b[1;33m\u001b[0m\u001b[1;33m\u001b[0m\u001b[0m\n\u001b[1;32m----> 6\u001b[1;33m \u001b[1;32mfrom\u001b[0m \u001b[0mkeras\u001b[0m\u001b[1;33m.\u001b[0m\u001b[0mutils\u001b[0m\u001b[1;33m.\u001b[0m\u001b[0mtraining_utils\u001b[0m \u001b[1;32mimport\u001b[0m \u001b[0mmulti_gpu_model\u001b[0m\u001b[1;33m\u001b[0m\u001b[1;33m\u001b[0m\u001b[0m\n\u001b[0m\u001b[0;32m      7\u001b[0m \u001b[1;32mimport\u001b[0m \u001b[0mkeras\u001b[0m\u001b[1;33m.\u001b[0m\u001b[0mbackend\u001b[0m \u001b[1;32mas\u001b[0m \u001b[0mK\u001b[0m\u001b[1;33m\u001b[0m\u001b[1;33m\u001b[0m\u001b[0m\n\u001b[0;32m      8\u001b[0m \u001b[1;33m\u001b[0m\u001b[0m\n",
      "\u001b[1;31mModuleNotFoundError\u001b[0m: No module named 'keras.utils.training_utils'"
     ]
    }
   ],
   "source": [
    "from utils.segmentation.augmentation import SegmentationGenerator\n",
    "from utils.segmentation import unet, segnet\n",
    "\n",
    "from keras.callbacks import TensorBoard, ModelCheckpoint\n",
    "from keras.optimizers import SGD, Adam\n",
    "from keras.utils.training_utils import multi_gpu_model\n",
    "import keras.backend as K\n",
    "\n",
    "import cv2\n",
    "from skimage.io import *\n",
    "\n",
    "import numpy as np\n",
    "import matplotlib.pyplot as plt\n",
    "import matplotlib.gridspec as gridspec\n",
    "\n",
    "import re\n",
    "from os.path import join, basename, exists\n",
    "from os import listdir, makedirs\n",
    "\n",
    "%matplotlib inline"
   ]
  },
  {
   "cell_type": "code",
   "execution_count": null,
   "metadata": {},
   "outputs": [],
   "source": [
    "SIZE = (256, 256)\n",
    "N_GPUS = 1\n",
    "BATCH_SIZE = 16*N_GPUS"
   ]
  },
  {
   "cell_type": "code",
   "execution_count": null,
   "metadata": {},
   "outputs": [],
   "source": [
    "SMOOTH = 1.\n",
    "\n",
    "def dice(y_true, y_pred):\n",
    "    y_true_f = K.flatten(y_true)\n",
    "    y_pred_f = K.flatten(y_pred)\n",
    "    intersection = K.sum(y_true_f * y_pred_f)\n",
    "    return (2. * intersection + SMOOTH) / (K.sum(y_true_f) + K.sum(y_pred_f) + SMOOTH)\n",
    "\n",
    "\n",
    "def dice_coef_loss(y_true, y_pred):\n",
    "    return -dice(y_true, y_pred)"
   ]
  },
  {
   "cell_type": "code",
   "execution_count": null,
   "metadata": {},
   "outputs": [],
   "source": [
    "DATA_PATHS = {\n",
    "    'TRAIN': {\n",
    "        'IMAGES': 'data/train/images',\n",
    "        'MASKS': 'data/train/masks',\n",
    "    },\n",
    "    'TEST': {\n",
    "        'IMAGES': 'data/test/images',\n",
    "        'MASKS': 'data/test/masks',\n",
    "    }\n",
    "}\n",
    "\n",
    "train_datagen = SegmentationGenerator(\n",
    "    horizontal_flip=True,\n",
    "    vertical_flip=True,\n",
    "    rotation_range=90.,\n",
    "    width_shift_range=0.3,\n",
    "    height_shift_range=0.3,\n",
    "    zoom_range=0.2,\n",
    "    shear_range=0.3,\n",
    "    fill_mode='reflect'\n",
    ")\n",
    "\n",
    "train_iter = train_datagen.flow_from_directory(\n",
    "    DATA_PATHS['TRAIN']['IMAGES'],\n",
    "    DATA_PATHS['TRAIN']['MASKS'],\n",
    "    target_size=SIZE, color_mode='grayscale',\n",
    "    batch_size=BATCH_SIZE, shuffle=True\n",
    ")\n",
    "\n",
    "valid_datagen = SegmentationGenerator()\n",
    "\n",
    "valid_iter = valid_datagen.flow_from_directory(\n",
    "    DATA_PATHS['TEST']['IMAGES'],\n",
    "    DATA_PATHS['TEST']['MASKS'],\n",
    "    target_size=SIZE, color_mode='grayscale',\n",
    "    batch_size=BATCH_SIZE, shuffle=False\n",
    ")"
   ]
  },
  {
   "cell_type": "code",
   "execution_count": null,
   "metadata": {},
   "outputs": [],
   "source": [
    "x, y = next(train_iter)"
   ]
  },
  {
   "cell_type": "code",
   "execution_count": null,
   "metadata": {},
   "outputs": [],
   "source": [
    "img_idx = 0\n",
    "img = (x[img_idx].squeeze() * 255.).astype(np.uint8)\n",
    "mask = (y[img_idx].squeeze() * 255.).astype(np.uint8)"
   ]
  },
  {
   "cell_type": "code",
   "execution_count": null,
   "metadata": {},
   "outputs": [],
   "source": [
    "plt.figure(figsize=(10, 10))\n",
    "imshow(img)"
   ]
  },
  {
   "cell_type": "code",
   "execution_count": null,
   "metadata": {},
   "outputs": [],
   "source": [
    "plt.figure(figsize=(10, 10))\n",
    "imshow(mask, cmap='gray')"
   ]
  },
  {
   "cell_type": "code",
   "execution_count": null,
   "metadata": {},
   "outputs": [],
   "source": [
    "plt.figure(figsize=(10, 10))\n",
    "masked_img = img.copy()\n",
    "masked_img[mask == 0] = 0\n",
    "imshow(masked_img, cmap='gray')"
   ]
  },
  {
   "cell_type": "code",
   "execution_count": null,
   "metadata": {},
   "outputs": [],
   "source": [
    "model = segnet.build_model(*SIZE, n_channels=1)\n",
    "if N_GPUS >= 2:\n",
    "    model = multi_gpu_model(model, N_GPUS)"
   ]
  },
  {
   "cell_type": "code",
   "execution_count": null,
   "metadata": {},
   "outputs": [],
   "source": [
    "optimizer = SGD(lr=0.001, momentum=0.9, decay=0.0005, nesterov=False)\n",
    "model.compile(loss=dice_coef_loss, optimizer=optimizer, metrics=[dice])"
   ]
  },
  {
   "cell_type": "code",
   "execution_count": null,
   "metadata": {},
   "outputs": [],
   "source": [
    "i = 0"
   ]
  },
  {
   "cell_type": "code",
   "execution_count": null,
   "metadata": {},
   "outputs": [],
   "source": [
    "experiment_dir = 'segnet_{}x{}'.format(*SIZE)\n",
    "models_dir = join(experiment_dir, 'models')\n",
    "log_dir = join(experiment_dir, 'log')\n",
    "if not exists(models_dir):\n",
    "    makedirs(models_dir)\n",
    "if not exists(log_dir):\n",
    "    makedirs(log_dir)\n",
    "i += 1\n",
    "modelname = 'segnet' + str(i)\n",
    "modelpath = join(models_dir, modelname)\n",
    "tb_log_dir = join(log_dir, modelname)\n",
    "\n",
    "model.fit_generator(\n",
    "    train_iter,\n",
    "    epochs=100,\n",
    "    callbacks=[\n",
    "        ModelCheckpoint(filepath=modelpath, monitor='val_dice', period=1),\n",
    "        TensorBoard(log_dir=tb_log_dir, batch_size=BATCH_SIZE)\n",
    "    ],\n",
    "    validation_data=valid_iter,\n",
    "    use_multiprocessing=True\n",
    ")"
   ]
  },
  {
   "cell_type": "code",
   "execution_count": null,
   "metadata": {},
   "outputs": [],
   "source": [
    "def load_best_dice_model(model, directory):\n",
    "    fnames = listdir(directory)\n",
    "    \n",
    "    def _regex_proc(name):\n",
    "        m = re.search('_\\d+\\.?\\d+\\.h5', name)\n",
    "        return float(m.group(0)[1:-3]) if m is not None else -1\n",
    "    \n",
    "    scores = list(map(_regex_proc, fnames))\n",
    "    best_model_idx = np.argmax(scores)\n",
    "    best_model_name = fnames[best_model_idx]\n",
    "    model.load_weights(join(directory, best_model_name))\n",
    "    \n",
    "    print('Loaded model {} with {} dice'.format((fnames[best_model_idx]), scores[best_model_idx]))"
   ]
  },
  {
   "cell_type": "code",
   "execution_count": null,
   "metadata": {},
   "outputs": [],
   "source": [
    "load_best_dice_model(None, 'segnet_256x256/models/segnet1__Thu_Feb_22_15:28:06_2018/')"
   ]
  },
  {
   "cell_type": "code",
   "execution_count": null,
   "metadata": {},
   "outputs": [],
   "source": [
    "x, y = next(valid_iter)"
   ]
  },
  {
   "cell_type": "code",
   "execution_count": null,
   "metadata": {},
   "outputs": [],
   "source": [
    "y_pred = model.predict(x)"
   ]
  },
  {
   "cell_type": "code",
   "execution_count": null,
   "metadata": {},
   "outputs": [],
   "source": [
    "def draw_pred(img, y_pred):\n",
    "    img = (img * 255.).astype(np.uint8)\n",
    "    y_pred = (y_pred * 255.).astype(np.uint8)\n",
    "    \n",
    "    plt.figure(figsize=(10, 10))\n",
    "    blue = np.zeros(img.shape + (3,), dtype=img.dtype)\n",
    "    blue[..., 2] = y_pred\n",
    "    rgb = np.dstack([img]*3)\n",
    "    imshow(cv2.addWeighted(rgb, 0.5, blue, 0.5, 1.))"
   ]
  },
  {
   "cell_type": "code",
   "execution_count": null,
   "metadata": {},
   "outputs": [],
   "source": [
    "img_idx = 0\n",
    "draw_pred(x[img_idx], y_pred[img_idx])"
   ]
  },
  {
   "cell_type": "markdown",
   "metadata": {},
   "source": [
    "Если у кого-то не запустилось, то вот пример результата предсказаний:\n",
    "![](images/buildings_pred.png)"
   ]
  },
  {
   "cell_type": "markdown",
   "metadata": {},
   "source": [
    "dice-коэффициент на тренировочной выборке:\n",
    "![](images/segnet_train_dice.png)"
   ]
  },
  {
   "cell_type": "markdown",
   "metadata": {},
   "source": [
    "dice-коэффициент на валидационной выборке:\n",
    "![](images/segnet_valid_dice.png)"
   ]
  },
  {
   "cell_type": "markdown",
   "metadata": {},
   "source": [
    "Вывод - синяя модель еще не доучилась, при том что переобучения нет. Работаем дальше"
   ]
  }
 ],
 "metadata": {
  "kernelspec": {
   "display_name": "Python 3",
   "language": "python",
   "name": "python3"
  },
  "language_info": {
   "codemirror_mode": {
    "name": "ipython",
    "version": 3
   },
   "file_extension": ".py",
   "mimetype": "text/x-python",
   "name": "python",
   "nbconvert_exporter": "python",
   "pygments_lexer": "ipython3",
   "version": "3.6.7"
  }
 },
 "nbformat": 4,
 "nbformat_minor": 2
}
