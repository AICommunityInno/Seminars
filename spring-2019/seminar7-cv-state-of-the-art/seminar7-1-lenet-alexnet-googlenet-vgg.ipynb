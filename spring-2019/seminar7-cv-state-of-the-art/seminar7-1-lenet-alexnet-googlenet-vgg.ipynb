{
 "cells": [
  {
   "cell_type": "markdown",
   "metadata": {},
   "source": [
    "# AI Community @ Семинар № 7, весна 2019\n",
    "## State-of-the-art в компьютерном зрении. LeNet, AlexNet, GoogleNet, VGG"
   ]
  },
  {
   "cell_type": "markdown",
   "metadata": {},
   "source": [
    "## LeNet [1998]"
   ]
  },
  {
   "cell_type": "markdown",
   "metadata": {},
   "source": [
    "http://yann.lecun.com/exdb/publis/pdf/lecun-01a.pdf\n",
    "![lenet](images/lenet.png)\n",
    "### Дизайн\n",
    "1. Свёртки\n",
    "2. Subsampling - взять блок на 4 пикселя, сложить, умножить на один обучаемый параметр (weight) и прибавить ещё один (bias)\n",
    "3. Каждая из 16 feature map из C3 соединена с несколькими feature map из S2 - уменьшить количество связей и для асимметричности сети\n",
    "![lenet](images/lenet_connections.png)\n",
    "\n",
    "Количество весов:\n",
    "$156(С1) + 12(S2) + 151600(C3) + 32(S4) + 48120(C5) + 10164(F6) = 210k$"
   ]
  },
  {
   "cell_type": "markdown",
   "metadata": {},
   "source": [
    "## AlexNet [2012]\n",
    "https://papers.nips.cc/paper/4824-imagenet-classification-with-deep-convolutional-neural-networks.pdf\n",
    "![alexnet](images/alexnet.png)\n",
    "\n",
    "### Идеи\n",
    "1. Свёртки + max-pooling\n",
    "2. ReLU\n",
    "3. Параллельная модель на 2 видеокарты\n",
    "4. Аугментация данных (повороты, отражения, нарезки)\n",
    "5. Dropout\n",
    "6. SGD с momentum ([An overview of gradient descent optimization algorithms: Momentum](http://ruder.io/optimizing-gradient-descent/index.html#momentum))"
   ]
  },
  {
   "cell_type": "markdown",
   "metadata": {},
   "source": [
    "Точность на ImageNet:  \n",
    "Top-1 accuracy: **57.1%**  \n",
    "Top-5 accuracy: **80.2%**\n",
    "\n",
    "Скорость: 15 мс на кадр. (замеры на Pascal Titan X )  \n",
    "Количество весов: **60M** (обучали 5-6 дней на двух GTX 580)\n",
    "\n",
    "Keras: https://github.com/heuritech/convnets-keras  \n",
    "PyTorch: http://pytorch.org/docs/0.2.0/_modules/torchvision/models/alexnet.html"
   ]
  },
  {
   "cell_type": "markdown",
   "metadata": {},
   "source": [
    "## VGG [2014]\n",
    "http://arxiv.org/pdf/1409.1556v6.pdf  \n",
    "<img src=\"images/vgg.png\" width=700>\n",
    "\n",
    "### Идеи\n",
    "1. Свёртки + max-pooling\n",
    "2. Много фильтров 3х3 вместо малого количества больших \n",
    "3. Количество фильтров увеличивается по мере погружения в нейронную сеть ([Почему?](https://www.quora.com/In-a-convolutional-neural-network-is-it-necessary-to-increase-the-feature-channels-as-the-network-goes-to-deeper-layers))"
   ]
  },
  {
   "cell_type": "markdown",
   "metadata": {},
   "source": [
    "Точность на ImageNet:  \n",
    "Top-1 accuracy: **73%**  \n",
    "Top-5 accuracy: **91.2%**\n",
    "\n",
    "Cкорость: 128 мс на кадр.  \n",
    "Количество весов: **133M-138M** (обучали 2-3 недели на четырёх Nvidia Titan Black)\n",
    "\n",
    "Keras: https://keras.io/applications/#vgg16  \n",
    "PyTorch: https://github.com/pytorch/vision/blob/master/torchvision/models/vgg.py"
   ]
  },
  {
   "cell_type": "markdown",
   "metadata": {},
   "source": [
    "## GoogLeNet [2015]\n",
    "https://www.cv-foundation.org/openaccess/content_cvpr_2015/papers/Szegedy_Going_Deeper_With_2015_CVPR_paper.pdf\n",
    "<img src=\"images/googlenet.png\" width=900>\n",
    "\n",
    "### Идеи\n",
    "1. Не просто стакать свёртки с max-pooling\n",
    "2. Стараться не использовать fully-connected слои\n",
    "3. Использовать несколько свёрток параллельно (для этого используется модуль inception)\n",
    "\n",
    "<img src=\"images/inception_googlenet.png\" width=700>"
   ]
  },
  {
   "cell_type": "markdown",
   "metadata": {},
   "source": [
    "Точность на ImageNet:  \n",
    "Top-5 accuracy: **93.3%**\n",
    "Количество весов: **11M** \n",
    "\n",
    "Keras: https://gist.github.com/joelouismarino/a2ede9ab3928f999575423b9887abd14  \n",
    "PyTorch(почти): https://github.com/kuangliu/pytorch-cifar/blob/master/models/googlenet.py"
   ]
  }
 ],
 "metadata": {
  "kernelspec": {
   "display_name": "Python 3",
   "language": "python",
   "name": "python3"
  },
  "language_info": {
   "codemirror_mode": {
    "name": "ipython",
    "version": 3
   },
   "file_extension": ".py",
   "mimetype": "text/x-python",
   "name": "python",
   "nbconvert_exporter": "python",
   "pygments_lexer": "ipython3",
   "version": "3.7.0"
  },
  "latex_envs": {
   "LaTeX_envs_menu_present": true,
   "autocomplete": true,
   "bibliofile": "biblio.bib",
   "cite_by": "apalike",
   "current_citInitial": 1,
   "eqLabelWithNumbers": true,
   "eqNumInitial": 1,
   "hotkeys": {
    "equation": "Ctrl-E",
    "itemize": "Ctrl-I"
   },
   "labels_anchors": false,
   "latex_user_defs": false,
   "report_style_numbering": false,
   "user_envs_cfg": false
  }
 },
 "nbformat": 4,
 "nbformat_minor": 2
}
