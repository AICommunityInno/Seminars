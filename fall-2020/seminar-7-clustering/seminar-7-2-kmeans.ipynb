{
 "cells": [
  {
   "cell_type": "markdown",
   "source": [
    " # AI Community @ Семинар  № 7\n",
    " ## K-Means\n",
    " \n",
    "  <img src=\"./data/kmeans.png\" alt=\"Drawing\" style=\"height: 300px;\"/>\n",
    " Алгоритм ищет K центров кластеров и относит каждую точку к тому кластеру, которому соответствует ближайший из центров.  \n",
    " При этом центры выбираются таким образом, чтобы сумма расстояний от точки до центра соответствующего ей кластера была минимальной\n",
    " Почитать ещё: https://www.datascience.com/blog/introduction-to-k-means-clustering-algorithm-learn-data-science-tutorials"
   ],
   "metadata": {
    "collapsed": false
   }
  },
  {
   "cell_type": "code",
   "execution_count": null,
   "outputs": [],
   "source": [
    "import matplotlib.pyplot as plt\n",
    "import numpy as np\n",
    "import sklearn\n",
    "import seaborn as sns\n",
    "from sklearn.cluster import KMeans\n",
    "from sklearn import datasets\n",
    "\n",
    "sns.set()"
   ],
   "metadata": {
    "collapsed": false,
    "pycharm": {
     "name": "#%%\n"
    }
   }
  },
  {
   "cell_type": "code",
   "execution_count": null,
   "outputs": [],
   "source": [
    "digits = datasets.load_digits()"
   ],
   "metadata": {
    "collapsed": false,
    "pycharm": {
     "name": "#%%\n"
    }
   }
  },
  {
   "cell_type": "code",
   "execution_count": null,
   "outputs": [],
   "source": [
    "def plot_images(imgs, names=None, axs=None, show=True, nrows=None, ncols=None, figsize=(30, 20)):\n",
    "    from math import ceil\n",
    "    if nrows is None and ncols is None:\n",
    "        nrows = 1\n",
    "        ncols = len(imgs)\n",
    "    elif nrows is None:\n",
    "        nrows = ceil(len(imgs) / ncols)\n",
    "    elif ncols is None:\n",
    "        ncols = ceil(len(imgs) / nrows)\n",
    "    \n",
    "    if axs is None:\n",
    "        fig, axs = plt.subplots(ncols=ncols, nrows=nrows, figsize=figsize)\n",
    "    if nrows == 1 and ncols == 1:\n",
    "        img = imgs[0]\n",
    "        cmap = 'gray' if (len(img.shape) == 2 or img.shape[2] == 1) else None\n",
    "        axs.imshow(img, cmap=cmap)\n",
    "        axs.set_axis_off()\n",
    "        if names and len(names) > 0:\n",
    "            axs.set_title(names[0], fontsize=15)\n",
    "    elif nrows == 1 or ncols == 1:\n",
    "        for j, ax in enumerate(axs):\n",
    "            img = imgs[j]\n",
    "            cmap = 'gray' if (len(img.shape) == 2 or img.shape[2] == 1) else None\n",
    "            ax.imshow(img, cmap=cmap)\n",
    "            ax.set_axis_off()\n",
    "            if names and j < len(names):\n",
    "                ax.set_title(names[j], fontsize=15)\n",
    "    else:\n",
    "        for j, ax in enumerate(axs):\n",
    "            for k, sub_ax in enumerate(ax):\n",
    "                image_id = j * ncols + k\n",
    "                sub_ax.set_axis_off()\n",
    "                if image_id < len(imgs):\n",
    "                    img = imgs[image_id]\n",
    "                    cmap = 'gray' if (len(img.shape) == 2 or img.shape[2] == 1) else None\n",
    "                    sub_ax.imshow(img, cmap=cmap)\n",
    "                    if names and image_id < len(names):\n",
    "                        sub_ax.set_title(names[image_id], fontsize=15)\n",
    "    if show:\n",
    "        plt.show()"
   ],
   "metadata": {
    "collapsed": false,
    "pycharm": {
     "name": "#%%\n"
    }
   }
  },
  {
   "cell_type": "markdown",
   "source": [
    "K-Means со случайной инициализацией центров"
   ],
   "metadata": {
    "collapsed": false
   }
  },
  {
   "cell_type": "code",
   "execution_count": null,
   "outputs": [],
   "source": [
    "clusterer = KMeans(10, init='random')\n",
    "classes = clusterer.fit_predict(digits.data)"
   ],
   "metadata": {
    "collapsed": false,
    "pycharm": {
     "name": "#%%\n"
    }
   }
  },
  {
   "cell_type": "code",
   "execution_count": null,
   "outputs": [],
   "source": [
    "for i in np.unique(classes):\n",
    "    plot_images(digits.data[classes == i][:10].reshape(-1, 8, 8))"
   ],
   "metadata": {
    "collapsed": false,
    "pycharm": {
     "name": "#%%\n"
    }
   }
  },
  {
   "cell_type": "markdown",
   "source": [
    "Отрисуем центры кластеров"
   ],
   "metadata": {
    "collapsed": false
   }
  },
  {
   "cell_type": "code",
   "execution_count": null,
   "outputs": [],
   "source": [
    "plot_images(clusterer.cluster_centers_.reshape(-1, 8, 8), nrows=2, figsize=(20, 10))"
   ],
   "metadata": {
    "collapsed": false,
    "pycharm": {
     "name": "#%%\n"
    }
   }
  },
  {
   "cell_type": "markdown",
   "source": [
    "K-Means++"
   ],
   "metadata": {
    "collapsed": false
   }
  },
  {
   "cell_type": "code",
   "execution_count": null,
   "outputs": [],
   "source": [
    "clusterer_pp = KMeans(10, init='k-means++', n_init =100)\n",
    "classes = clusterer_pp.fit_predict(digits.data)"
   ],
   "metadata": {
    "collapsed": false,
    "pycharm": {
     "name": "#%%\n"
    }
   }
  },
  {
   "cell_type": "code",
   "execution_count": null,
   "outputs": [],
   "source": [
    "for i in np.unique(classes):\n",
    "    plot_images(normed_digits[classes == i][:10].reshape(-1, 8, 8))"
   ],
   "metadata": {
    "collapsed": false,
    "pycharm": {
     "name": "#%%\n"
    }
   }
  },
  {
   "cell_type": "code",
   "execution_count": null,
   "outputs": [],
   "source": [
    "plot_images(clusterer_pp.cluster_centers_.reshape(-1, 8, 8), nrows=2, figsize=(20, 10))"
   ],
   "metadata": {
    "collapsed": false,
    "pycharm": {
     "name": "#%%\n"
    }
   }
  },
  {
   "cell_type": "markdown",
   "source": [
    "А теперь притворимся, что мы изначально не знали, сколько у нас кластеров и попробуем найти оптимальное их число"
   ],
   "metadata": {
    "collapsed": false
   }
  },
  {
   "cell_type": "code",
   "execution_count": null,
   "outputs": [],
   "source": [
    "num_classes = 41\n",
    "global_variances = []\n",
    "\n",
    "for i in range(1, num_classes):\n",
    "    clusterer = KMeans(i, init='k-means++')\n",
    "    classes = clusterer.fit_predict(digits.data)\n",
    "    \n",
    "    global_variance = 0\n",
    "    # Calculate total varians\n",
    "    for j in range(i):\n",
    "        class_samples = digits.data[classes == j]\n",
    "        centre = clusterer.cluster_centers_[j]\n",
    "        variance = ((class_samples - centre) ** 2).sum()\n",
    "        global_variance += variance\n",
    "    global_variances.append(global_variance)"
   ],
   "metadata": {
    "collapsed": false,
    "pycharm": {
     "name": "#%%\n"
    }
   }
  },
  {
   "cell_type": "code",
   "execution_count": null,
   "outputs": [],
   "source": [
    "plt.plot(range(1, num_classes), global_variances)"
   ],
   "metadata": {
    "collapsed": false,
    "pycharm": {
     "name": "#%%\n"
    }
   }
  },
  {
   "cell_type": "code",
   "execution_count": null,
   "outputs": [],
   "source": [],
   "metadata": {
    "collapsed": false,
    "pycharm": {
     "name": "#%%\n"
    }
   }
  }
 ],
 "metadata": {
  "kernelspec": {
   "display_name": "Python 3",
   "language": "python",
   "name": "python3"
  },
  "language_info": {
   "codemirror_mode": {
    "name": "ipython",
    "version": 3
   },
   "file_extension": ".py",
   "mimetype": "text/x-python",
   "name": "python",
   "nbconvert_exporter": "python",
   "pygments_lexer": "ipython3",
   "version": "3.7.8"
  }
 },
 "nbformat": 4,
 "nbformat_minor": 4
}