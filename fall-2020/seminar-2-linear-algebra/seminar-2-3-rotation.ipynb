{
 "cells": [
  {
   "cell_type": "markdown",
   "metadata": {},
   "source": [
    "# AI Community @ Семинар  №2\n",
    "## Пример использования матриц и операций с ними для поворота вектора"
   ]
  },
  {
   "cell_type": "markdown",
   "metadata": {},
   "source": [
    "Код не очень красивый и без комментариев. Запускать его нужно в Jupyter Notebook, не в Jupyter Lab\n",
    "Данный ноутбук предназначен для того, чтоб вы покрутили слайдер в самом низу и посмотрели на то, как меняется изображение."
   ]
  },
  {
   "cell_type": "code",
   "execution_count": 1,
   "metadata": {},
   "outputs": [
    {
     "name": "stdout",
     "output_type": "stream",
     "text": [
      "Collecting plotly\n",
      "  Downloading plotly-4.9.0-py2.py3-none-any.whl (12.9 MB)\n",
      "Processing c:\\users\\vyacheslav\\appdata\\local\\pip\\cache\\wheels\\d7\\a9\\33\\acc7b709e2a35caa7d4cae442f6fe6fbf2c43f80823d46460c\\retrying-1.3.3-cp37-none-any.whl\n",
      "Requirement already satisfied: six in d:\\vyacheslav\\anaconda\\envs\\training_pipeline\\lib\\site-packages (from plotly) (1.15.0)\n",
      "Installing collected packages: retrying, plotly\n",
      "Successfully installed plotly-4.9.0 retrying-1.3.3\n"
     ]
    }
   ],
   "source": [
    "# plotly не входит в Anaconda\n",
    "!pip install plotly"
   ]
  },
  {
   "cell_type": "code",
   "execution_count": 1,
   "metadata": {},
   "outputs": [
    {
     "data": {
      "text/html": [
       "        <script type=\"text/javascript\">\n",
       "        window.PlotlyConfig = {MathJaxConfig: 'local'};\n",
       "        if (window.MathJax) {MathJax.Hub.Config({SVG: {font: \"STIX-Web\"}});}\n",
       "        if (typeof require !== 'undefined') {\n",
       "        require.undef(\"plotly\");\n",
       "        requirejs.config({\n",
       "            paths: {\n",
       "                'plotly': ['https://cdn.plot.ly/plotly-latest.min']\n",
       "            }\n",
       "        });\n",
       "        require(['plotly'], function(Plotly) {\n",
       "            window._Plotly = Plotly;\n",
       "        });\n",
       "        }\n",
       "        </script>\n",
       "        "
      ]
     },
     "metadata": {},
     "output_type": "display_data"
    }
   ],
   "source": [
    "import numpy as np\n",
    "import plotly.offline as py           # Plotly: library for interactive plots\n",
    "\n",
    "py.init_notebook_mode(connected=True)"
   ]
  },
  {
   "cell_type": "code",
   "execution_count": 2,
   "metadata": {},
   "outputs": [],
   "source": [
    "def get_rotate_matrix(x):\n",
    "    return np.array([\n",
    "        [ np.cos(x), np.sin(x)],\n",
    "        [-np.sin(x), np.cos(x)]\n",
    "    ])"
   ]
  },
  {
   "cell_type": "code",
   "execution_count": 3,
   "metadata": {},
   "outputs": [],
   "source": [
    "def plot_vectors_rotations(vectors, steps=10):\n",
    "    rotation_angles = np.linspace(0, 2 * np.pi, steps)\n",
    "    \n",
    "    vectors = np.asarray(vectors).T\n",
    "    \n",
    "    rotated_vectors = [\n",
    "        get_rotate_matrix(angle).T.dot(vectors)\n",
    "        for angle in rotation_angles\n",
    "    ]\n",
    "    limit = np.max([np.linalg.norm(v, axis=0).max() for v in rotated_vectors])\n",
    "    \n",
    "    def get_vector_data(vector, i):\n",
    "        return dict(\n",
    "            x = [0, vector[0]],\n",
    "            y = [0, vector[1]],\n",
    "            visible = False,\n",
    "            name = 'Vector: {}'.format(i)\n",
    "        )\n",
    "    \n",
    "    data = [\n",
    "        [get_vector_data(vector, i) for i, vector in enumerate(vectors.T)]\n",
    "        for vectors in rotated_vectors\n",
    "    ]\n",
    "    for d in data[0]:\n",
    "        d['visible'] = True\n",
    "    \n",
    "    plot_data = []\n",
    "    for vectors in data:\n",
    "        plot_data += vectors\n",
    "    \n",
    "    steps = []\n",
    "    for i in range(len(data)):\n",
    "        step = dict(\n",
    "            method = 'restyle',\n",
    "            args = ['visible', [False] * len(plot_data)]\n",
    "        )\n",
    "        for j in range(len(vectors)):\n",
    "            step['args'][1][len(vectors)*i+j] = True\n",
    "        steps.append(step)\n",
    "        \n",
    "    sliders = [dict(\n",
    "        active = 0,\n",
    "        currentvalue = {\"prefix\": \"Angle: \"},\n",
    "        pad = {\"t\": 50},\n",
    "        steps = steps\n",
    "    )]\n",
    "\n",
    "    layout = dict(sliders=sliders,\n",
    "                  xaxis=dict(range=[-limit, limit]),\n",
    "                  yaxis=dict(range=[-limit, limit]),\n",
    "                  width=500,\n",
    "                  height=500,\n",
    "             )\n",
    "    fig = dict(data=plot_data, layout=layout)\n",
    "    return fig"
   ]
  },
  {
   "cell_type": "code",
   "execution_count": 4,
   "metadata": {},
   "outputs": [
    {
     "data": {
      "application/vnd.plotly.v1+json": {
       "config": {
        "linkText": "Export to plot.ly",
        "plotlyServerURL": "https://plot.ly",
        "showLink": false
       },
       "data": [
        {
         "name": "Vector: 0",
         "type": "scatter",
         "visible": true,
         "x": [
          0,
          1
         ],
         "y": [
          0,
          0
         ]
        },
        {
         "name": "Vector: 1",
         "type": "scatter",
         "visible": true,
         "x": [
          0,
          0.5
         ],
         "y": [
          0,
          -1.1
         ]
        },
        {
         "name": "Vector: 2",
         "type": "scatter",
         "visible": true,
         "x": [
          0,
          -1
         ],
         "y": [
          0,
          0.3
         ]
        },
        {
         "name": "Vector: 0",
         "type": "scatter",
         "visible": false,
         "x": [
          0,
          0.766044443118978
         ],
         "y": [
          0,
          0.6427876096865393
         ]
        },
        {
         "name": "Vector: 1",
         "type": "scatter",
         "visible": false,
         "x": [
          0,
          1.0900885922146824
         ],
         "y": [
          0,
          -0.5212550825876062
         ]
        },
        {
         "name": "Vector: 2",
         "type": "scatter",
         "visible": false,
         "x": [
          0,
          -0.9588807260249398
         ],
         "y": [
          0,
          -0.41297427675084586
         ]
        },
        {
         "name": "Vector: 0",
         "type": "scatter",
         "visible": false,
         "x": [
          0,
          0.17364817766693041
         ],
         "y": [
          0,
          0.984807753012208
         ]
        },
        {
         "name": "Vector: 1",
         "type": "scatter",
         "visible": false,
         "x": [
          0,
          1.170112617146894
         ],
         "y": [
          0,
          0.3013908810724806
         ]
        },
        {
         "name": "Vector: 2",
         "type": "scatter",
         "visible": false,
         "x": [
          0,
          -0.4690905035705928
         ],
         "y": [
          0,
          -0.9327132997121289
         ]
        },
        {
         "name": "Vector: 0",
         "type": "scatter",
         "visible": false,
         "x": [
          0,
          -0.4999999999999998
         ],
         "y": [
          0,
          0.8660254037844387
         ]
        },
        {
         "name": "Vector: 1",
         "type": "scatter",
         "visible": false,
         "x": [
          0,
          0.7026279441628828
         ],
         "y": [
          0,
          0.9830127018922192
         ]
        },
        {
         "name": "Vector: 2",
         "type": "scatter",
         "visible": false,
         "x": [
          0,
          0.24019237886466815
         ],
         "y": [
          0,
          -1.0160254037844387
         ]
        },
        {
         "name": "Vector: 0",
         "type": "scatter",
         "visible": false,
         "x": [
          0,
          -0.9396926207859083
         ],
         "y": [
          0,
          0.3420201433256689
         ]
        },
        {
         "name": "Vector: 1",
         "type": "scatter",
         "visible": false,
         "x": [
          0,
          -0.09362415273471836
         ],
         "y": [
          0,
          1.2046719545273337
         ]
        },
        {
         "name": "Vector: 2",
         "type": "scatter",
         "visible": false,
         "x": [
          0,
          0.8370865777882076
         ],
         "y": [
          0,
          -0.6239279295614414
         ]
        },
        {
         "name": "Vector: 0",
         "type": "scatter",
         "visible": false,
         "x": [
          0,
          -0.9396926207859084
         ],
         "y": [
          0,
          -0.34202014332566866
         ]
        },
        {
         "name": "Vector: 1",
         "type": "scatter",
         "visible": false,
         "x": [
          0,
          -0.8460684680511898
         ],
         "y": [
          0,
          0.8626518112016651
         ]
        },
        {
         "name": "Vector: 2",
         "type": "scatter",
         "visible": false,
         "x": [
          0,
          1.0422986637836091
         ],
         "y": [
          0,
          0.06011235708989615
         ]
        },
        {
         "name": "Vector: 0",
         "type": "scatter",
         "visible": false,
         "x": [
          0,
          -0.5000000000000004
         ],
         "y": [
          0,
          -0.8660254037844385
         ]
        },
        {
         "name": "Vector: 1",
         "type": "scatter",
         "visible": false,
         "x": [
          0,
          -1.2026279441628827
         ],
         "y": [
          0,
          0.11698729810778125
         ]
        },
        {
         "name": "Vector: 2",
         "type": "scatter",
         "visible": false,
         "x": [
          0,
          0.759807621135332
         ],
         "y": [
          0,
          0.7160254037844384
         ]
        },
        {
         "name": "Vector: 0",
         "type": "scatter",
         "visible": false,
         "x": [
          0,
          0.17364817766692997
         ],
         "y": [
          0,
          -0.9848077530122081
         ]
        },
        {
         "name": "Vector: 1",
         "type": "scatter",
         "visible": false,
         "x": [
          0,
          -0.996464439479964
         ],
         "y": [
          0,
          -0.6834168719397271
         ]
        },
        {
         "name": "Vector: 2",
         "type": "scatter",
         "visible": false,
         "x": [
          0,
          0.12179414823673246
         ],
         "y": [
          0,
          1.036902206312287
         ]
        },
        {
         "name": "Vector: 0",
         "type": "scatter",
         "visible": false,
         "x": [
          0,
          0.7660444431189778
         ],
         "y": [
          0,
          -0.6427876096865396
         ]
        },
        {
         "name": "Vector: 1",
         "type": "scatter",
         "visible": false,
         "x": [
          0,
          -0.3240441490957047
         ],
         "y": [
          0,
          -1.1640426922741454
         ]
        },
        {
         "name": "Vector: 2",
         "type": "scatter",
         "visible": false,
         "x": [
          0,
          -0.5732081602130159
         ],
         "y": [
          0,
          0.872600942622233
         ]
        },
        {
         "name": "Vector: 0",
         "type": "scatter",
         "visible": false,
         "x": [
          0,
          1
         ],
         "y": [
          0,
          -2.4492935982947064e-16
         ]
        },
        {
         "name": "Vector: 1",
         "type": "scatter",
         "visible": false,
         "x": [
          0,
          0.4999999999999997
         ],
         "y": [
          0,
          -1.1000000000000003
         ]
        },
        {
         "name": "Vector: 2",
         "type": "scatter",
         "visible": false,
         "x": [
          0,
          -0.9999999999999999
         ],
         "y": [
          0,
          0.3000000000000002
         ]
        }
       ],
       "layout": {
        "height": 500,
        "sliders": [
         {
          "active": 0,
          "currentvalue": {
           "prefix": "Angle: "
          },
          "pad": {
           "t": 50
          },
          "steps": [
           {
            "args": [
             "visible",
             [
              true,
              true,
              true,
              false,
              false,
              false,
              false,
              false,
              false,
              false,
              false,
              false,
              false,
              false,
              false,
              false,
              false,
              false,
              false,
              false,
              false,
              false,
              false,
              false,
              false,
              false,
              false,
              false,
              false,
              false
             ]
            ],
            "method": "restyle"
           },
           {
            "args": [
             "visible",
             [
              false,
              false,
              false,
              true,
              true,
              true,
              false,
              false,
              false,
              false,
              false,
              false,
              false,
              false,
              false,
              false,
              false,
              false,
              false,
              false,
              false,
              false,
              false,
              false,
              false,
              false,
              false,
              false,
              false,
              false
             ]
            ],
            "method": "restyle"
           },
           {
            "args": [
             "visible",
             [
              false,
              false,
              false,
              false,
              false,
              false,
              true,
              true,
              true,
              false,
              false,
              false,
              false,
              false,
              false,
              false,
              false,
              false,
              false,
              false,
              false,
              false,
              false,
              false,
              false,
              false,
              false,
              false,
              false,
              false
             ]
            ],
            "method": "restyle"
           },
           {
            "args": [
             "visible",
             [
              false,
              false,
              false,
              false,
              false,
              false,
              false,
              false,
              false,
              true,
              true,
              true,
              false,
              false,
              false,
              false,
              false,
              false,
              false,
              false,
              false,
              false,
              false,
              false,
              false,
              false,
              false,
              false,
              false,
              false
             ]
            ],
            "method": "restyle"
           },
           {
            "args": [
             "visible",
             [
              false,
              false,
              false,
              false,
              false,
              false,
              false,
              false,
              false,
              false,
              false,
              false,
              true,
              true,
              true,
              false,
              false,
              false,
              false,
              false,
              false,
              false,
              false,
              false,
              false,
              false,
              false,
              false,
              false,
              false
             ]
            ],
            "method": "restyle"
           },
           {
            "args": [
             "visible",
             [
              false,
              false,
              false,
              false,
              false,
              false,
              false,
              false,
              false,
              false,
              false,
              false,
              false,
              false,
              false,
              true,
              true,
              true,
              false,
              false,
              false,
              false,
              false,
              false,
              false,
              false,
              false,
              false,
              false,
              false
             ]
            ],
            "method": "restyle"
           },
           {
            "args": [
             "visible",
             [
              false,
              false,
              false,
              false,
              false,
              false,
              false,
              false,
              false,
              false,
              false,
              false,
              false,
              false,
              false,
              false,
              false,
              false,
              true,
              true,
              true,
              false,
              false,
              false,
              false,
              false,
              false,
              false,
              false,
              false
             ]
            ],
            "method": "restyle"
           },
           {
            "args": [
             "visible",
             [
              false,
              false,
              false,
              false,
              false,
              false,
              false,
              false,
              false,
              false,
              false,
              false,
              false,
              false,
              false,
              false,
              false,
              false,
              false,
              false,
              false,
              true,
              true,
              true,
              false,
              false,
              false,
              false,
              false,
              false
             ]
            ],
            "method": "restyle"
           },
           {
            "args": [
             "visible",
             [
              false,
              false,
              false,
              false,
              false,
              false,
              false,
              false,
              false,
              false,
              false,
              false,
              false,
              false,
              false,
              false,
              false,
              false,
              false,
              false,
              false,
              false,
              false,
              false,
              true,
              true,
              true,
              false,
              false,
              false
             ]
            ],
            "method": "restyle"
           },
           {
            "args": [
             "visible",
             [
              false,
              false,
              false,
              false,
              false,
              false,
              false,
              false,
              false,
              false,
              false,
              false,
              false,
              false,
              false,
              false,
              false,
              false,
              false,
              false,
              false,
              false,
              false,
              false,
              false,
              false,
              false,
              true,
              true,
              true
             ]
            ],
            "method": "restyle"
           }
          ]
         }
        ],
        "template": {
         "data": {
          "bar": [
           {
            "error_x": {
             "color": "#2a3f5f"
            },
            "error_y": {
             "color": "#2a3f5f"
            },
            "marker": {
             "line": {
              "color": "#E5ECF6",
              "width": 0.5
             }
            },
            "type": "bar"
           }
          ],
          "barpolar": [
           {
            "marker": {
             "line": {
              "color": "#E5ECF6",
              "width": 0.5
             }
            },
            "type": "barpolar"
           }
          ],
          "carpet": [
           {
            "aaxis": {
             "endlinecolor": "#2a3f5f",
             "gridcolor": "white",
             "linecolor": "white",
             "minorgridcolor": "white",
             "startlinecolor": "#2a3f5f"
            },
            "baxis": {
             "endlinecolor": "#2a3f5f",
             "gridcolor": "white",
             "linecolor": "white",
             "minorgridcolor": "white",
             "startlinecolor": "#2a3f5f"
            },
            "type": "carpet"
           }
          ],
          "choropleth": [
           {
            "colorbar": {
             "outlinewidth": 0,
             "ticks": ""
            },
            "type": "choropleth"
           }
          ],
          "contour": [
           {
            "colorbar": {
             "outlinewidth": 0,
             "ticks": ""
            },
            "colorscale": [
             [
              0,
              "#0d0887"
             ],
             [
              0.1111111111111111,
              "#46039f"
             ],
             [
              0.2222222222222222,
              "#7201a8"
             ],
             [
              0.3333333333333333,
              "#9c179e"
             ],
             [
              0.4444444444444444,
              "#bd3786"
             ],
             [
              0.5555555555555556,
              "#d8576b"
             ],
             [
              0.6666666666666666,
              "#ed7953"
             ],
             [
              0.7777777777777778,
              "#fb9f3a"
             ],
             [
              0.8888888888888888,
              "#fdca26"
             ],
             [
              1,
              "#f0f921"
             ]
            ],
            "type": "contour"
           }
          ],
          "contourcarpet": [
           {
            "colorbar": {
             "outlinewidth": 0,
             "ticks": ""
            },
            "type": "contourcarpet"
           }
          ],
          "heatmap": [
           {
            "colorbar": {
             "outlinewidth": 0,
             "ticks": ""
            },
            "colorscale": [
             [
              0,
              "#0d0887"
             ],
             [
              0.1111111111111111,
              "#46039f"
             ],
             [
              0.2222222222222222,
              "#7201a8"
             ],
             [
              0.3333333333333333,
              "#9c179e"
             ],
             [
              0.4444444444444444,
              "#bd3786"
             ],
             [
              0.5555555555555556,
              "#d8576b"
             ],
             [
              0.6666666666666666,
              "#ed7953"
             ],
             [
              0.7777777777777778,
              "#fb9f3a"
             ],
             [
              0.8888888888888888,
              "#fdca26"
             ],
             [
              1,
              "#f0f921"
             ]
            ],
            "type": "heatmap"
           }
          ],
          "heatmapgl": [
           {
            "colorbar": {
             "outlinewidth": 0,
             "ticks": ""
            },
            "colorscale": [
             [
              0,
              "#0d0887"
             ],
             [
              0.1111111111111111,
              "#46039f"
             ],
             [
              0.2222222222222222,
              "#7201a8"
             ],
             [
              0.3333333333333333,
              "#9c179e"
             ],
             [
              0.4444444444444444,
              "#bd3786"
             ],
             [
              0.5555555555555556,
              "#d8576b"
             ],
             [
              0.6666666666666666,
              "#ed7953"
             ],
             [
              0.7777777777777778,
              "#fb9f3a"
             ],
             [
              0.8888888888888888,
              "#fdca26"
             ],
             [
              1,
              "#f0f921"
             ]
            ],
            "type": "heatmapgl"
           }
          ],
          "histogram": [
           {
            "marker": {
             "colorbar": {
              "outlinewidth": 0,
              "ticks": ""
             }
            },
            "type": "histogram"
           }
          ],
          "histogram2d": [
           {
            "colorbar": {
             "outlinewidth": 0,
             "ticks": ""
            },
            "colorscale": [
             [
              0,
              "#0d0887"
             ],
             [
              0.1111111111111111,
              "#46039f"
             ],
             [
              0.2222222222222222,
              "#7201a8"
             ],
             [
              0.3333333333333333,
              "#9c179e"
             ],
             [
              0.4444444444444444,
              "#bd3786"
             ],
             [
              0.5555555555555556,
              "#d8576b"
             ],
             [
              0.6666666666666666,
              "#ed7953"
             ],
             [
              0.7777777777777778,
              "#fb9f3a"
             ],
             [
              0.8888888888888888,
              "#fdca26"
             ],
             [
              1,
              "#f0f921"
             ]
            ],
            "type": "histogram2d"
           }
          ],
          "histogram2dcontour": [
           {
            "colorbar": {
             "outlinewidth": 0,
             "ticks": ""
            },
            "colorscale": [
             [
              0,
              "#0d0887"
             ],
             [
              0.1111111111111111,
              "#46039f"
             ],
             [
              0.2222222222222222,
              "#7201a8"
             ],
             [
              0.3333333333333333,
              "#9c179e"
             ],
             [
              0.4444444444444444,
              "#bd3786"
             ],
             [
              0.5555555555555556,
              "#d8576b"
             ],
             [
              0.6666666666666666,
              "#ed7953"
             ],
             [
              0.7777777777777778,
              "#fb9f3a"
             ],
             [
              0.8888888888888888,
              "#fdca26"
             ],
             [
              1,
              "#f0f921"
             ]
            ],
            "type": "histogram2dcontour"
           }
          ],
          "mesh3d": [
           {
            "colorbar": {
             "outlinewidth": 0,
             "ticks": ""
            },
            "type": "mesh3d"
           }
          ],
          "parcoords": [
           {
            "line": {
             "colorbar": {
              "outlinewidth": 0,
              "ticks": ""
             }
            },
            "type": "parcoords"
           }
          ],
          "pie": [
           {
            "automargin": true,
            "type": "pie"
           }
          ],
          "scatter": [
           {
            "marker": {
             "colorbar": {
              "outlinewidth": 0,
              "ticks": ""
             }
            },
            "type": "scatter"
           }
          ],
          "scatter3d": [
           {
            "line": {
             "colorbar": {
              "outlinewidth": 0,
              "ticks": ""
             }
            },
            "marker": {
             "colorbar": {
              "outlinewidth": 0,
              "ticks": ""
             }
            },
            "type": "scatter3d"
           }
          ],
          "scattercarpet": [
           {
            "marker": {
             "colorbar": {
              "outlinewidth": 0,
              "ticks": ""
             }
            },
            "type": "scattercarpet"
           }
          ],
          "scattergeo": [
           {
            "marker": {
             "colorbar": {
              "outlinewidth": 0,
              "ticks": ""
             }
            },
            "type": "scattergeo"
           }
          ],
          "scattergl": [
           {
            "marker": {
             "colorbar": {
              "outlinewidth": 0,
              "ticks": ""
             }
            },
            "type": "scattergl"
           }
          ],
          "scattermapbox": [
           {
            "marker": {
             "colorbar": {
              "outlinewidth": 0,
              "ticks": ""
             }
            },
            "type": "scattermapbox"
           }
          ],
          "scatterpolar": [
           {
            "marker": {
             "colorbar": {
              "outlinewidth": 0,
              "ticks": ""
             }
            },
            "type": "scatterpolar"
           }
          ],
          "scatterpolargl": [
           {
            "marker": {
             "colorbar": {
              "outlinewidth": 0,
              "ticks": ""
             }
            },
            "type": "scatterpolargl"
           }
          ],
          "scatterternary": [
           {
            "marker": {
             "colorbar": {
              "outlinewidth": 0,
              "ticks": ""
             }
            },
            "type": "scatterternary"
           }
          ],
          "surface": [
           {
            "colorbar": {
             "outlinewidth": 0,
             "ticks": ""
            },
            "colorscale": [
             [
              0,
              "#0d0887"
             ],
             [
              0.1111111111111111,
              "#46039f"
             ],
             [
              0.2222222222222222,
              "#7201a8"
             ],
             [
              0.3333333333333333,
              "#9c179e"
             ],
             [
              0.4444444444444444,
              "#bd3786"
             ],
             [
              0.5555555555555556,
              "#d8576b"
             ],
             [
              0.6666666666666666,
              "#ed7953"
             ],
             [
              0.7777777777777778,
              "#fb9f3a"
             ],
             [
              0.8888888888888888,
              "#fdca26"
             ],
             [
              1,
              "#f0f921"
             ]
            ],
            "type": "surface"
           }
          ],
          "table": [
           {
            "cells": {
             "fill": {
              "color": "#EBF0F8"
             },
             "line": {
              "color": "white"
             }
            },
            "header": {
             "fill": {
              "color": "#C8D4E3"
             },
             "line": {
              "color": "white"
             }
            },
            "type": "table"
           }
          ]
         },
         "layout": {
          "annotationdefaults": {
           "arrowcolor": "#2a3f5f",
           "arrowhead": 0,
           "arrowwidth": 1
          },
          "coloraxis": {
           "colorbar": {
            "outlinewidth": 0,
            "ticks": ""
           }
          },
          "colorscale": {
           "diverging": [
            [
             0,
             "#8e0152"
            ],
            [
             0.1,
             "#c51b7d"
            ],
            [
             0.2,
             "#de77ae"
            ],
            [
             0.3,
             "#f1b6da"
            ],
            [
             0.4,
             "#fde0ef"
            ],
            [
             0.5,
             "#f7f7f7"
            ],
            [
             0.6,
             "#e6f5d0"
            ],
            [
             0.7,
             "#b8e186"
            ],
            [
             0.8,
             "#7fbc41"
            ],
            [
             0.9,
             "#4d9221"
            ],
            [
             1,
             "#276419"
            ]
           ],
           "sequential": [
            [
             0,
             "#0d0887"
            ],
            [
             0.1111111111111111,
             "#46039f"
            ],
            [
             0.2222222222222222,
             "#7201a8"
            ],
            [
             0.3333333333333333,
             "#9c179e"
            ],
            [
             0.4444444444444444,
             "#bd3786"
            ],
            [
             0.5555555555555556,
             "#d8576b"
            ],
            [
             0.6666666666666666,
             "#ed7953"
            ],
            [
             0.7777777777777778,
             "#fb9f3a"
            ],
            [
             0.8888888888888888,
             "#fdca26"
            ],
            [
             1,
             "#f0f921"
            ]
           ],
           "sequentialminus": [
            [
             0,
             "#0d0887"
            ],
            [
             0.1111111111111111,
             "#46039f"
            ],
            [
             0.2222222222222222,
             "#7201a8"
            ],
            [
             0.3333333333333333,
             "#9c179e"
            ],
            [
             0.4444444444444444,
             "#bd3786"
            ],
            [
             0.5555555555555556,
             "#d8576b"
            ],
            [
             0.6666666666666666,
             "#ed7953"
            ],
            [
             0.7777777777777778,
             "#fb9f3a"
            ],
            [
             0.8888888888888888,
             "#fdca26"
            ],
            [
             1,
             "#f0f921"
            ]
           ]
          },
          "colorway": [
           "#636efa",
           "#EF553B",
           "#00cc96",
           "#ab63fa",
           "#FFA15A",
           "#19d3f3",
           "#FF6692",
           "#B6E880",
           "#FF97FF",
           "#FECB52"
          ],
          "font": {
           "color": "#2a3f5f"
          },
          "geo": {
           "bgcolor": "white",
           "lakecolor": "white",
           "landcolor": "#E5ECF6",
           "showlakes": true,
           "showland": true,
           "subunitcolor": "white"
          },
          "hoverlabel": {
           "align": "left"
          },
          "hovermode": "closest",
          "mapbox": {
           "style": "light"
          },
          "paper_bgcolor": "white",
          "plot_bgcolor": "#E5ECF6",
          "polar": {
           "angularaxis": {
            "gridcolor": "white",
            "linecolor": "white",
            "ticks": ""
           },
           "bgcolor": "#E5ECF6",
           "radialaxis": {
            "gridcolor": "white",
            "linecolor": "white",
            "ticks": ""
           }
          },
          "scene": {
           "xaxis": {
            "backgroundcolor": "#E5ECF6",
            "gridcolor": "white",
            "gridwidth": 2,
            "linecolor": "white",
            "showbackground": true,
            "ticks": "",
            "zerolinecolor": "white"
           },
           "yaxis": {
            "backgroundcolor": "#E5ECF6",
            "gridcolor": "white",
            "gridwidth": 2,
            "linecolor": "white",
            "showbackground": true,
            "ticks": "",
            "zerolinecolor": "white"
           },
           "zaxis": {
            "backgroundcolor": "#E5ECF6",
            "gridcolor": "white",
            "gridwidth": 2,
            "linecolor": "white",
            "showbackground": true,
            "ticks": "",
            "zerolinecolor": "white"
           }
          },
          "shapedefaults": {
           "line": {
            "color": "#2a3f5f"
           }
          },
          "ternary": {
           "aaxis": {
            "gridcolor": "white",
            "linecolor": "white",
            "ticks": ""
           },
           "baxis": {
            "gridcolor": "white",
            "linecolor": "white",
            "ticks": ""
           },
           "bgcolor": "#E5ECF6",
           "caxis": {
            "gridcolor": "white",
            "linecolor": "white",
            "ticks": ""
           }
          },
          "title": {
           "x": 0.05
          },
          "xaxis": {
           "automargin": true,
           "gridcolor": "white",
           "linecolor": "white",
           "ticks": "",
           "title": {
            "standoff": 15
           },
           "zerolinecolor": "white",
           "zerolinewidth": 2
          },
          "yaxis": {
           "automargin": true,
           "gridcolor": "white",
           "linecolor": "white",
           "ticks": "",
           "title": {
            "standoff": 15
           },
           "zerolinecolor": "white",
           "zerolinewidth": 2
          }
         }
        },
        "width": 500,
        "xaxis": {
         "range": [
          -1.2083045973594573,
          1.2083045973594573
         ]
        },
        "yaxis": {
         "range": [
          -1.2083045973594573,
          1.2083045973594573
         ]
        }
       }
      },
      "text/html": [
       "<div>\n",
       "        \n",
       "        \n",
       "            <div id=\"dca80dc5-3bfa-458d-9aab-94eb088ed48c\" class=\"plotly-graph-div\" style=\"height:500px; width:500px;\"></div>\n",
       "            <script type=\"text/javascript\">\n",
       "                require([\"plotly\"], function(Plotly) {\n",
       "                    window.PLOTLYENV=window.PLOTLYENV || {};\n",
       "                    \n",
       "                if (document.getElementById(\"dca80dc5-3bfa-458d-9aab-94eb088ed48c\")) {\n",
       "                    Plotly.newPlot(\n",
       "                        'dca80dc5-3bfa-458d-9aab-94eb088ed48c',\n",
       "                        [{\"name\": \"Vector: 0\", \"type\": \"scatter\", \"visible\": true, \"x\": [0, 1.0], \"y\": [0, 0.0]}, {\"name\": \"Vector: 1\", \"type\": \"scatter\", \"visible\": true, \"x\": [0, 0.5], \"y\": [0, -1.1]}, {\"name\": \"Vector: 2\", \"type\": \"scatter\", \"visible\": true, \"x\": [0, -1.0], \"y\": [0, 0.3]}, {\"name\": \"Vector: 0\", \"type\": \"scatter\", \"visible\": false, \"x\": [0, 0.766044443118978], \"y\": [0, 0.6427876096865393]}, {\"name\": \"Vector: 1\", \"type\": \"scatter\", \"visible\": false, \"x\": [0, 1.0900885922146824], \"y\": [0, -0.5212550825876062]}, {\"name\": \"Vector: 2\", \"type\": \"scatter\", \"visible\": false, \"x\": [0, -0.9588807260249398], \"y\": [0, -0.41297427675084586]}, {\"name\": \"Vector: 0\", \"type\": \"scatter\", \"visible\": false, \"x\": [0, 0.17364817766693041], \"y\": [0, 0.984807753012208]}, {\"name\": \"Vector: 1\", \"type\": \"scatter\", \"visible\": false, \"x\": [0, 1.170112617146894], \"y\": [0, 0.3013908810724806]}, {\"name\": \"Vector: 2\", \"type\": \"scatter\", \"visible\": false, \"x\": [0, -0.4690905035705928], \"y\": [0, -0.9327132997121289]}, {\"name\": \"Vector: 0\", \"type\": \"scatter\", \"visible\": false, \"x\": [0, -0.4999999999999998], \"y\": [0, 0.8660254037844387]}, {\"name\": \"Vector: 1\", \"type\": \"scatter\", \"visible\": false, \"x\": [0, 0.7026279441628828], \"y\": [0, 0.9830127018922192]}, {\"name\": \"Vector: 2\", \"type\": \"scatter\", \"visible\": false, \"x\": [0, 0.24019237886466815], \"y\": [0, -1.0160254037844387]}, {\"name\": \"Vector: 0\", \"type\": \"scatter\", \"visible\": false, \"x\": [0, -0.9396926207859083], \"y\": [0, 0.3420201433256689]}, {\"name\": \"Vector: 1\", \"type\": \"scatter\", \"visible\": false, \"x\": [0, -0.09362415273471836], \"y\": [0, 1.2046719545273337]}, {\"name\": \"Vector: 2\", \"type\": \"scatter\", \"visible\": false, \"x\": [0, 0.8370865777882076], \"y\": [0, -0.6239279295614414]}, {\"name\": \"Vector: 0\", \"type\": \"scatter\", \"visible\": false, \"x\": [0, -0.9396926207859084], \"y\": [0, -0.34202014332566866]}, {\"name\": \"Vector: 1\", \"type\": \"scatter\", \"visible\": false, \"x\": [0, -0.8460684680511898], \"y\": [0, 0.8626518112016651]}, {\"name\": \"Vector: 2\", \"type\": \"scatter\", \"visible\": false, \"x\": [0, 1.0422986637836091], \"y\": [0, 0.06011235708989615]}, {\"name\": \"Vector: 0\", \"type\": \"scatter\", \"visible\": false, \"x\": [0, -0.5000000000000004], \"y\": [0, -0.8660254037844385]}, {\"name\": \"Vector: 1\", \"type\": \"scatter\", \"visible\": false, \"x\": [0, -1.2026279441628827], \"y\": [0, 0.11698729810778125]}, {\"name\": \"Vector: 2\", \"type\": \"scatter\", \"visible\": false, \"x\": [0, 0.759807621135332], \"y\": [0, 0.7160254037844384]}, {\"name\": \"Vector: 0\", \"type\": \"scatter\", \"visible\": false, \"x\": [0, 0.17364817766692997], \"y\": [0, -0.9848077530122081]}, {\"name\": \"Vector: 1\", \"type\": \"scatter\", \"visible\": false, \"x\": [0, -0.996464439479964], \"y\": [0, -0.6834168719397271]}, {\"name\": \"Vector: 2\", \"type\": \"scatter\", \"visible\": false, \"x\": [0, 0.12179414823673246], \"y\": [0, 1.036902206312287]}, {\"name\": \"Vector: 0\", \"type\": \"scatter\", \"visible\": false, \"x\": [0, 0.7660444431189778], \"y\": [0, -0.6427876096865396]}, {\"name\": \"Vector: 1\", \"type\": \"scatter\", \"visible\": false, \"x\": [0, -0.3240441490957047], \"y\": [0, -1.1640426922741454]}, {\"name\": \"Vector: 2\", \"type\": \"scatter\", \"visible\": false, \"x\": [0, -0.5732081602130159], \"y\": [0, 0.872600942622233]}, {\"name\": \"Vector: 0\", \"type\": \"scatter\", \"visible\": false, \"x\": [0, 1.0], \"y\": [0, -2.4492935982947064e-16]}, {\"name\": \"Vector: 1\", \"type\": \"scatter\", \"visible\": false, \"x\": [0, 0.4999999999999997], \"y\": [0, -1.1000000000000003]}, {\"name\": \"Vector: 2\", \"type\": \"scatter\", \"visible\": false, \"x\": [0, -0.9999999999999999], \"y\": [0, 0.3000000000000002]}],\n",
       "                        {\"height\": 500, \"sliders\": [{\"active\": 0, \"currentvalue\": {\"prefix\": \"Angle: \"}, \"pad\": {\"t\": 50}, \"steps\": [{\"args\": [\"visible\", [true, true, true, false, false, false, false, false, false, false, false, false, false, false, false, false, false, false, false, false, false, false, false, false, false, false, false, false, false, false]], \"method\": \"restyle\"}, {\"args\": [\"visible\", [false, false, false, true, true, true, false, false, false, false, false, false, false, false, false, false, false, false, false, false, false, false, false, false, false, false, false, false, false, false]], \"method\": \"restyle\"}, {\"args\": [\"visible\", [false, false, false, false, false, false, true, true, true, false, false, false, false, false, false, false, false, false, false, false, false, false, false, false, false, false, false, false, false, false]], \"method\": \"restyle\"}, {\"args\": [\"visible\", [false, false, false, false, false, false, false, false, false, true, true, true, false, false, false, false, false, false, false, false, false, false, false, false, false, false, false, false, false, false]], \"method\": \"restyle\"}, {\"args\": [\"visible\", [false, false, false, false, false, false, false, false, false, false, false, false, true, true, true, false, false, false, false, false, false, false, false, false, false, false, false, false, false, false]], \"method\": \"restyle\"}, {\"args\": [\"visible\", [false, false, false, false, false, false, false, false, false, false, false, false, false, false, false, true, true, true, false, false, false, false, false, false, false, false, false, false, false, false]], \"method\": \"restyle\"}, {\"args\": [\"visible\", [false, false, false, false, false, false, false, false, false, false, false, false, false, false, false, false, false, false, true, true, true, false, false, false, false, false, false, false, false, false]], \"method\": \"restyle\"}, {\"args\": [\"visible\", [false, false, false, false, false, false, false, false, false, false, false, false, false, false, false, false, false, false, false, false, false, true, true, true, false, false, false, false, false, false]], \"method\": \"restyle\"}, {\"args\": [\"visible\", [false, false, false, false, false, false, false, false, false, false, false, false, false, false, false, false, false, false, false, false, false, false, false, false, true, true, true, false, false, false]], \"method\": \"restyle\"}, {\"args\": [\"visible\", [false, false, false, false, false, false, false, false, false, false, false, false, false, false, false, false, false, false, false, false, false, false, false, false, false, false, false, true, true, true]], \"method\": \"restyle\"}]}], \"template\": {\"data\": {\"bar\": [{\"error_x\": {\"color\": \"#2a3f5f\"}, \"error_y\": {\"color\": \"#2a3f5f\"}, \"marker\": {\"line\": {\"color\": \"#E5ECF6\", \"width\": 0.5}}, \"type\": \"bar\"}], \"barpolar\": [{\"marker\": {\"line\": {\"color\": \"#E5ECF6\", \"width\": 0.5}}, \"type\": \"barpolar\"}], \"carpet\": [{\"aaxis\": {\"endlinecolor\": \"#2a3f5f\", \"gridcolor\": \"white\", \"linecolor\": \"white\", \"minorgridcolor\": \"white\", \"startlinecolor\": \"#2a3f5f\"}, \"baxis\": {\"endlinecolor\": \"#2a3f5f\", \"gridcolor\": \"white\", \"linecolor\": \"white\", \"minorgridcolor\": \"white\", \"startlinecolor\": \"#2a3f5f\"}, \"type\": \"carpet\"}], \"choropleth\": [{\"colorbar\": {\"outlinewidth\": 0, \"ticks\": \"\"}, \"type\": \"choropleth\"}], \"contour\": [{\"colorbar\": {\"outlinewidth\": 0, \"ticks\": \"\"}, \"colorscale\": [[0.0, \"#0d0887\"], [0.1111111111111111, \"#46039f\"], [0.2222222222222222, \"#7201a8\"], [0.3333333333333333, \"#9c179e\"], [0.4444444444444444, \"#bd3786\"], [0.5555555555555556, \"#d8576b\"], [0.6666666666666666, \"#ed7953\"], [0.7777777777777778, \"#fb9f3a\"], [0.8888888888888888, \"#fdca26\"], [1.0, \"#f0f921\"]], \"type\": \"contour\"}], \"contourcarpet\": [{\"colorbar\": {\"outlinewidth\": 0, \"ticks\": \"\"}, \"type\": \"contourcarpet\"}], \"heatmap\": [{\"colorbar\": {\"outlinewidth\": 0, \"ticks\": \"\"}, \"colorscale\": [[0.0, \"#0d0887\"], [0.1111111111111111, \"#46039f\"], [0.2222222222222222, \"#7201a8\"], [0.3333333333333333, \"#9c179e\"], [0.4444444444444444, \"#bd3786\"], [0.5555555555555556, \"#d8576b\"], [0.6666666666666666, \"#ed7953\"], [0.7777777777777778, \"#fb9f3a\"], [0.8888888888888888, \"#fdca26\"], [1.0, \"#f0f921\"]], \"type\": \"heatmap\"}], \"heatmapgl\": [{\"colorbar\": {\"outlinewidth\": 0, \"ticks\": \"\"}, \"colorscale\": [[0.0, \"#0d0887\"], [0.1111111111111111, \"#46039f\"], [0.2222222222222222, \"#7201a8\"], [0.3333333333333333, \"#9c179e\"], [0.4444444444444444, \"#bd3786\"], [0.5555555555555556, \"#d8576b\"], [0.6666666666666666, \"#ed7953\"], [0.7777777777777778, \"#fb9f3a\"], [0.8888888888888888, \"#fdca26\"], [1.0, \"#f0f921\"]], \"type\": \"heatmapgl\"}], \"histogram\": [{\"marker\": {\"colorbar\": {\"outlinewidth\": 0, \"ticks\": \"\"}}, \"type\": \"histogram\"}], \"histogram2d\": [{\"colorbar\": {\"outlinewidth\": 0, \"ticks\": \"\"}, \"colorscale\": [[0.0, \"#0d0887\"], [0.1111111111111111, \"#46039f\"], [0.2222222222222222, \"#7201a8\"], [0.3333333333333333, \"#9c179e\"], [0.4444444444444444, \"#bd3786\"], [0.5555555555555556, \"#d8576b\"], [0.6666666666666666, \"#ed7953\"], [0.7777777777777778, \"#fb9f3a\"], [0.8888888888888888, \"#fdca26\"], [1.0, \"#f0f921\"]], \"type\": \"histogram2d\"}], \"histogram2dcontour\": [{\"colorbar\": {\"outlinewidth\": 0, \"ticks\": \"\"}, \"colorscale\": [[0.0, \"#0d0887\"], [0.1111111111111111, \"#46039f\"], [0.2222222222222222, \"#7201a8\"], [0.3333333333333333, \"#9c179e\"], [0.4444444444444444, \"#bd3786\"], [0.5555555555555556, \"#d8576b\"], [0.6666666666666666, \"#ed7953\"], [0.7777777777777778, \"#fb9f3a\"], [0.8888888888888888, \"#fdca26\"], [1.0, \"#f0f921\"]], \"type\": \"histogram2dcontour\"}], \"mesh3d\": [{\"colorbar\": {\"outlinewidth\": 0, \"ticks\": \"\"}, \"type\": \"mesh3d\"}], \"parcoords\": [{\"line\": {\"colorbar\": {\"outlinewidth\": 0, \"ticks\": \"\"}}, \"type\": \"parcoords\"}], \"pie\": [{\"automargin\": true, \"type\": \"pie\"}], \"scatter\": [{\"marker\": {\"colorbar\": {\"outlinewidth\": 0, \"ticks\": \"\"}}, \"type\": \"scatter\"}], \"scatter3d\": [{\"line\": {\"colorbar\": {\"outlinewidth\": 0, \"ticks\": \"\"}}, \"marker\": {\"colorbar\": {\"outlinewidth\": 0, \"ticks\": \"\"}}, \"type\": \"scatter3d\"}], \"scattercarpet\": [{\"marker\": {\"colorbar\": {\"outlinewidth\": 0, \"ticks\": \"\"}}, \"type\": \"scattercarpet\"}], \"scattergeo\": [{\"marker\": {\"colorbar\": {\"outlinewidth\": 0, \"ticks\": \"\"}}, \"type\": \"scattergeo\"}], \"scattergl\": [{\"marker\": {\"colorbar\": {\"outlinewidth\": 0, \"ticks\": \"\"}}, \"type\": \"scattergl\"}], \"scattermapbox\": [{\"marker\": {\"colorbar\": {\"outlinewidth\": 0, \"ticks\": \"\"}}, \"type\": \"scattermapbox\"}], \"scatterpolar\": [{\"marker\": {\"colorbar\": {\"outlinewidth\": 0, \"ticks\": \"\"}}, \"type\": \"scatterpolar\"}], \"scatterpolargl\": [{\"marker\": {\"colorbar\": {\"outlinewidth\": 0, \"ticks\": \"\"}}, \"type\": \"scatterpolargl\"}], \"scatterternary\": [{\"marker\": {\"colorbar\": {\"outlinewidth\": 0, \"ticks\": \"\"}}, \"type\": \"scatterternary\"}], \"surface\": [{\"colorbar\": {\"outlinewidth\": 0, \"ticks\": \"\"}, \"colorscale\": [[0.0, \"#0d0887\"], [0.1111111111111111, \"#46039f\"], [0.2222222222222222, \"#7201a8\"], [0.3333333333333333, \"#9c179e\"], [0.4444444444444444, \"#bd3786\"], [0.5555555555555556, \"#d8576b\"], [0.6666666666666666, \"#ed7953\"], [0.7777777777777778, \"#fb9f3a\"], [0.8888888888888888, \"#fdca26\"], [1.0, \"#f0f921\"]], \"type\": \"surface\"}], \"table\": [{\"cells\": {\"fill\": {\"color\": \"#EBF0F8\"}, \"line\": {\"color\": \"white\"}}, \"header\": {\"fill\": {\"color\": \"#C8D4E3\"}, \"line\": {\"color\": \"white\"}}, \"type\": \"table\"}]}, \"layout\": {\"annotationdefaults\": {\"arrowcolor\": \"#2a3f5f\", \"arrowhead\": 0, \"arrowwidth\": 1}, \"coloraxis\": {\"colorbar\": {\"outlinewidth\": 0, \"ticks\": \"\"}}, \"colorscale\": {\"diverging\": [[0, \"#8e0152\"], [0.1, \"#c51b7d\"], [0.2, \"#de77ae\"], [0.3, \"#f1b6da\"], [0.4, \"#fde0ef\"], [0.5, \"#f7f7f7\"], [0.6, \"#e6f5d0\"], [0.7, \"#b8e186\"], [0.8, \"#7fbc41\"], [0.9, \"#4d9221\"], [1, \"#276419\"]], \"sequential\": [[0.0, \"#0d0887\"], [0.1111111111111111, \"#46039f\"], [0.2222222222222222, \"#7201a8\"], [0.3333333333333333, \"#9c179e\"], [0.4444444444444444, \"#bd3786\"], [0.5555555555555556, \"#d8576b\"], [0.6666666666666666, \"#ed7953\"], [0.7777777777777778, \"#fb9f3a\"], [0.8888888888888888, \"#fdca26\"], [1.0, \"#f0f921\"]], \"sequentialminus\": [[0.0, \"#0d0887\"], [0.1111111111111111, \"#46039f\"], [0.2222222222222222, \"#7201a8\"], [0.3333333333333333, \"#9c179e\"], [0.4444444444444444, \"#bd3786\"], [0.5555555555555556, \"#d8576b\"], [0.6666666666666666, \"#ed7953\"], [0.7777777777777778, \"#fb9f3a\"], [0.8888888888888888, \"#fdca26\"], [1.0, \"#f0f921\"]]}, \"colorway\": [\"#636efa\", \"#EF553B\", \"#00cc96\", \"#ab63fa\", \"#FFA15A\", \"#19d3f3\", \"#FF6692\", \"#B6E880\", \"#FF97FF\", \"#FECB52\"], \"font\": {\"color\": \"#2a3f5f\"}, \"geo\": {\"bgcolor\": \"white\", \"lakecolor\": \"white\", \"landcolor\": \"#E5ECF6\", \"showlakes\": true, \"showland\": true, \"subunitcolor\": \"white\"}, \"hoverlabel\": {\"align\": \"left\"}, \"hovermode\": \"closest\", \"mapbox\": {\"style\": \"light\"}, \"paper_bgcolor\": \"white\", \"plot_bgcolor\": \"#E5ECF6\", \"polar\": {\"angularaxis\": {\"gridcolor\": \"white\", \"linecolor\": \"white\", \"ticks\": \"\"}, \"bgcolor\": \"#E5ECF6\", \"radialaxis\": {\"gridcolor\": \"white\", \"linecolor\": \"white\", \"ticks\": \"\"}}, \"scene\": {\"xaxis\": {\"backgroundcolor\": \"#E5ECF6\", \"gridcolor\": \"white\", \"gridwidth\": 2, \"linecolor\": \"white\", \"showbackground\": true, \"ticks\": \"\", \"zerolinecolor\": \"white\"}, \"yaxis\": {\"backgroundcolor\": \"#E5ECF6\", \"gridcolor\": \"white\", \"gridwidth\": 2, \"linecolor\": \"white\", \"showbackground\": true, \"ticks\": \"\", \"zerolinecolor\": \"white\"}, \"zaxis\": {\"backgroundcolor\": \"#E5ECF6\", \"gridcolor\": \"white\", \"gridwidth\": 2, \"linecolor\": \"white\", \"showbackground\": true, \"ticks\": \"\", \"zerolinecolor\": \"white\"}}, \"shapedefaults\": {\"line\": {\"color\": \"#2a3f5f\"}}, \"ternary\": {\"aaxis\": {\"gridcolor\": \"white\", \"linecolor\": \"white\", \"ticks\": \"\"}, \"baxis\": {\"gridcolor\": \"white\", \"linecolor\": \"white\", \"ticks\": \"\"}, \"bgcolor\": \"#E5ECF6\", \"caxis\": {\"gridcolor\": \"white\", \"linecolor\": \"white\", \"ticks\": \"\"}}, \"title\": {\"x\": 0.05}, \"xaxis\": {\"automargin\": true, \"gridcolor\": \"white\", \"linecolor\": \"white\", \"ticks\": \"\", \"title\": {\"standoff\": 15}, \"zerolinecolor\": \"white\", \"zerolinewidth\": 2}, \"yaxis\": {\"automargin\": true, \"gridcolor\": \"white\", \"linecolor\": \"white\", \"ticks\": \"\", \"title\": {\"standoff\": 15}, \"zerolinecolor\": \"white\", \"zerolinewidth\": 2}}}, \"width\": 500, \"xaxis\": {\"range\": [-1.2083045973594573, 1.2083045973594573]}, \"yaxis\": {\"range\": [-1.2083045973594573, 1.2083045973594573]}},\n",
       "                        {\"responsive\": true}\n",
       "                    ).then(function(){\n",
       "                            \n",
       "var gd = document.getElementById('dca80dc5-3bfa-458d-9aab-94eb088ed48c');\n",
       "var x = new MutationObserver(function (mutations, observer) {{\n",
       "        var display = window.getComputedStyle(gd).display;\n",
       "        if (!display || display === 'none') {{\n",
       "            console.log([gd, 'removed!']);\n",
       "            Plotly.purge(gd);\n",
       "            observer.disconnect();\n",
       "        }}\n",
       "}});\n",
       "\n",
       "// Listen for the removal of the full notebook cells\n",
       "var notebookContainer = gd.closest('#notebook-container');\n",
       "if (notebookContainer) {{\n",
       "    x.observe(notebookContainer, {childList: true});\n",
       "}}\n",
       "\n",
       "// Listen for the clearing of the current output cell\n",
       "var outputEl = gd.closest('.output');\n",
       "if (outputEl) {{\n",
       "    x.observe(outputEl, {childList: true});\n",
       "}}\n",
       "\n",
       "                        })\n",
       "                };\n",
       "                });\n",
       "            </script>\n",
       "        </div>"
      ]
     },
     "metadata": {},
     "output_type": "display_data"
    }
   ],
   "source": [
    "vectors = [\n",
    "    np.array([1, 0]),\n",
    "    np.array([0.5, -1.1]),\n",
    "    np.array([-1, 0.3])\n",
    "]\n",
    "\n",
    "py.iplot(plot_vectors_rotations(vectors, steps=10),\n",
    "         filename='2D Vector Rotations')"
   ]
  },
  {
   "cell_type": "code",
   "execution_count": null,
   "metadata": {},
   "outputs": [],
   "source": []
  }
 ],
 "metadata": {
  "kernelspec": {
   "display_name": "Python 3",
   "language": "python",
   "name": "python3"
  },
  "language_info": {
   "codemirror_mode": {
    "name": "ipython",
    "version": 3
   },
   "file_extension": ".py",
   "mimetype": "text/x-python",
   "name": "python",
   "nbconvert_exporter": "python",
   "pygments_lexer": "ipython3",
   "version": "3.7.8"
  }
 },
 "nbformat": 4,
 "nbformat_minor": 4
}
