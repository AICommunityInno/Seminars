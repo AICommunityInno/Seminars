{
 "cells": [
  {
   "cell_type": "markdown",
   "metadata": {},
   "source": [
    "Данный материал основан на статье [A Quick Introduction to Neural Networks](https://ujjwalkarn.me/2016/08/09/quick-intro-neural-networks/)"
   ]
  },
  {
   "cell_type": "markdown",
   "metadata": {},
   "source": [
    "## Что такое ИНС"
   ]
  },
  {
   "cell_type": "markdown",
   "metadata": {},
   "source": [
    "**Искусственная нейроная сеть** - это математическая модель, которая грубо приближает работу человеческого мозга.  \n",
    "Является одним из методов машинного обучения."
   ]
  },
  {
   "cell_type": "markdown",
   "metadata": {},
   "source": [
    "### Нейрон"
   ]
  },
  {
   "cell_type": "markdown",
   "metadata": {},
   "source": [
    "Нейрон - наименьшая единица в нейронной сети. Он представляет некоторую функцию $f$ (обычно нелинейную) от его входов. Каждый вход имеет свой вес $w$, так чтобы нейрон мог отдавать приоритет каким-то из входов больше, чем другим.\n",
    "\n",
    "![Нейрон](images/neuron.png)"
   ]
  },
  {
   "cell_type": "markdown",
   "metadata": {},
   "source": [
    "В общем виде, нейрон делает следующее преобразование:\n",
    "$$y = f(\\sum_{i=1}^M{x_i \\cdot w_i} + b)$$"
   ]
  },
  {
   "cell_type": "markdown",
   "metadata": {},
   "source": [
    "Функции $f$ обычно нелинейные, иначе модель свернулась бы к простой линейной регрессии. Несколько примеров нелинейных функций, которые обычно приментяются в нейронных сетях:\n",
    "\n",
    "$$\\text{1. Sigmoid: } \\sigma(x) = \\frac{1}{1+e^{-x}}$$  \n",
    "$$\\text{2. Hyperbolic tanh: } tanh(x)=\\frac{e^{-x} - e^x}{e^{-x} + e^x}$$  \n",
    "$$\\text{3. ReLU (Rectified Linear Unit): } f(x)=max\\{0, x\\}$$\n",
    "\n",
    "![Функции активации](images/activation_funcs.png)"
   ]
  },
  {
   "cell_type": "markdown",
   "metadata": {},
   "source": [
    "### Feedforward сеть"
   ]
  },
  {
   "cell_type": "markdown",
   "metadata": {},
   "source": [
    "Представляет собой прямую последовательность слоев из нейронов, связи между которыми не формируют цикл ([Википедия](https://en.wikipedia.org/wiki/Feedforward_neural_network))\n",
    "\n",
    "![Однослойная Feedforward сеть](images/ff_net.png)"
   ]
  },
  {
   "cell_type": "markdown",
   "metadata": {},
   "source": [
    "**Входной слой** представляет из себя значения по каждому признаку исследуемого объекта.  \n",
    "**Скрытые слои** содержат закодированную информацию из предыдущего слоя. Этих слоев может быть $\\geq 0$  \n",
    "**Выходной слой** является \"презентором\" закодированной сетью информацией. Например, может выдавать класс, к которому принадлежит объект в задаче классификации."
   ]
  },
  {
   "cell_type": "markdown",
   "metadata": {},
   "source": [
    "Однослойный перцептрон содержит $0$ скрытых слоев, многослойный - содержит более $\\geq 1$ скрытых слоев."
   ]
  }
 ],
 "metadata": {
  "kernelspec": {
   "display_name": "Python 3",
   "language": "python",
   "name": "python3"
  },
  "language_info": {
   "codemirror_mode": {
    "name": "ipython",
    "version": 3
   },
   "file_extension": ".py",
   "mimetype": "text/x-python",
   "name": "python",
   "nbconvert_exporter": "python",
   "pygments_lexer": "ipython3",
   "version": "3.6.2"
  }
 },
 "nbformat": 4,
 "nbformat_minor": 2
}
