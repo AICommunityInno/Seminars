{
 "cells": [
  {
   "cell_type": "markdown",
   "metadata": {},
   "source": [
    "# AI Community @ Семинар  №3\n",
    "## Домашнее задание 2\n",
    "### Базовое решение конкурса"
   ]
  },
  {
   "cell_type": "code",
   "execution_count": 68,
   "metadata": {
    "collapsed": true
   },
   "outputs": [],
   "source": [
    "import pandas as pd\n",
    "import numpy as np\n",
    "\n",
    "from sklearn import linear_model"
   ]
  },
  {
   "cell_type": "code",
   "execution_count": 69,
   "metadata": {
    "collapsed": false
   },
   "outputs": [],
   "source": [
    "# Считаем данные\n",
    "train = pd.read_csv('data/data-train.csv', parse_dates=['Timestamp'])\n",
    "test = pd.read_csv('data/data-test.csv', parse_dates=['Timestamp'])"
   ]
  },
  {
   "cell_type": "code",
   "execution_count": 166,
   "metadata": {
    "collapsed": false
   },
   "outputs": [
    {
     "data": {
      "text/html": [
       "<div>\n",
       "<style>\n",
       "    .dataframe thead tr:only-child th {\n",
       "        text-align: right;\n",
       "    }\n",
       "\n",
       "    .dataframe thead th {\n",
       "        text-align: left;\n",
       "    }\n",
       "\n",
       "    .dataframe tbody tr th {\n",
       "        vertical-align: top;\n",
       "    }\n",
       "</style>\n",
       "<table border=\"1\" class=\"dataframe\">\n",
       "  <thead>\n",
       "    <tr style=\"text-align: right;\">\n",
       "      <th></th>\n",
       "      <th>ID</th>\n",
       "      <th>Timestamp</th>\n",
       "      <th>Location</th>\n",
       "      <th>Category</th>\n",
       "    </tr>\n",
       "  </thead>\n",
       "  <tbody>\n",
       "    <tr>\n",
       "      <th>0</th>\n",
       "      <td>152187</td>\n",
       "      <td>2016-03-30 12:18:52.537</td>\n",
       "      <td>8</td>\n",
       "      <td>0</td>\n",
       "    </tr>\n",
       "    <tr>\n",
       "      <th>1</th>\n",
       "      <td>322276</td>\n",
       "      <td>2016-09-07 17:43:37.960</td>\n",
       "      <td>6</td>\n",
       "      <td>1</td>\n",
       "    </tr>\n",
       "    <tr>\n",
       "      <th>2</th>\n",
       "      <td>306252</td>\n",
       "      <td>2016-08-28 09:41:10.850</td>\n",
       "      <td>1</td>\n",
       "      <td>1</td>\n",
       "    </tr>\n",
       "  </tbody>\n",
       "</table>\n",
       "</div>"
      ],
      "text/plain": [
       "       ID               Timestamp  Location  Category\n",
       "0  152187 2016-03-30 12:18:52.537         8         0\n",
       "1  322276 2016-09-07 17:43:37.960         6         1\n",
       "2  306252 2016-08-28 09:41:10.850         1         1"
      ]
     },
     "execution_count": 166,
     "metadata": {},
     "output_type": "execute_result"
    }
   ],
   "source": [
    "train.head(3)"
   ]
  },
  {
   "cell_type": "code",
   "execution_count": 167,
   "metadata": {
    "collapsed": false
   },
   "outputs": [
    {
     "data": {
      "text/html": [
       "<div>\n",
       "<style>\n",
       "    .dataframe thead tr:only-child th {\n",
       "        text-align: right;\n",
       "    }\n",
       "\n",
       "    .dataframe thead th {\n",
       "        text-align: left;\n",
       "    }\n",
       "\n",
       "    .dataframe tbody tr th {\n",
       "        vertical-align: top;\n",
       "    }\n",
       "</style>\n",
       "<table border=\"1\" class=\"dataframe\">\n",
       "  <thead>\n",
       "    <tr style=\"text-align: right;\">\n",
       "      <th></th>\n",
       "      <th>ID</th>\n",
       "      <th>Location</th>\n",
       "      <th>Timestamp</th>\n",
       "    </tr>\n",
       "  </thead>\n",
       "  <tbody>\n",
       "    <tr>\n",
       "      <th>0</th>\n",
       "      <td>662032</td>\n",
       "      <td>6</td>\n",
       "      <td>2017-08-25 12:02:07.603</td>\n",
       "    </tr>\n",
       "    <tr>\n",
       "      <th>1</th>\n",
       "      <td>527522</td>\n",
       "      <td>6</td>\n",
       "      <td>2017-03-11 08:39:41.213</td>\n",
       "    </tr>\n",
       "    <tr>\n",
       "      <th>2</th>\n",
       "      <td>443572</td>\n",
       "      <td>6</td>\n",
       "      <td>2016-12-11 13:30:50.660</td>\n",
       "    </tr>\n",
       "  </tbody>\n",
       "</table>\n",
       "</div>"
      ],
      "text/plain": [
       "       ID  Location               Timestamp\n",
       "0  662032         6 2017-08-25 12:02:07.603\n",
       "1  527522         6 2017-03-11 08:39:41.213\n",
       "2  443572         6 2016-12-11 13:30:50.660"
      ]
     },
     "execution_count": 167,
     "metadata": {},
     "output_type": "execute_result"
    }
   ],
   "source": [
    "test.head(3)"
   ]
  },
  {
   "cell_type": "code",
   "execution_count": 281,
   "metadata": {
    "collapsed": false
   },
   "outputs": [],
   "source": [
    "# Вычленим признаки\n",
    "train_dayofweek = train.Timestamp.dt.dayofweek\n",
    "train_early = train.Timestamp.dt.hour < 12\n",
    "train_weekofyear = train.Timestamp.dt.weekofyear\n",
    "train_month = train.Timestamp.dt.month < 8\n",
    "# train_year = train.Timestamp.dt.year\n",
    "train_loc = train.Location == 8"
   ]
  },
  {
   "cell_type": "code",
   "execution_count": 282,
   "metadata": {
    "collapsed": true
   },
   "outputs": [],
   "source": [
    "###\n",
    "test_dayofweek = test.Timestamp.dt.dayofweek\n",
    "test_early = test.Timestamp.dt.hour < 12\n",
    "test_weekofyear = test.Timestamp.dt.weekofyear\n",
    "test_month = test.Timestamp.dt.month < 8\n",
    "# test_year = test.Timestamp.dt.year\n",
    "test_loc = test.Location == 8"
   ]
  },
  {
   "cell_type": "code",
   "execution_count": 283,
   "metadata": {
    "collapsed": false,
    "scrolled": false
   },
   "outputs": [
    {
     "data": {
      "image/png": "[encoded data removed]",
      "text/plain": [
       "<matplotlib.figure.Figure at 0x7fcfcc98d0f0>"
      ]
     },
     "metadata": {},
     "output_type": "display_data"
    }
   ],
   "source": [
    "import matplotlib.pyplot as plt\n",
    "%matplotlib inline\n",
    "\n",
    "fig, ax = plt.subplots(4, 2, figsize=(20,7))\n",
    "plt.setp([ax[0]], xticks=range(0, 23, 1))\n",
    "#\n",
    "c0 = train[train.Category == 0]\n",
    "c1 = train[train.Category == 1]\n",
    "#\n",
    "ax[0][0].hist(c0.Timestamp.dt.hour)\n",
    "ax[0][1].hist(c1.Timestamp.dt.hour)\n",
    "ax[1][0].hist(c0.Timestamp.dt.dayofweek)\n",
    "ax[1][1].hist(c1.Timestamp.dt.dayofweek)\n",
    "ax[2][0].hist(c0.Timestamp.dt.month)\n",
    "ax[2][1].hist(c1.Timestamp.dt.month)\n",
    "ax[3][0].hist(c0.Timestamp.dt.day)\n",
    "ax[3][1].hist(c1.Timestamp.dt.day)\n",
    "plt.show()"
   ]
  },
  {
   "cell_type": "code",
   "execution_count": 284,
   "metadata": {
    "collapsed": false
   },
   "outputs": [],
   "source": [
    "train_features = pd.DataFrame({\n",
    "    'dow': train_dayofweek,\n",
    "    'month' : train_month,\n",
    "    'early': train_early,\n",
    "    'loc': train_loc,\n",
    "    'weekofyear': train_weekofyear\n",
    "})\n",
    "\n",
    "test_features = pd.DataFrame({\n",
    "    'dow': test_dayofweek,\n",
    "    'month' : test_month,\n",
    "    'early': test_early,\n",
    "    'loc': test_loc,\n",
    "    'weekofyear': test_weekofyear\n",
    "})"
   ]
  },
  {
   "cell_type": "code",
   "execution_count": 287,
   "metadata": {
    "collapsed": false
   },
   "outputs": [],
   "source": [
    "# Обучим линейную регрессию\n",
    "clf = linear_model.LogisticRegression()\n",
    "\n",
    "clf.fit(train_features, train.Category)\n",
    "regression_result = clf.predict(test_features)\n",
    "train_test_result = clf.predict(train_features)\n",
    "predicted_categories = (regression_result > np.median(regression_result)).astype(int)"
   ]
  },
  {
   "cell_type": "code",
   "execution_count": 291,
   "metadata": {
    "collapsed": false
   },
   "outputs": [
    {
     "name": "stdout",
     "output_type": "stream",
     "text": [
      "0.745033700694\n",
      "Cross-validation (accuracy) [ 0.74346841  0.74487262  0.74599247]\n"
     ]
    }
   ],
   "source": [
    "from sklearn.metrics import accuracy_score\n",
    "from sklearn.model_selection import cross_val_score\n",
    "\n",
    "pred_test = (train_test_result > np.median(train_test_result))\n",
    "print(accuracy_score(pred_test, train.Category))\n",
    "\n",
    "print('Cross-validation (accuracy)', cross_val_score(clf, train_features, train.Category, cv=3))"
   ]
  },
  {
   "cell_type": "code",
   "execution_count": 289,
   "metadata": {
    "collapsed": false
   },
   "outputs": [],
   "source": [
    "# Сохраниим предсказания\n",
    "pd.DataFrame({\n",
    "    'id': test.ID,\n",
    "    'category': predicted_categories\n",
    "}).to_csv('submission.csv', index=False)"
   ]
  },
  {
   "cell_type": "code",
   "execution_count": null,
   "metadata": {
    "collapsed": true
   },
   "outputs": [],
   "source": []
  }
 ],
 "metadata": {
  "kernelspec": {
   "display_name": "Python 3",
   "language": "python",
   "name": "python3"
  },
  "language_info": {
   "codemirror_mode": {
    "name": "ipython",
    "version": 3
   },
   "file_extension": ".py",
   "mimetype": "text/x-python",
   "name": "python",
   "nbconvert_exporter": "python",
   "pygments_lexer": "ipython3",
   "version": "3.6.0"
  },
  "toc": {
   "nav_menu": {},
   "number_sections": true,
   "sideBar": true,
   "skip_h1_title": false,
   "toc_cell": false,
   "toc_position": {},
   "toc_section_display": "block",
   "toc_window_display": false
  },
  "varInspector": {
   "cols": {
    "lenName": 16,
    "lenType": 16,
    "lenVar": 40
   },
   "kernels_config": {
    "python": {
     "delete_cmd_postfix": "",
     "delete_cmd_prefix": "del ",
     "library": "var_list.py",
     "varRefreshCmd": "print(var_dic_list())"
    },
    "r": {
     "delete_cmd_postfix": ") ",
     "delete_cmd_prefix": "rm(",
     "library": "var_list.r",
     "varRefreshCmd": "cat(var_dic_list()) "
    }
   },
   "types_to_exclude": [
    "module",
    "function",
    "builtin_function_or_method",
    "instance",
    "_Feature"
   ],
   "window_display": false
  }
 },
 "nbformat": 4,
 "nbformat_minor": 2
}
